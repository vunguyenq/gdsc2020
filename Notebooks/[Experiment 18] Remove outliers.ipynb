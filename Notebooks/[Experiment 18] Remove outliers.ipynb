{
 "cells": [
  {
   "cell_type": "code",
   "execution_count": 1,
   "metadata": {},
   "outputs": [],
   "source": [
    "import sys\n",
    "sys.path.insert(0, '..')\n",
    "import numpy as np\n",
    "import pandas as pd\n",
    "import tensorflow as tf\n",
    "from pathlib import Path\n",
    "from matplotlib.pyplot import imshow\n",
    "from pathlib import Path\n",
    "from itertools import combinations\n",
    "#from src.data.process_dataset import DataGeneratorFromEmbeddings\n",
    "from src.src_data_process_dataset import DataGeneratorFromEmbeddings\n",
    "from sklearn.metrics.pairwise import cosine_similarity\n",
    "from tensorflow.keras import backend as K\n",
    "from tensorflow.keras.applications import MobileNet\n",
    "from tensorflow.keras.applications.mobilenet import preprocess_input\n",
    "from tensorflow.keras.preprocessing.image import load_img, img_to_array\n",
    "from tensorflow.keras.models import Model\n",
    "from tensorflow.keras.layers import Input, Lambda, Dense\n",
    "from tensorflow.keras.initializers import RandomNormal\n",
    "import matplotlib.pyplot as plt"
   ]
  },
  {
   "cell_type": "code",
   "execution_count": 4,
   "metadata": {},
   "outputs": [],
   "source": [
    "BATCH_SIZE = 32\n",
    "\n",
    "def load_image(img_path):\n",
    "    img = tf.io.read_file(img_path)\n",
    "    img = tf.image.decode_jpeg(img, channels=3)\n",
    "    img = tf.image.resize(img, [IMG_HEIGHT, IMG_WIDTH])  # Resize image to 224x224 pixels\n",
    "    img = preprocess_input(img)  # Do additional preprocessing that is required for MobileNet\n",
    "    return img"
   ]
  },
  {
   "cell_type": "markdown",
   "metadata": {},
   "source": [
    "# Recompute edge line assessment for exp 17.1"
   ]
  },
  {
   "cell_type": "markdown",
   "metadata": {},
   "source": [
    "## Recompute & store assessment scores"
   ]
  },
  {
   "cell_type": "code",
   "execution_count": 5,
   "metadata": {},
   "outputs": [
    {
     "name": "stdout",
     "output_type": "stream",
     "text": [
      "Anchor edge line: ../experiments/17.1.remove_minor_segments_thres_0.3/test-val/PM-WWA-20170818-292.jpg\n",
      "Embedding test_val images\n",
      "Embedding train images\n"
     ]
    },
    {
     "data": {
      "image/png": "[encoded data removed]",
      "text/plain": [
       "<Figure size 720x216 with 1 Axes>"
      ]
     },
     "metadata": {
      "needs_background": "light"
     },
     "output_type": "display_data"
    }
   ],
   "source": [
    "IMG_HEIGHT = 224\n",
    "IMG_WIDTH = 224\n",
    "\n",
    "TRAIN_PATH = '../experiments/17.1.remove_minor_segments_thres_0.3/train/'\n",
    "TEST_PATH = '../experiments/17.1.remove_minor_segments_thres_0.3/test-val/'\n",
    "COMPARE_IMG_PATH = '../experiments/17.1.remove_minor_segments_thres_0.3/test-val/PM-WWA-20170818-292.jpg'\n",
    "#OUT_FILE = '../experiments/13.3.tuning_edges_new_train_data/' + '39.csv'\n",
    "\n",
    "# DEFAULT TUTORIAL 2\n",
    "model = MobileNet(weights='imagenet', include_top=False, pooling='avg', input_shape=(IMG_HEIGHT, IMG_WIDTH, 3)) \n",
    "\n",
    "train_data_path = Path(TRAIN_PATH)\n",
    "train_files_paths = list(train_data_path.glob('*/*.jpg'))  # All file paths\n",
    "train_files_names = [p.name for p in train_files_paths]  # Only the file names without the full path\n",
    "train_files_classes = [p.parent.name for p in train_files_paths]  # The parent directory, i.e. the whale ID, for each image\n",
    "\n",
    "test_data_path = Path(TEST_PATH)\n",
    "test_files_paths = list(test_data_path.glob('*.jpg'))\n",
    "test_files_names = [p.name for p in test_files_paths]\n",
    "\n",
    "train_files = tf.data.Dataset.from_tensor_slices(list(map(str, train_files_paths)))  # Convert paths to strings\n",
    "train_ds = train_files.map(load_image)  # Apply the load_image function to every image\n",
    "train_ds = train_ds.batch(BATCH_SIZE)  # Set the batch size\n",
    "\n",
    "test_files = tf.data.Dataset.from_tensor_slices(list(map(str, test_files_paths)))\n",
    "test_ds = test_files.map(load_image)\n",
    "test_ds = test_ds.batch(BATCH_SIZE)\n",
    "\n",
    "# Selected anchor image\n",
    "print('Anchor edge line: {}'.format(COMPARE_IMG_PATH))\n",
    "selected_img = load_img(COMPARE_IMG_PATH)\n",
    "plt.figure(figsize=(10,3))\n",
    "plt.imshow(selected_img)\n",
    "\n",
    "# Compute embedding for selected \"typical\" image\n",
    "compare_file_path = [Path(COMPARE_IMG_PATH)]\n",
    "compare_file = tf.data.Dataset.from_tensor_slices(list(map(str, compare_file_path)))\n",
    "compare_file_ds = compare_file.map(load_image)\n",
    "compare_file_ds = compare_file_ds.batch(BATCH_SIZE)\n",
    "embed_compare = model.predict(compare_file_ds)\n",
    "\n",
    "# Compute embedding for all test_val images\n",
    "print('Embedding test_val images')\n",
    "embed_test = model.predict(test_ds)\n",
    "# Compute cosine similarity of all test images vs compare image\n",
    "similarity_matrix = cosine_similarity(embed_test, embed_compare)\n",
    "test_similarity_scores = similarity_matrix[:,0]\n",
    "\n",
    "# Compute embedding for all test_val images\n",
    "print('Embedding train images')\n",
    "embed_train = model.predict(train_ds)\n",
    "# Compute cosine similarity of all test images vs compare image\n",
    "similarity_matrix_train = cosine_similarity(embed_train, embed_compare)\n",
    "train_similarity_scores = similarity_matrix_train[:,0]"
   ]
  },
  {
   "cell_type": "code",
   "execution_count": 6,
   "metadata": {},
   "outputs": [
    {
     "name": "stdout",
     "output_type": "stream",
     "text": [
      "3956 3956 808 808\n"
     ]
    }
   ],
   "source": [
    "print(len(train_similarity_scores),len(train_files_paths),len(test_similarity_scores),len(test_files_paths))"
   ]
  },
  {
   "cell_type": "code",
   "execution_count": 7,
   "metadata": {},
   "outputs": [
    {
     "data": {
      "text/html": [
       "<div>\n",
       "<style scoped>\n",
       "    .dataframe tbody tr th:only-of-type {\n",
       "        vertical-align: middle;\n",
       "    }\n",
       "\n",
       "    .dataframe tbody tr th {\n",
       "        vertical-align: top;\n",
       "    }\n",
       "\n",
       "    .dataframe thead th {\n",
       "        text-align: right;\n",
       "    }\n",
       "</style>\n",
       "<table border=\"1\" class=\"dataframe\">\n",
       "  <thead>\n",
       "    <tr style=\"text-align: right;\">\n",
       "      <th></th>\n",
       "      <th>filename</th>\n",
       "      <th>filepath</th>\n",
       "      <th>score</th>\n",
       "    </tr>\n",
       "  </thead>\n",
       "  <tbody>\n",
       "    <tr>\n",
       "      <th>313</th>\n",
       "      <td>PM-WWA-20170818-292.jpg</td>\n",
       "      <td>..\\experiments\\17.1.remove_minor_segments_thre...</td>\n",
       "      <td>1.000000</td>\n",
       "    </tr>\n",
       "    <tr>\n",
       "      <th>175</th>\n",
       "      <td>PM-WWA-20170706-637.jpg</td>\n",
       "      <td>..\\experiments\\17.1.remove_minor_segments_thre...</td>\n",
       "      <td>0.961540</td>\n",
       "    </tr>\n",
       "    <tr>\n",
       "      <th>547</th>\n",
       "      <td>PM-WWA-20180710-354.jpg</td>\n",
       "      <td>..\\experiments\\17.1.remove_minor_segments_thre...</td>\n",
       "      <td>0.958881</td>\n",
       "    </tr>\n",
       "    <tr>\n",
       "      <th>798</th>\n",
       "      <td>PM-WWA-20181019-067.jpg</td>\n",
       "      <td>..\\experiments\\17.1.remove_minor_segments_thre...</td>\n",
       "      <td>0.958138</td>\n",
       "    </tr>\n",
       "    <tr>\n",
       "      <th>330</th>\n",
       "      <td>PM-WWA-20170911-026.jpg</td>\n",
       "      <td>..\\experiments\\17.1.remove_minor_segments_thre...</td>\n",
       "      <td>0.954751</td>\n",
       "    </tr>\n",
       "    <tr>\n",
       "      <th>...</th>\n",
       "      <td>...</td>\n",
       "      <td>...</td>\n",
       "      <td>...</td>\n",
       "    </tr>\n",
       "    <tr>\n",
       "      <th>388</th>\n",
       "      <td>PM-WWA-20180407-414.jpg</td>\n",
       "      <td>..\\experiments\\17.1.remove_minor_segments_thre...</td>\n",
       "      <td>0.415434</td>\n",
       "    </tr>\n",
       "    <tr>\n",
       "      <th>390</th>\n",
       "      <td>PM-WWA-20180407-427.jpg</td>\n",
       "      <td>..\\experiments\\17.1.remove_minor_segments_thre...</td>\n",
       "      <td>0.412987</td>\n",
       "    </tr>\n",
       "    <tr>\n",
       "      <th>432</th>\n",
       "      <td>PM-WWA-20180522-163.jpg</td>\n",
       "      <td>..\\experiments\\17.1.remove_minor_segments_thre...</td>\n",
       "      <td>0.399362</td>\n",
       "    </tr>\n",
       "    <tr>\n",
       "      <th>58</th>\n",
       "      <td>PM-WWA-20170530-402.jpg</td>\n",
       "      <td>..\\experiments\\17.1.remove_minor_segments_thre...</td>\n",
       "      <td>0.379362</td>\n",
       "    </tr>\n",
       "    <tr>\n",
       "      <th>434</th>\n",
       "      <td>PM-WWA-20180522-176.jpg</td>\n",
       "      <td>..\\experiments\\17.1.remove_minor_segments_thre...</td>\n",
       "      <td>0.375420</td>\n",
       "    </tr>\n",
       "  </tbody>\n",
       "</table>\n",
       "<p>808 rows × 3 columns</p>\n",
       "</div>"
      ],
      "text/plain": [
       "                    filename  \\\n",
       "313  PM-WWA-20170818-292.jpg   \n",
       "175  PM-WWA-20170706-637.jpg   \n",
       "547  PM-WWA-20180710-354.jpg   \n",
       "798  PM-WWA-20181019-067.jpg   \n",
       "330  PM-WWA-20170911-026.jpg   \n",
       "..                       ...   \n",
       "388  PM-WWA-20180407-414.jpg   \n",
       "390  PM-WWA-20180407-427.jpg   \n",
       "432  PM-WWA-20180522-163.jpg   \n",
       "58   PM-WWA-20170530-402.jpg   \n",
       "434  PM-WWA-20180522-176.jpg   \n",
       "\n",
       "                                              filepath     score  \n",
       "313  ..\\experiments\\17.1.remove_minor_segments_thre...  1.000000  \n",
       "175  ..\\experiments\\17.1.remove_minor_segments_thre...  0.961540  \n",
       "547  ..\\experiments\\17.1.remove_minor_segments_thre...  0.958881  \n",
       "798  ..\\experiments\\17.1.remove_minor_segments_thre...  0.958138  \n",
       "330  ..\\experiments\\17.1.remove_minor_segments_thre...  0.954751  \n",
       "..                                                 ...       ...  \n",
       "388  ..\\experiments\\17.1.remove_minor_segments_thre...  0.415434  \n",
       "390  ..\\experiments\\17.1.remove_minor_segments_thre...  0.412987  \n",
       "432  ..\\experiments\\17.1.remove_minor_segments_thre...  0.399362  \n",
       "58   ..\\experiments\\17.1.remove_minor_segments_thre...  0.379362  \n",
       "434  ..\\experiments\\17.1.remove_minor_segments_thre...  0.375420  \n",
       "\n",
       "[808 rows x 3 columns]"
      ]
     },
     "execution_count": 7,
     "metadata": {},
     "output_type": "execute_result"
    }
   ],
   "source": [
    "df_test_score = pd.DataFrame()\n",
    "df_test_score['filename'] = [i.name for i in test_files_paths]\n",
    "df_test_score['filepath'] = test_files_paths\n",
    "df_test_score['score'] = test_similarity_scores \n",
    "df_test_score = df_test_score.sort_values(by=['score'], ascending=False)\n",
    "df_test_score"
   ]
  },
  {
   "cell_type": "code",
   "execution_count": 8,
   "metadata": {},
   "outputs": [
    {
     "data": {
      "text/html": [
       "<div>\n",
       "<style scoped>\n",
       "    .dataframe tbody tr th:only-of-type {\n",
       "        vertical-align: middle;\n",
       "    }\n",
       "\n",
       "    .dataframe tbody tr th {\n",
       "        vertical-align: top;\n",
       "    }\n",
       "\n",
       "    .dataframe thead th {\n",
       "        text-align: right;\n",
       "    }\n",
       "</style>\n",
       "<table border=\"1\" class=\"dataframe\">\n",
       "  <thead>\n",
       "    <tr style=\"text-align: right;\">\n",
       "      <th></th>\n",
       "      <th>filename</th>\n",
       "      <th>filepath</th>\n",
       "      <th>whaleid</th>\n",
       "      <th>score</th>\n",
       "    </tr>\n",
       "  </thead>\n",
       "  <tbody>\n",
       "    <tr>\n",
       "      <th>3715</th>\n",
       "      <td>PM-WWA-20150817-098.jpg</td>\n",
       "      <td>..\\experiments\\17.1.remove_minor_segments_thre...</td>\n",
       "      <td>5739</td>\n",
       "      <td>0.970933</td>\n",
       "    </tr>\n",
       "    <tr>\n",
       "      <th>3886</th>\n",
       "      <td>PM-WWA-20160724-108.jpg</td>\n",
       "      <td>..\\experiments\\17.1.remove_minor_segments_thre...</td>\n",
       "      <td>5893</td>\n",
       "      <td>0.967997</td>\n",
       "    </tr>\n",
       "    <tr>\n",
       "      <th>2868</th>\n",
       "      <td>PM-WWA-20110411-139.jpg</td>\n",
       "      <td>..\\experiments\\17.1.remove_minor_segments_thre...</td>\n",
       "      <td>5019</td>\n",
       "      <td>0.966517</td>\n",
       "    </tr>\n",
       "    <tr>\n",
       "      <th>2312</th>\n",
       "      <td>PM-WWA-20080721-010.jpg</td>\n",
       "      <td>..\\experiments\\17.1.remove_minor_segments_thre...</td>\n",
       "      <td>3650</td>\n",
       "      <td>0.966469</td>\n",
       "    </tr>\n",
       "    <tr>\n",
       "      <th>2617</th>\n",
       "      <td>PM-WWA-20090813-156.jpg</td>\n",
       "      <td>..\\experiments\\17.1.remove_minor_segments_thre...</td>\n",
       "      <td>3850</td>\n",
       "      <td>0.965340</td>\n",
       "    </tr>\n",
       "    <tr>\n",
       "      <th>...</th>\n",
       "      <td>...</td>\n",
       "      <td>...</td>\n",
       "      <td>...</td>\n",
       "      <td>...</td>\n",
       "    </tr>\n",
       "    <tr>\n",
       "      <th>968</th>\n",
       "      <td>PM-WWA-20050609-014.jpg</td>\n",
       "      <td>..\\experiments\\17.1.remove_minor_segments_thre...</td>\n",
       "      <td>2889</td>\n",
       "      <td>0.352653</td>\n",
       "    </tr>\n",
       "    <tr>\n",
       "      <th>1304</th>\n",
       "      <td>PM-WWA-20050823-130.jpg</td>\n",
       "      <td>..\\experiments\\17.1.remove_minor_segments_thre...</td>\n",
       "      <td>3027</td>\n",
       "      <td>0.350414</td>\n",
       "    </tr>\n",
       "    <tr>\n",
       "      <th>1470</th>\n",
       "      <td>PM-WWA-20060615-A119.jpg</td>\n",
       "      <td>..\\experiments\\17.1.remove_minor_segments_thre...</td>\n",
       "      <td>3113</td>\n",
       "      <td>0.337560</td>\n",
       "    </tr>\n",
       "    <tr>\n",
       "      <th>3648</th>\n",
       "      <td>PM-WWA-20150616-013.jpg</td>\n",
       "      <td>..\\experiments\\17.1.remove_minor_segments_thre...</td>\n",
       "      <td>5683</td>\n",
       "      <td>0.335715</td>\n",
       "    </tr>\n",
       "    <tr>\n",
       "      <th>559</th>\n",
       "      <td>PM-WWA-201006029-007.jpg</td>\n",
       "      <td>..\\experiments\\17.1.remove_minor_segments_thre...</td>\n",
       "      <td>2544</td>\n",
       "      <td>0.239977</td>\n",
       "    </tr>\n",
       "  </tbody>\n",
       "</table>\n",
       "<p>3956 rows × 4 columns</p>\n",
       "</div>"
      ],
      "text/plain": [
       "                      filename  \\\n",
       "3715   PM-WWA-20150817-098.jpg   \n",
       "3886   PM-WWA-20160724-108.jpg   \n",
       "2868   PM-WWA-20110411-139.jpg   \n",
       "2312   PM-WWA-20080721-010.jpg   \n",
       "2617   PM-WWA-20090813-156.jpg   \n",
       "...                        ...   \n",
       "968    PM-WWA-20050609-014.jpg   \n",
       "1304   PM-WWA-20050823-130.jpg   \n",
       "1470  PM-WWA-20060615-A119.jpg   \n",
       "3648   PM-WWA-20150616-013.jpg   \n",
       "559   PM-WWA-201006029-007.jpg   \n",
       "\n",
       "                                               filepath whaleid     score  \n",
       "3715  ..\\experiments\\17.1.remove_minor_segments_thre...    5739  0.970933  \n",
       "3886  ..\\experiments\\17.1.remove_minor_segments_thre...    5893  0.967997  \n",
       "2868  ..\\experiments\\17.1.remove_minor_segments_thre...    5019  0.966517  \n",
       "2312  ..\\experiments\\17.1.remove_minor_segments_thre...    3650  0.966469  \n",
       "2617  ..\\experiments\\17.1.remove_minor_segments_thre...    3850  0.965340  \n",
       "...                                                 ...     ...       ...  \n",
       "968   ..\\experiments\\17.1.remove_minor_segments_thre...    2889  0.352653  \n",
       "1304  ..\\experiments\\17.1.remove_minor_segments_thre...    3027  0.350414  \n",
       "1470  ..\\experiments\\17.1.remove_minor_segments_thre...    3113  0.337560  \n",
       "3648  ..\\experiments\\17.1.remove_minor_segments_thre...    5683  0.335715  \n",
       "559   ..\\experiments\\17.1.remove_minor_segments_thre...    2544  0.239977  \n",
       "\n",
       "[3956 rows x 4 columns]"
      ]
     },
     "execution_count": 8,
     "metadata": {},
     "output_type": "execute_result"
    }
   ],
   "source": [
    "df_train_score = pd.DataFrame()\n",
    "df_train_score['filename'] = [i.name for i in train_files_paths]\n",
    "df_train_score['filepath'] = train_files_paths\n",
    "df_train_score['whaleid'] = [i.parent.name for i in train_files_paths]\n",
    "df_train_score['score'] = train_similarity_scores \n",
    "df_train_score = df_train_score.sort_values(by=['score'], ascending=False)\n",
    "df_train_score"
   ]
  },
  {
   "cell_type": "markdown",
   "metadata": {},
   "source": [
    "## Distribution of assessement scores in train images"
   ]
  },
  {
   "cell_type": "code",
   "execution_count": 10,
   "metadata": {},
   "outputs": [
    {
     "data": {
      "text/plain": [
       "{'whiskers': [<matplotlib.lines.Line2D at 0x26f967371c8>,\n",
       "  <matplotlib.lines.Line2D at 0x26f96749ec8>],\n",
       " 'caps': [<matplotlib.lines.Line2D at 0x26f96749f48>,\n",
       "  <matplotlib.lines.Line2D at 0x26f9674fe88>],\n",
       " 'boxes': [<matplotlib.lines.Line2D at 0x26f96745c48>],\n",
       " 'medians': [<matplotlib.lines.Line2D at 0x26f9674ff88>],\n",
       " 'fliers': [<matplotlib.lines.Line2D at 0x26f96756f88>],\n",
       " 'means': []}"
      ]
     },
     "execution_count": 10,
     "metadata": {},
     "output_type": "execute_result"
    },
    {
     "data": {
      "image/png": "[encoded data removed]",
      "text/plain": [
       "<Figure size 1152x360 with 2 Axes>"
      ]
     },
     "metadata": {
      "needs_background": "light"
     },
     "output_type": "display_data"
    }
   ],
   "source": [
    "plt.figure(figsize=(16,5))\n",
    "ax = plt.subplot(1, 2, 1)\n",
    "plt.grid(axis='both')\n",
    "plt.hist(train_similarity_scores,bins=20)\n",
    "ax = plt.subplot(1, 2, 2)\n",
    "plt.grid(axis='both')\n",
    "plt.boxplot(train_similarity_scores)"
   ]
  },
  {
   "cell_type": "markdown",
   "metadata": {},
   "source": [
    "From here we'll decide a threshold from the lower whisker (0.4) to 25% percentile (0.7). Let's see how many train pairs are available with different thresholds."
   ]
  },
  {
   "cell_type": "markdown",
   "metadata": {},
   "source": [
    "## Image statistics after removing outliers with different thresholds"
   ]
  },
  {
   "cell_type": "code",
   "execution_count": 69,
   "metadata": {},
   "outputs": [],
   "source": [
    "def is_similar(pair):\n",
    "    image_one_class = pair[0][1]\n",
    "    image_two_class = pair[1][1]\n",
    "    if image_one_class == image_two_class:\n",
    "        return 1\n",
    "    else:\n",
    "        return 0"
   ]
  },
  {
   "cell_type": "code",
   "execution_count": 78,
   "metadata": {},
   "outputs": [
    {
     "name": "stdout",
     "output_type": "stream",
     "text": [
      "***** THRESHOLD = 0 *****\n",
      "Total whales = 565\n",
      "Total images = 2288\n",
      "Images removed = 1668\n",
      "Total pairs = 2616328\n",
      "Different pairs = 2609067\n",
      "Same pairs = 7261\n",
      "***********************************\n",
      "***** THRESHOLD = 0.4 *****\n",
      "Total whales = 559\n",
      "Total images = 2269\n",
      "Images removed = 1687\n",
      "Total pairs = 2573046\n",
      "Different pairs = 2565832\n",
      "Same pairs = 7214\n",
      "***********************************\n",
      "***** THRESHOLD = 0.45 *****\n",
      "Total whales = 550\n",
      "Total images = 2239\n",
      "Images removed = 1717\n",
      "Total pairs = 2505441\n",
      "Different pairs = 2498327\n",
      "Same pairs = 7114\n",
      "***********************************\n",
      "***** THRESHOLD = 0.5 *****\n",
      "Total whales = 541\n",
      "Total images = 2206\n",
      "Images removed = 1750\n",
      "Total pairs = 2432115\n",
      "Different pairs = 2425120\n",
      "Same pairs = 6995\n",
      "***********************************\n",
      "***** THRESHOLD = 0.55 *****\n",
      "Total whales = 519\n",
      "Total images = 2117\n",
      "Images removed = 1839\n",
      "Total pairs = 2239786\n",
      "Different pairs = 2233119\n",
      "Same pairs = 6667\n",
      "***********************************\n",
      "***** THRESHOLD = 0.6 *****\n",
      "Total whales = 488\n",
      "Total images = 1981\n",
      "Images removed = 1975\n",
      "Total pairs = 1961190\n",
      "Different pairs = 1954925\n",
      "Same pairs = 6265\n",
      "***********************************\n",
      "***** THRESHOLD = 0.65 *****\n",
      "Total whales = 443\n",
      "Total images = 1811\n",
      "Images removed = 2145\n",
      "Total pairs = 1638955\n",
      "Different pairs = 1633158\n",
      "Same pairs = 5797\n",
      "***********************************\n",
      "***** THRESHOLD = 0.7 *****\n",
      "Total whales = 395\n",
      "Total images = 1559\n",
      "Images removed = 2397\n",
      "Total pairs = 1214461\n",
      "Different pairs = 1209530\n",
      "Same pairs = 4931\n",
      "***********************************\n"
     ]
    }
   ],
   "source": [
    "for threshold in [0,0.4,0.45,0.5,0.55,0.6,0.65,0.7]:\n",
    "    # Remove images with similarity score < threshold\n",
    "    df_train_score_filtered = df_train_score[df_train_score['score'] > threshold]\n",
    "    # Remove classes having only 1 image\n",
    "    df_train_2_imgs=df_train_score_filtered[df_train_score_filtered.whaleid.duplicated(keep=False)]\n",
    "\n",
    "    train_files_names_sorted = df_train_2_imgs['filename'].to_list()\n",
    "    train_files_clasess_sorted = df_train_2_imgs['whaleid'].to_list()\n",
    "\n",
    "    train_pairs = list(combinations(zip(train_files_names_sorted, train_files_clasess_sorted), 2))\n",
    "\n",
    "    train_labels = {pair: is_similar(pair) for pair in train_pairs}\n",
    "    total = len(train_labels)\n",
    "    neg_count = sum(value == 0 for value in train_labels.values())\n",
    "    pos_count = sum(value == 1 for value in train_labels.values())\n",
    "    print(f\"***** THRESHOLD = {threshold} *****\")\n",
    "    print(f\"Total whales = {len(set(train_files_clasess_sorted))}\")\n",
    "    print(f\"Total images = {len(train_files_names_sorted)}\")\n",
    "    print(f\"Images removed = {len(df_train_score['filename'].to_list()) - len(train_files_names_sorted)}\")\n",
    "    print(f\"Total pairs = {total}\")\n",
    "    print(f\"Different pairs = {neg_count}\")\n",
    "    print(f\"Same pairs = {pos_count}\")\n",
    "    print(f\"***********************************\")"
   ]
  },
  {
   "cell_type": "markdown",
   "metadata": {},
   "source": [
    "0.65 looks good (also visually verified in \"edge assessment browse.qvw\")"
   ]
  },
  {
   "cell_type": "markdown",
   "metadata": {},
   "source": [
    "# Copy train images without outliers to new dataset"
   ]
  },
  {
   "cell_type": "code",
   "execution_count": 87,
   "metadata": {},
   "outputs": [],
   "source": [
    "import errno\n",
    "import os\n",
    "import shutil"
   ]
  },
  {
   "cell_type": "code",
   "execution_count": 98,
   "metadata": {},
   "outputs": [],
   "source": [
    "# Function to copy file from source to dest, create folder if doesn't exist\n",
    "# https://stackoverflow.com/questions/2793789/create-destination-path-for-shutil-copy-files/3284204\n",
    "def copy_create_path(src, dest):\n",
    "    try:\n",
    "        shutil.copy(src, dest)\n",
    "    except IOError as e:\n",
    "        # ENOENT(2): file does not exist, raised also on missing dest parent dir\n",
    "        if e.errno != errno.ENOENT:\n",
    "            raise\n",
    "        # try creating parent directories\n",
    "        os.makedirs(os.path.dirname(dest))\n",
    "        shutil.copy(src, dest)"
   ]
  },
  {
   "cell_type": "code",
   "execution_count": 104,
   "metadata": {},
   "outputs": [],
   "source": [
    "SCORE_THRESHOLD = 0.65\n",
    "NEW_PATH = '../experiments/18.1.remove_outliers_sim_score_threshold_0.65/train/'\n",
    "\n",
    "#remove images with similarity score < SCORE_THRESHOLD\n",
    "df_train_score_filtered = df_train_score[df_train_score['score'] > SCORE_THRESHOLD]\n",
    "# Remove classes having only 1 image\n",
    "df_train_2_imgs=df_train_score_filtered[df_train_score_filtered.whaleid.duplicated(keep=False)]\n",
    "filtered_train_image_paths = df_train_2_imgs['filepath']\n",
    "for p in filtered_train_image_paths:\n",
    "    old_path = Path(p)\n",
    "    new_path = Path(os.path.join(NEW_PATH, old_path.parent.name, old_path.name))\n",
    "    copy_create_path(old_path, new_path)"
   ]
  },
  {
   "cell_type": "code",
   "execution_count": 100,
   "metadata": {},
   "outputs": [
    {
     "data": {
      "text/plain": [
       "WindowsPath('../experiment/18.1.remove_outliers_sim_score_threshold_0.65/3186/PM-WWA-20110914-005.jpg')"
      ]
     },
     "execution_count": 100,
     "metadata": {},
     "output_type": "execute_result"
    }
   ],
   "source": [
    "new_path"
   ]
  },
  {
   "cell_type": "code",
   "execution_count": null,
   "metadata": {},
   "outputs": [],
   "source": []
  }
 ],
 "metadata": {
  "kernelspec": {
   "display_name": "Python 3",
   "language": "python",
   "name": "python3"
  },
  "language_info": {
   "codemirror_mode": {
    "name": "ipython",
    "version": 3
   },
   "file_extension": ".py",
   "mimetype": "text/x-python",
   "name": "python",
   "nbconvert_exporter": "python",
   "pygments_lexer": "ipython3",
   "version": "3.7.6"
  },
  "toc": {
   "base_numbering": 1,
   "nav_menu": {},
   "number_sections": true,
   "sideBar": true,
   "skip_h1_title": false,
   "title_cell": "Table of Contents",
   "title_sidebar": "Contents",
   "toc_cell": false,
   "toc_position": {
    "height": "calc(100% - 180px)",
    "left": "10px",
    "top": "150px",
    "width": "384px"
   },
   "toc_section_display": true,
   "toc_window_display": true
  }
 },
 "nbformat": 4,
 "nbformat_minor": 4
}
