{
 "cells": [
  {
   "cell_type": "markdown",
   "metadata": {},
   "source": [
    "# Tutorial 1: Exploratory Data Analysis\n",
    "\n",
    "The first step in any data science project is to get a good understanding of the data we're dealing with. The so called exploratory data analysis (EDA). The goal of an EDA is to \n",
    "\n",
    "- Get an understanding of the data and the underlying distributions\n",
    "- Verify that the assumptions made in the business requirements hold. \n",
    "\n",
    "In particular, we need to check if the envisioned use case is actually feasible with the data available.\n",
    "I.e. do we feel confident about identifiying whales based on the data we have?\n",
    "\n",
    "*Notes: *\n",
    "- *If this is your first Jupyter Notebook you might want to read [a general introduction](https://realpython.com/jupyter-notebook-introduction/) first.*\n",
    "- *Do not be afraid to ask (and answer) questions! Check out the [teams channel](https://teams.microsoft.com/l/channel/19%3ac7745f3ce3844cbc9242ee91cedb2517%40thread.skype/Tutorial%25201%2520EDA?groupId=7d77d672-dff1-4c9f-ac55-3c837c1bebf9&tenantId=76a2ae5a-9f00-4f6b-95ed-5d33d77c4d61).*\n"
   ]
  },
  {
   "cell_type": "markdown",
   "metadata": {},
   "source": [
    "### Table of contents:\n",
    "\n",
    "[1. Setting up Python](#section1) <br>\n",
    "[2. How to approach an Exploratory Data Analysis](#section2) <br>\n",
    "&emsp; [2.1. How many images do we have?](#section2.1) <br>\n",
    "&emsp; [2.2. How many different whales exist?](#section2.2) <br>\n",
    "&emsp; [2.3. Cleaning the data](#section2.3) <br>\n",
    "&emsp; [2.4. How many different whales are seen each year?](#section2.4) <br>\n",
    "&emsp; [2.5. How many new whales are seen each year?](#section2.5) <br>\n",
    "&emsp; [2.6. How many images do we have for each whale?](#section2.6) <br>\n",
    "&emsp; [2.7. Summary](#section2.7) <br>\n",
    "[3. Measuring prediction quality](#section3) <br>\n",
    "&emsp; [3.1. How to create a submission file](#section3.1) <br>\n",
    "&emsp; [3.2. Computing the score](#section3.2) <br>\n",
    "&emsp; [3.3. The math behind the score function](#section3.3) <br>\n",
    "&emsp; [3.4. Summary](#section3.4) <br>"
   ]
  },
  {
   "cell_type": "markdown",
   "metadata": {},
   "source": [
    "<a id='section1'></a>\n",
    "# Setting up Python\n",
    "[Python](https://xkcd.com/353/) is not only one of the [most popular progamming languages](https://insights.stackoverflow.com/survey/2019), it is also the [main programming language for AI applications](https://medium.com/analytics-vidhya/evolution-of-a-kaggler-2019-ml-ds-survey-1903610ab67a). We'll use it throughout the tutorials. Even if you have no prior experience, you should be able to understand the main points. For a more thorough introduction, there are many good online courses, e.g. the one by [DataCamp](https://www.datacamp.com/courses/intro-to-python-for-data-science).\n",
    "\n",
    "If you haven't already installed Python, please follow the instructions in our [wiki](http://de-mucingode1.corp.capgemini.com/gitlab/SophieY/global_data_science_challenge_3_public/-/wikis/Installation-Guide-for-Python-Anaconda-Distribution).  \n",
    "If everything went well, you should be able to run the commands below without errors."
   ]
  },
  {
   "cell_type": "markdown",
   "metadata": {},
   "source": [
    "Later in this tutorial, we'll load data from our hard drives and load custom functions. In order for this to work, we need to change the working directory of jupyter notebook, i.e. the directory, from which jupyter notebook is running, is the same as the project home directory. This can be checked with the *pwd* (print-working-directory) command.\n",
    "To run a cell, first click on it and then press **ctrl+enter**. "
   ]
  },
  {
   "cell_type": "code",
   "execution_count": 2,
   "metadata": {},
   "outputs": [
    {
     "data": {
      "text/plain": [
       "'C:\\\\VuNguyen\\\\Study\\\\Capgemini data science challenge 2020\\\\Notebooks'"
      ]
     },
     "execution_count": 2,
     "metadata": {},
     "output_type": "execute_result"
    }
   ],
   "source": [
    "%pwd"
   ]
  },
  {
   "cell_type": "markdown",
   "metadata": {},
   "source": [
    "This should show something along the lines of \n",
    "```\n",
    "'C:\\\\Users\\\\YourName\\\\PycharmProjects\\\\global_data_science_challenge_3\\\\notebooks'\n",
    "```\n",
    "We need to change the working directory to the root directory of the project, i.e.\n",
    "```\n",
    "'C:\\\\Users\\\\YourName\\\\PycharmProjects\\\\global_data_science_challenge_3'\n",
    "```\n",
    "\n",
    "This can be done with the *cd ..* (change directory to the parent directory) command:"
   ]
  },
  {
   "cell_type": "code",
   "execution_count": 3,
   "metadata": {},
   "outputs": [
    {
     "name": "stdout",
     "output_type": "stream",
     "text": [
      "C:\\VuNguyen\\Study\\Capgemini data science challenge 2020\n"
     ]
    }
   ],
   "source": [
    "%cd .."
   ]
  },
  {
   "cell_type": "markdown",
   "metadata": {},
   "source": [
    "Be careful to only run the above cell once. Otherwise you will traverse further down the folder structure. "
   ]
  },
  {
   "cell_type": "markdown",
   "metadata": {},
   "source": [
    "#### Importing the Required Packages\n",
    "The main power of Python comes from its many great libraries. We can import the libraries via"
   ]
  },
  {
   "cell_type": "code",
   "execution_count": 1,
   "metadata": {},
   "outputs": [],
   "source": [
    "import matplotlib.pyplot as plt\n",
    "import pandas as pd  \n",
    "from pathlib import Path"
   ]
  },
  {
   "cell_type": "markdown",
   "metadata": {},
   "source": [
    "A short description of the imports:\n",
    "- **matplotlib.pyplot:** Matplotlib is the defaul plotting library for python. \n",
    "- **pathlib:** provides a way of using operating system dependent functionality such as working with with folders and files on your computer.\n",
    "- **pandas:** Pandas is arguably the most well known Python library. It allows simple and convient data manipulation"
   ]
  },
  {
   "cell_type": "markdown",
   "metadata": {},
   "source": [
    "<font color='blue'>\n",
    "    \n",
    "**Best practice:** \n",
    "- Define all required packages in requirements.txt."
   ]
  },
  {
   "cell_type": "markdown",
   "metadata": {},
   "source": [
    "<a id='section2'></a>\n",
    "# How to approach an Exploratory Data Analysis\n",
    "\n",
    "Lisa provided us her files and pictures from the years 2005 up until 2016. You can find it [here](https://gdsc.ce.capgemini.com/resources/). Download it, and put it in the data folder in a subfolder called *raw*. Your directory structure should look like this:\n",
    "\n",
    "```\n",
    "    ├── global_data_science_challenge_3\n",
    "    │   │\n",
    "    │   ├── data\n",
    "    │   │   ├── raw\n",
    "    │   │   │   ├── Whale Watch Azores 2005\n",
    "    .   .   .   .\n",
    "                └── Whale Watch Azores 2016          \n",
    "```\n",
    "\n",
    "You should have 12 folder,s each containing the data for one year, starting with 2005 and ending with 2016.\n",
    "Each folder contains an excel file and images.\n",
    "\n",
    "- Each image shows the fluke of a whale\n",
    "- The excel files describe which whale can be seen in which image\n",
    "\n",
    "We will use this data to train our machine learning model. Lisa also provides us with data for the years 2017 and 2018 which we will use for the evaluations."
   ]
  },
  {
   "cell_type": "markdown",
   "metadata": {},
   "source": [
    "Our goal is to get a good understanding of the data. Usually, you will start with some initial questions. The answers to these questions will raise more questions, and so on. The EDA is finished, when you run out of questions. \n",
    "\n",
    "For our problem, let's start with the following questions:\n",
    "- How many images do we have?\n",
    "- How many different whales exist?\n",
    "- How many images do we have for each whale?"
   ]
  },
  {
   "cell_type": "markdown",
   "metadata": {},
   "source": [
    "<a id='section2.1'></a>\n",
    "## How many images do we have?\n",
    "\n",
    "We could just answer this question by looking at each folder manually, but it also a great opportunity to get started with some basic python"
   ]
  },
  {
   "cell_type": "code",
   "execution_count": 4,
   "metadata": {},
   "outputs": [],
   "source": [
    "raw_data_folder = Path('data/raw')\n",
    "yearly_folders = list(raw_data_folder.glob('*'))"
   ]
  },
  {
   "cell_type": "code",
   "execution_count": 5,
   "metadata": {},
   "outputs": [
    {
     "name": "stdout",
     "output_type": "stream",
     "text": [
      "There are 445 files in data\\raw\\Whale Watch Azores 2005\n",
      "There are 526 files in data\\raw\\Whale Watch Azores 2006\n",
      "There are 497 files in data\\raw\\Whale Watch Azores 2007\n",
      "There are 433 files in data\\raw\\Whale Watch Azores 2008\n",
      "There are 364 files in data\\raw\\Whale Watch Azores 2009\n",
      "There are 324 files in data\\raw\\Whale Watch Azores 2010\n",
      "There are 395 files in data\\raw\\Whale Watch Azores 2011\n",
      "There are 290 files in data\\raw\\Whale Watch Azores 2012\n",
      "There are 249 files in data\\raw\\Whale Watch Azores 2013\n",
      "There are 319 files in data\\raw\\Whale Watch Azores 2014\n",
      "There are 367 files in data\\raw\\Whale Watch Azores 2015\n",
      "There are 343 files in data\\raw\\Whale Watch Azores 2016\n"
     ]
    }
   ],
   "source": [
    "for year_folder in yearly_folders:\n",
    "    files = len(list(year_folder.glob('*')))  # len returns the number of elements in a list\n",
    "    print(f\"There are {files} files in {year_folder}\")"
   ]
  },
  {
   "cell_type": "markdown",
   "metadata": {},
   "source": [
    "There is quite some variability between the individual years with the number ranging between 523 and 249. At first glance this might indicate a data error, maybe some images are missing. Such strange behaviours should always be discusssed with the business stakeholders. In our case the reason is twofold. \n",
    "\n",
    "- Firstly, whale watching is a seasonal activity and as such the weather has a big influence on the number of trips you can take. On rainy summer can mean very few trips, and hence fewer images. \n",
    "- Secondly, due to hardware constraints Lisa tends to keep very few images per individual per year. In early years, often only a single image. Hence the fewer individuals visit the island, the lower the number of total images.\n",
    "\n",
    "These numbers aren't quite correct since some of the folders also have the excel files. So we would have to substract 1 from the the counts to get the number of image files.\n",
    "\n",
    "**Excercise:**\n",
    "- Change the above code to only count image files"
   ]
  },
  {
   "cell_type": "markdown",
   "metadata": {},
   "source": [
    "**My exercise answer**  "
   ]
  },
  {
   "cell_type": "code",
   "execution_count": 6,
   "metadata": {},
   "outputs": [
    {
     "name": "stdout",
     "output_type": "stream",
     "text": [
      "There are 444 files in data\\raw\\Whale Watch Azores 2005\n",
      "There are 518 files in data\\raw\\Whale Watch Azores 2006\n",
      "There are 495 files in data\\raw\\Whale Watch Azores 2007\n",
      "There are 432 files in data\\raw\\Whale Watch Azores 2008\n",
      "There are 363 files in data\\raw\\Whale Watch Azores 2009\n",
      "There are 323 files in data\\raw\\Whale Watch Azores 2010\n",
      "There are 394 files in data\\raw\\Whale Watch Azores 2011\n",
      "There are 289 files in data\\raw\\Whale Watch Azores 2012\n",
      "There are 248 files in data\\raw\\Whale Watch Azores 2013\n",
      "There are 318 files in data\\raw\\Whale Watch Azores 2014\n",
      "There are 366 files in data\\raw\\Whale Watch Azores 2015\n",
      "There are 342 files in data\\raw\\Whale Watch Azores 2016\n"
     ]
    }
   ],
   "source": [
    "for year_folder in yearly_folders:\n",
    "    files = len(list(year_folder.glob('*.jpg')))  # len returns the number of elements in a list\n",
    "    print(f\"There are {files} files in {year_folder}\")"
   ]
  },
  {
   "cell_type": "markdown",
   "metadata": {},
   "source": [
    "### A picture is worth a thousand words\n",
    "Plots are a great way to convey information. If done properly, a good plot allows the reader to [easily understand complex situations](https://en.wikipedia.org/w/index.php?title=Charles_Joseph_Minard#The_map_of_Napoleon's_Russian_campaign). \n",
    "Matplotlib allows you to create almost any graph imaginable. Check out the awesome [documentation](https://matplotlib.org/3.1.1/tutorials/introductory/pyplot.html) and [examples](https://matplotlib.org/3.1.1/gallery/index.html) for inspiration.\n",
    "\n",
    "We'll start with a plot of the number of files per year."
   ]
  },
  {
   "cell_type": "code",
   "execution_count": 7,
   "metadata": {},
   "outputs": [],
   "source": [
    "# The following line allows us to display the plots directly in the notebook.\n",
    "%matplotlib inline  \n",
    "plt.style.use('seaborn-poster')  # Which style to use, purely cosmetic"
   ]
  },
  {
   "cell_type": "markdown",
   "metadata": {},
   "source": [
    "First, we need to store the data that we want to display. For this we create a list that contains the number of files for each year."
   ]
  },
  {
   "cell_type": "code",
   "execution_count": 8,
   "metadata": {},
   "outputs": [],
   "source": [
    "file_counts = []  # Create an empty list\n",
    "for year_folder in yearly_folders:\n",
    "    files = len(list(year_folder.glob('*')))  # len returns the number of elements in a list\n",
    "    file_counts.append(files)  # Add a new element to the list"
   ]
  },
  {
   "cell_type": "code",
   "execution_count": 9,
   "metadata": {},
   "outputs": [
    {
     "data": {
      "text/plain": [
       "[445, 526, 497, 433, 364, 324, 395, 290, 249, 319, 367, 343]"
      ]
     },
     "execution_count": 9,
     "metadata": {},
     "output_type": "execute_result"
    }
   ],
   "source": [
    "file_counts  # Shows the value of a variable"
   ]
  },
  {
   "cell_type": "code",
   "execution_count": 12,
   "metadata": {},
   "outputs": [
    {
     "data": {
      "image/png": "[encoded data removed]",
      "text/plain": [
       "<Figure size 921.6x633.6 with 1 Axes>"
      ]
     },
     "metadata": {
      "needs_background": "light"
     },
     "output_type": "display_data"
    }
   ],
   "source": [
    "#plt.bar(yearly_folders, file_counts)  # plt.bar is for creating bar charts.\n",
    "plt.bar(range(2005, 2017), file_counts)  # plt.bar is for creating bar charts.\n",
    "plt.title(\"Number of files per year\")  # The title of the plot. Will be shown over the image\n",
    "plt.grid(axis=\"y\") # We want a grind on the y-axis\n",
    "plt.show()  # Actually creates the plot"
   ]
  },
  {
   "cell_type": "markdown",
   "metadata": {},
   "source": [
    "Arguably, the difference between the pictures per year that we noted earlier can be easier grasped in this graph.\n",
    "\n",
    "**Excercise:**\n",
    "- Improve the labels on the x-axis by showing only the years. This can be done with the range function: range(2005, 2017)\n",
    "- Try out different styles and plot types. Which one is the best for our data?"
   ]
  },
  {
   "cell_type": "markdown",
   "metadata": {},
   "source": [
    "<font color='blue'>\n",
    "\n",
    "**Best practice:** \n",
    "- Discuss uncommon behaviours and outliers that you find during the EDA with your business stakeholders\n",
    "- Keep your data in one place, e.g. in the /data subfolder\n",
    "- Always keep a *raw*, meaning unaltered, copy of your data"
   ]
  },
  {
   "cell_type": "markdown",
   "metadata": {},
   "source": [
    "<a id='section2.2'></a>\n",
    "## How many different whales exist?\n",
    "\n",
    "In theory, the excel files tell us which whale can be seen in which image. The first column contains the ID of the whale,\n",
    "the following columns the images in which this whale was seen. For example the excel file from 2005 includes the following entries:\n",
    "\n",
    "Whale id | First image | Second image | ... \n",
    ":--- | :---: | :---: | :---:\n",
    "1756 | IMG_2270-16 |      | ... \n",
    "2824 | PM-WWA-20050413-003a | PM-WWA-20050413-028 | ... \n",
    "\n",
    "I.e. the whale with ID *1756* can be seen in the image with the filename *IMG_2270-16*. The images *PM-WWA-20050413-003a* and \n",
    "*PM-WWA-20050413-028* both show the whale with the ID *2824*. So we should have a clear mapping between ids and images that we should be able to parse without much trouble. But as it turns out things aren't that simple. Below are some examples that are not that easy to understand:\n",
    "\n",
    "Whale id | First image | Second image | Third image | ...\n",
    ":--- |:---:|:---:| :---:| :---:\n",
    "**-1** | PM-WWA-20050416-037 | ... | ... | ...\n",
    "**Bad Pic** |PM-WWA-20050620-042 | ... |... | ...\n",
    "**2929 X** | PM-WWA-20050706-223 (big scallop/nick rt side scallop center left) X | PM-WWA-20050707-275 X | PM-WWA-20050708-380 **X** | PM-WWA-20050709-231 X | PM-WWA-20050709-231 X\n",
    "**2402 (was 3059)** | PM-WWA-20090630-11 (qua 3) | PM-WWA-20090630-49 (qua 3)| PM-WWA-20090630-62 (qua 4) | ...\n",
    "**No Match** | PM-WWA-20050731-158 | ... | ... | ...\n",
    "**Nike 2628** |\tPM-WWA-20060818-151| ... | ... | ...\n",
    "**2529 Wht Spt Notch** | PM-WWA-20050612-33 | PM-WWA-20050619-180 | ... | ...\n",
    "**WWA-20130724-335** |\t20180612-018 | FUT-2013-PM237 | ... | ...\n",
    "**20130907-A134** | 20160725-063 | ... | ... | ...\n",
    "**2005-3007-068** | PM-WWA-20110604-012 | ... | ... | ...\n",
    "**2234  friend of 1198** | 20140903-110 | 20140904-086 | 20140904-273 | 20140919-012\n",
    "**cf of 3529**  | 20150806-007b | 20150806-008  | ... | ... | ...\n",
    "**19's calf from 2007 3397?** | 20160429-347 | 20160429-369 | PM-WWA-20070703-112 | ...\n",
    "**Adirondack - Terra Azul 2011** | WWA-20130531-005 | ... | ... | ...\n",
    "\n",
    "As you can see there are all kinds of exceptions. E.g.\n",
    "\n",
    "* **-1** and **Bad Pic** both denote that the image quality is too bad for identification\n",
    "* **2929 X** is the id 2929, the X says that Lisa was very excited to see this whale.\n",
    "* **No Match** means this is the first time this whale was seen\n",
    "* **cf of 3529** explains that this picture shows the calf of 3529\n",
    "* **Nike** is the nickname of this whale that doubles as an id\n",
    "* **20130907-A134** refers to an older image that shows the same whale. \n",
    "\n",
    "Similary, the image names are hard to parse and even harder to match to the existing files \n",
    "\n",
    "* All images are missing the file extension. Luckily most of them are *.jpg*.\n",
    "* Most images have the format *PM-WWA-DATE-NUMBER*, e.g. *PM-WWA-20050416-037*. Both prefixes can be skipped, e.g. *20180612-018* and *WWA-20130621-033*\n",
    "* In the format, *PM-WWA-DATE-NUMBER* the NUMBER may nor may not be padded with a 0, e.g. *PM-WWA-20090630-62* and *PM-WWA-20110604-012*\n",
    "* and of course there can be typos"
   ]
  },
  {
   "cell_type": "markdown",
   "metadata": {},
   "source": [
    "<a id='section2.3'></a>\n",
    "### Cleaning the data\n",
    "The examples show that we will need to clean the data. This could either be done by manually editing the excel files, or by writing some code that does the cleaning for us. \n",
    "\n",
    "Most of the exceptions like *id + x*, *Bad Pic* or *No Match* can be easily filtered. In the other cases you have to figure out if the problem is common enough to fix it in code or if it appears just once so its easier to fix the data.\n",
    "Most of the more common problems, like dates, calf of and names, can be recognised by [regular expressions](https://en.wikipedia.org/wiki/Regular_expression). Sometimes regular expressions are not enough to identify the whale id. In that case it can be helpful to further filter the informations with if conditions and wordlists.  \n",
    "In cases that the raw id is an reference to older images, you have to format the the parsed date first and then try to find a match in the already processed images to get the correct id. \n",
    "\n",
    "Whenever possible you should aim to avoid manual edits. They are error prone and make it very hard to track what exactly has been changed. If you must do manual cleaning, always make a copy and edit only the copy. \n",
    "\n",
    "We created some code that cleans the data for us. It is stored in the file *make_dataset.py* in the subfolder *src/data*. *make_dataset.py* contains one function called *sort_yearly_folder* that takes a folder and provides us with mappings betweens whale ids and images. Let's try it out."
   ]
  },
  {
   "cell_type": "code",
   "execution_count": 13,
   "metadata": {},
   "outputs": [
    {
     "name": "stderr",
     "output_type": "stream",
     "text": [
      "2020-02-21 09:21:33,739 make_dataset sort_yearly_folder line 367 Sorting data\\raw\\Whale Watch Azores 2005\n",
      "2020-02-21 09:21:34,109 make_dataset parse_excel line 265 Parsing data\\raw\\Whale Watch Azores 2005\\Sperm Whale Matches 2005.xlsx\n",
      "2020-02-21 09:21:34,352 make_dataset parse_excel line 288 No image at row 176 for ID 1543, ['PM-WWA-20050628-082']\n",
      "2020-02-21 09:21:34,372 make_dataset parse_excel line 288 No image at row 184 for ID 2535, ['PM-WWA-20050701-106 ', 'PM-WWA-20050701-118', '1/2 TAIL']\n",
      "2020-02-21 09:21:34,382 make_dataset parse_excel line 288 No image at row 185 for ID 1543, ['PM-WWA-20050701-108', ' 1/2 TAIL GP']\n",
      "2020-02-21 09:21:34,641 make_dataset parse_excel line 288 No image at row 239 for ID 2929, ['PM-WWA-20050708-380 (big scallop/nick rt side scallop center left)', 'PM-WWA-20050706-223 ']\n",
      "2020-02-21 09:21:34,702 make_dataset parse_excel line 288 No image at row 270 for ID 2579, ['PM-WWA-20050712-002 (Wht Head)', 'PM-WWA-20050712-062']\n",
      "2020-02-21 09:21:34,708 make_dataset parse_excel line 288 No image at row 271 for ID 2578, ['PM-WWA-20050712-005 (Chrissy)', 'PM-WWA-20050712-049']\n",
      "2020-02-21 09:21:34,719 make_dataset parse_excel line 288 No image at row 272 for ID 1371, ['PM-WWA-20050712-008 (Scallop Rt end)', 'PM-WWA-20050712-052']\n",
      "2020-02-21 09:21:34,747 make_dataset parse_excel line 288 No image at row 275 for ID 2583, ['PM-WWA-20050712-040  Willie', 'PM-WWA-20050712-064']\n",
      "2020-02-21 09:21:34,751 make_dataset parse_excel line 288 No image at row 276 for ID 2931, ['PM-WWA-20050712-044  wht marks']\n",
      "2020-02-21 09:21:34,763 make_dataset parse_excel line 288 No image at row 277 for ID 2929, ['PM-WWA-20050712-045 Nick/Scallop on rt', 'PM-WWA-20050712-070 X']\n",
      "2020-02-21 09:21:34,771 make_dataset parse_excel line 288 No image at row 279 for ID 2776, ['PM-WWA-20050712-056  (Double Scallop lft)']\n",
      "2020-02-21 09:21:34,776 make_dataset parse_excel line 288 No image at row 280 for ID 2581, ['PM-WWA-20050712-068   (Mum w/ sm cf)']\n",
      "2020-02-21 09:21:34,791 make_dataset parse_excel line 288 No image at row 282 for ID 1039, ['PM-WWA-20050712-075 (End Scallop on Rt w/ Nick - left scallop)']\n",
      "2020-02-21 09:21:34,804 make_dataset parse_excel line 288 No image at row 283 for ID 2582, ['PM-WWA-20050712-077 (Scallops centre Rt & lft)', 'PM-WWA-20050712-095']\n",
      "2020-02-21 09:21:34,809 make_dataset parse_excel line 288 No image at row 284 for ID 2750, ['PM-WWA-20050712-080  (Big Scallop left - Missing Left end)']\n",
      "2020-02-21 09:21:34,824 make_dataset parse_excel line 288 No image at row 285 for ID 2580, ['PM-WWA-20050712-091 (Big Nick Right - Sm nicks left)', 'PM-WWA-20050712-109', 'PM-WWA-20050712-117']\n",
      "2020-02-21 09:21:35,092 make_dataset parse_excel line 288 No image at row 337 for ID 2929, ['PM-WWA-20050722-030 (nick/scallop right)']\n",
      "2020-02-21 09:21:35,104 make_dataset parse_excel line 288 No image at row 338 for ID 2581, ['PM-WWA-20050722-035 (mum w/ sm cf)', 'PM-WWA-20050722-130']\n",
      "2020-02-21 09:21:35,116 make_dataset parse_excel line 288 No image at row 339 for ID 2750, ['PM-WWA-20050722-048 (big scallop lft missing end)', 'PM-WWA-20050722-080', 'PM-WWA-20050722-092']\n",
      "2020-02-21 09:21:35,119 make_dataset parse_excel line 288 No image at row 340 for ID 1039, ['PM-WWA-20050722-078 (scallop rt end w/ nick in it)']\n",
      "2020-02-21 09:21:35,122 make_dataset parse_excel line 288 No image at row 341 for ID 2776, ['PM-WWA-20050722-082 (double scallop lft)']\n",
      "2020-02-21 09:21:35,125 make_dataset parse_excel line 288 No image at row 342 for ID 2579, ['PM-WWA-20050722-085 (wht head)']\n",
      "2020-02-21 09:21:35,133 make_dataset parse_excel line 288 No image at row 343 for ID 2582, ['PM-WWA-20050722-086 (centre scallops)']\n",
      "2020-02-21 09:21:35,139 make_dataset parse_excel line 288 No image at row 344 for ID 2580, ['PM-WWA-20050722-089 (big nick rt sm nicks lft)']\n",
      "2020-02-21 09:21:35,151 make_dataset parse_excel line 288 No image at row 346 for ID 2773, ['PM-WWA-20050722-122 (Sml Scallop rt side Left End Missing)', 'PM-WWA-20050722-168']\n",
      "2020-02-21 09:21:35,155 make_dataset parse_excel line 288 No image at row 347 for ID 2583, ['PM-WWA-20050722-134 (Willie)']\n",
      "2020-02-21 09:21:35,194 make_dataset parse_excel line 288 No image at row 366 for ID 2750, ['PM-WWA-20050726-100 (big scallop lft missing end)', 'PM-WWA-20050726-144']\n",
      "2020-02-21 09:21:35,201 make_dataset parse_excel line 288 No image at row 367 for ID 2937, ['PM-WWA-20050726-104']\n",
      "2020-02-21 09:21:35,205 make_dataset parse_excel line 288 No image at row 368 for ID 2579, ['PM-WWA-20050726-110 (WHT Head)']\n",
      "2020-02-21 09:21:35,212 make_dataset parse_excel line 288 No image at row 369 for ID 2583, ['PM-WWA-20050726-117 (Willie)', 'PM-WWA-20050726-134']\n",
      "2020-02-21 09:21:35,222 make_dataset parse_excel line 288 No image at row 370 for ID 1371, ['PM-WWA-20050726-120 (Scallop Rt end)']\n",
      "2020-02-21 09:21:35,237 make_dataset parse_excel line 288 No image at row 371 for ID 2929, ['PM-WWA-20050726-127 (Nick/Scallop on rt)']\n",
      "2020-02-21 09:21:35,240 make_dataset parse_excel line 288 No image at row 372 for ID 2582, ['PM-WWA-20050726-139 (Centre Scallops)']\n",
      "2020-02-21 09:21:35,250 make_dataset parse_excel line 288 No image at row 373 for ID 2580, ['PM-WWA-20050726-145 (Big Nick Right - Sm nicks left)']\n",
      "2020-02-21 09:21:35,253 make_dataset parse_excel line 288 No image at row 374 for ID 2581, ['PM-WWA-20050726-178 (Mum w/sm cf)']\n",
      "2020-02-21 09:21:35,327 make_dataset parse_excel line 288 No image at row 427 for ID 1746, ['PM-WWA-20050809-127']\n",
      "2020-02-21 09:21:35,331 make_dataset parse_excel line 288 No image at row 428 for ID 2238, ['PM-WWA-20050809-186 (dorsal w/ callus of mum)']\n",
      "2020-02-21 09:21:35,338 make_dataset parse_excel line 288 No image at row 433 for ID 2628, ['PM-WWA-20050810-003 (NIKE)', 84]\n",
      "2020-02-21 09:21:35,344 make_dataset parse_excel line 288 No image at row 434 for ID 2352, ['PM-WWA-20050810-008 (Left nick)']\n",
      "2020-02-21 09:21:35,353 make_dataset parse_excel line 288 No image at row 435 for ID 1746, ['PM-WWA-20050810-016 (Jagged left nicks right)']\n",
      "2020-02-21 09:21:35,356 make_dataset parse_excel line 288 No image at row 436 for ID 1543, ['PM-WWA-20050810-020 (missing lft corner)']\n",
      "2020-02-21 09:21:35,361 make_dataset parse_excel line 288 No image at row 437 for ID 2535, ['PM-WWA-20050810-035 half tail', 'PM-WWA-20050810-112']\n",
      "2020-02-21 09:21:35,367 make_dataset parse_excel line 288 No image at row 438 for ID 2892, ['PM-WWA-20050810-039 (cf of 1543)']\n",
      "2020-02-21 09:21:35,373 make_dataset parse_excel line 288 No image at row 439 for ID 2047, [\"PM-WWA-20050810-049 (2047 Doug's whale)\"]\n",
      "2020-02-21 09:21:35,378 make_dataset parse_excel line 288 No image at row 440 for ID 2238, ['PM-WWA-20050810-082 (mum w/ sm cf scallops both sides)']\n",
      "2020-02-21 09:21:35,386 make_dataset parse_excel line 288 No image at row 441 for ID 2529, ['PM-WWA-20050810-119 (wht spot notch)']\n",
      "2020-02-21 09:21:35,651 make_dataset parse_excel line 288 No image at row 520 for ID 2535, ['PM-WWA-20050829-007 (Half Tail)', 'PM-WWA-20050829-172', 'PM-WWA-20050829-A008']\n",
      "2020-02-21 09:21:35,657 make_dataset parse_excel line 288 No image at row 521 for ID 2628, ['PM-WWA-20050829-014 (Nike)', 'PM-WWA-20050829-A004']\n",
      "2020-02-21 09:21:35,663 make_dataset parse_excel line 288 No image at row 522 for ID 1543, ['PM-WWA-20050829-176 (Missing lft corner)']\n",
      "2020-02-21 09:21:35,668 make_dataset parse_excel line 288 No image at row 523 for ID 2047, ['PM-WWA-20050829-A012 (2047)']\n",
      "2020-02-21 09:21:35,734 make_dataset parse_excel line 288 No image at row 534 for ID 2538, ['PM-WWA-20050831-104 dorsal pic']\n",
      "2020-02-21 09:21:35,758 make_dataset parse_excel line 288 No image at row 546 for ID 2238, ['PM-WWA-20050907-015']\n",
      "2020-02-21 09:21:35,901 make_dataset sort_yearly_folder line 390 0 images have no ID.\n"
     ]
    }
   ],
   "source": [
    "from src.data.make_dataset import sort_yearly_folder\n",
    "data_folder = raw_data_folder / 'Whale Watch Azores 2005'\n",
    "id_to_images, image_to_id, base_id = sort_yearly_folder(str(data_folder))"
   ]
  },
  {
   "cell_type": "markdown",
   "metadata": {},
   "source": [
    "The output tells us which folder and file is being parsed. It also reports multiple errors in the excel files. The rows list an ID and an image, but the image does not exist. We verified with Lisa that this error is due to the way early sightings were recorded and can be ignored. The same holds for errors that *sort_yearly_folder* reports.\n",
    "\n",
    "*sort_yearly_folder* return three different values:\n",
    "\n",
    "- *id_to_images:* is a dictionary that maps whale IDs to a set of all images for the respective whale. Sets in python are collections of elements, which are unique and unordered (meaning they appear in a random order).\n",
    "- *image_to_id:* is a dictionary that maps images to the corresponding whale ID. Every image corresponds to exactly one whale ID, but different images could correspond to the same whale ID.\n",
    "-  *base_id:* A picture that does not already have an assigned ID is automatically assigned a new value, starting with 5000. The next free ID is returned as the *base_id*."
   ]
  },
  {
   "cell_type": "code",
   "execution_count": 14,
   "metadata": {},
   "outputs": [
    {
     "data": {
      "text/plain": [
       "{'1756': {'data\\\\raw\\\\Whale Watch Azores 2005\\\\IMG_2270-16.jpg'},\n",
       " '2824': {'data\\\\raw\\\\Whale Watch Azores 2005\\\\PM-WWA-20050413-003a.jpg'},\n",
       " '2764': {'data\\\\raw\\\\Whale Watch Azores 2005\\\\PM-WWA-20050413-003b.jpg',\n",
       "  'data\\\\raw\\\\Whale Watch Azores 2005\\\\PM-WWA-20050413-029.jpg'},\n",
       " '2825': {'data\\\\raw\\\\Whale Watch Azores 2005\\\\PM-WWA-20050413-006.jpg',\n",
       "  'data\\\\raw\\\\Whale Watch Azores 2005\\\\PM-WWA-20050413-007.jpg'},\n",
       " '2826': {'data\\\\raw\\\\Whale Watch Azores 2005\\\\PM-BIO-20050413-049.jpg',\n",
       "  'data\\\\raw\\\\Whale Watch Azores 2005\\\\PM-WWA-20050413-009.jpg'},\n",
       " '2827': {'data\\\\raw\\\\Whale Watch Azores 2005\\\\PM-WWA-20050413-012.jpg'},\n",
       " '2828': {'data\\\\raw\\\\Whale Watch Azores 2005\\\\PM-WWA-20050413-025.jpg',\n",
       "  'data\\\\raw\\\\Whale Watch Azores 2005\\\\PM-WWA-20050413-026.jpg'},\n",
       " '2830': {'data\\\\raw\\\\Whale Watch Azores 2005\\\\PM-BIO-20050414-116.jpg'},\n",
       " '2829': {'data\\\\raw\\\\Whale Watch Azores 2005\\\\PM-WWA-20050414-096.jpg'},\n",
       " '2831': {'data\\\\raw\\\\Whale Watch Azores 2005\\\\PM-WWA-20050415-081.jpg'},\n",
       " '2832': {'data\\\\raw\\\\Whale Watch Azores 2005\\\\PM-WWA-20050415-085.jpg'},\n",
       " '2833': {'data\\\\raw\\\\Whale Watch Azores 2005\\\\PM-WWA-20050415-088.jpg'},\n",
       " '1736': {'data\\\\raw\\\\Whale Watch Azores 2005\\\\PM-WWA-20050415-092.jpg'},\n",
       " '2834': {'data\\\\raw\\\\Whale Watch Azores 2005\\\\PM-WWA-20050415-140.jpg'},\n",
       " '2835': {'data\\\\raw\\\\Whale Watch Azores 2005\\\\PM-WWA-20050415-167.jpg',\n",
       "  'data\\\\raw\\\\Whale Watch Azores 2005\\\\PM-WWA-20050415-A016.jpg'},\n",
       " '2836': {'data\\\\raw\\\\Whale Watch Azores 2005\\\\PM-WWA-20050415-A002.jpg'},\n",
       " '2837': {'data\\\\raw\\\\Whale Watch Azores 2005\\\\PM-WWA-20050415-A005.jpg'},\n",
       " '2838': {'data\\\\raw\\\\Whale Watch Azores 2005\\\\PM-WWA-20050415-A009.jpg'},\n",
       " '2839': {'data\\\\raw\\\\Whale Watch Azores 2005\\\\PM-WWA-20050415-A022.jpg'},\n",
       " '2840': {'data\\\\raw\\\\Whale Watch Azores 2005\\\\PM-WWA-20050416-009.jpg',\n",
       "  'data\\\\raw\\\\Whale Watch Azores 2005\\\\PM-WWA-20050416-030.jpg'},\n",
       " '2841': {'data\\\\raw\\\\Whale Watch Azores 2005\\\\PM-WWA-20050416-027.jpg'},\n",
       " '2842': {'data\\\\raw\\\\Whale Watch Azores 2005\\\\PM-WWA-20050416-033.jpg'},\n",
       " '-1': {'data\\\\raw\\\\Whale Watch Azores 2005\\\\PM-WWA-20050416-037.jpg',\n",
       "  'data\\\\raw\\\\Whale Watch Azores 2005\\\\PM-WWA-20050513-229.jpg',\n",
       "  'data\\\\raw\\\\Whale Watch Azores 2005\\\\PM-WWA-20050513-243.jpg',\n",
       "  'data\\\\raw\\\\Whale Watch Azores 2005\\\\PM-WWA-20050520-134.jpg',\n",
       "  'data\\\\raw\\\\Whale Watch Azores 2005\\\\PM-WWA-20050612-047.jpg',\n",
       "  'data\\\\raw\\\\Whale Watch Azores 2005\\\\PM-WWA-20050620-042.jpg',\n",
       "  'data\\\\raw\\\\Whale Watch Azores 2005\\\\PM-WWA-20050623-066.jpg',\n",
       "  'data\\\\raw\\\\Whale Watch Azores 2005\\\\PM-WWA-20050625-132.jpg',\n",
       "  'data\\\\raw\\\\Whale Watch Azores 2005\\\\PM-WWA-20050625-133.jpg',\n",
       "  'data\\\\raw\\\\Whale Watch Azores 2005\\\\PM-WWA-20050704-012.jpg',\n",
       "  'data\\\\raw\\\\Whale Watch Azores 2005\\\\PM-WWA-20050706-A004.jpg',\n",
       "  'data\\\\raw\\\\Whale Watch Azores 2005\\\\PM-WWA-20050706-A006.jpg',\n",
       "  'data\\\\raw\\\\Whale Watch Azores 2005\\\\PM-WWA-20050707-365.jpg',\n",
       "  'data\\\\raw\\\\Whale Watch Azores 2005\\\\PM-WWA-20050710-073.jpg',\n",
       "  'data\\\\raw\\\\Whale Watch Azores 2005\\\\PM-WWA-20050710-085.jpg',\n",
       "  'data\\\\raw\\\\Whale Watch Azores 2005\\\\PM-WWA-20050710-088.jpg',\n",
       "  'data\\\\raw\\\\Whale Watch Azores 2005\\\\PM-WWA-20050710-115.jpg',\n",
       "  'data\\\\raw\\\\Whale Watch Azores 2005\\\\PM-WWA-20050714-088.jpg',\n",
       "  'data\\\\raw\\\\Whale Watch Azores 2005\\\\PM-WWA-20050716-183.jpg',\n",
       "  'data\\\\raw\\\\Whale Watch Azores 2005\\\\PM-WWA-20050718-126.jpg',\n",
       "  'data\\\\raw\\\\Whale Watch Azores 2005\\\\PM-WWA-20050722-097.jpg',\n",
       "  'data\\\\raw\\\\Whale Watch Azores 2005\\\\PM-WWA-20050723-081.jpg',\n",
       "  'data\\\\raw\\\\Whale Watch Azores 2005\\\\PM-WWA-20050723-109.jpg',\n",
       "  'data\\\\raw\\\\Whale Watch Azores 2005\\\\PM-WWA-20050723-123.jpg',\n",
       "  'data\\\\raw\\\\Whale Watch Azores 2005\\\\PM-WWA-20050723-195.jpg',\n",
       "  'data\\\\raw\\\\Whale Watch Azores 2005\\\\PM-WWA-20050730-067.jpg',\n",
       "  'data\\\\raw\\\\Whale Watch Azores 2005\\\\PM-WWA-20050730-068.jpg',\n",
       "  'data\\\\raw\\\\Whale Watch Azores 2005\\\\PM-WWA-20050731-116.jpg',\n",
       "  'data\\\\raw\\\\Whale Watch Azores 2005\\\\PM-WWA-20050731-155.jpg',\n",
       "  'data\\\\raw\\\\Whale Watch Azores 2005\\\\PM-WWA-20050731-156.jpg',\n",
       "  'data\\\\raw\\\\Whale Watch Azores 2005\\\\PM-WWA-20050731-159.jpg',\n",
       "  'data\\\\raw\\\\Whale Watch Azores 2005\\\\PM-WWA-20050802-106.jpg',\n",
       "  'data\\\\raw\\\\Whale Watch Azores 2005\\\\PM-WWA-20050803-040.jpg',\n",
       "  'data\\\\raw\\\\Whale Watch Azores 2005\\\\PM-WWA-20050804-007.jpg',\n",
       "  'data\\\\raw\\\\Whale Watch Azores 2005\\\\PM-WWA-20050804-009.jpg',\n",
       "  'data\\\\raw\\\\Whale Watch Azores 2005\\\\PM-WWA-20050804-016.jpg',\n",
       "  'data\\\\raw\\\\Whale Watch Azores 2005\\\\PM-WWA-20050804-033.jpg',\n",
       "  'data\\\\raw\\\\Whale Watch Azores 2005\\\\PM-WWA-20050804-034.jpg',\n",
       "  'data\\\\raw\\\\Whale Watch Azores 2005\\\\PM-WWA-20050806-002.jpg',\n",
       "  'data\\\\raw\\\\Whale Watch Azores 2005\\\\PM-WWA-20050806-003.jpg',\n",
       "  'data\\\\raw\\\\Whale Watch Azores 2005\\\\PM-WWA-20050821-094.jpg',\n",
       "  'data\\\\raw\\\\Whale Watch Azores 2005\\\\PM-WWA-20050821-098.jpg',\n",
       "  'data\\\\raw\\\\Whale Watch Azores 2005\\\\PM-WWA-20050824-036.jpg',\n",
       "  'data\\\\raw\\\\Whale Watch Azores 2005\\\\PM-WWA-20050829-A014.jpg',\n",
       "  'data\\\\raw\\\\Whale Watch Azores 2005\\\\PM-WWA-20050829-A015.jpg',\n",
       "  'data\\\\raw\\\\Whale Watch Azores 2005\\\\PM-WWA-20050831-106.jpg',\n",
       "  'data\\\\raw\\\\Whale Watch Azores 2005\\\\PM-WWA-20050907-018.jpg',\n",
       "  'data\\\\raw\\\\Whale Watch Azores 2005\\\\PM-WWA-20050915-071.jpg',\n",
       "  'data\\\\raw\\\\Whale Watch Azores 2005\\\\PM-WWA-20050915-086.jpg',\n",
       "  'data\\\\raw\\\\Whale Watch Azores 2005\\\\PM-WWA-20050917-017.jpg',\n",
       "  'data\\\\raw\\\\Whale Watch Azores 2005\\\\PM-WWA-20050922-050.jpg',\n",
       "  'data\\\\raw\\\\Whale Watch Azores 2005\\\\PM-WWA-20050922-054.jpg'},\n",
       " '2843': {'data\\\\raw\\\\Whale Watch Azores 2005\\\\PM-WWA-20050502-052.jpg'},\n",
       " '2844': {'data\\\\raw\\\\Whale Watch Azores 2005\\\\PM-WWA-20050503-025.jpg'},\n",
       " '2845': {'data\\\\raw\\\\Whale Watch Azores 2005\\\\PM-WWA-20050503-028.jpg'},\n",
       " '2846': {'data\\\\raw\\\\Whale Watch Azores 2005\\\\PM-WWA-20050511-012.jpg',\n",
       "  'data\\\\raw\\\\Whale Watch Azores 2005\\\\PM-WWA-20050511-048.jpg'},\n",
       " '2847': {'data\\\\raw\\\\Whale Watch Azores 2005\\\\PM-WWA-20050511-020.jpg'},\n",
       " '2848': {'data\\\\raw\\\\Whale Watch Azores 2005\\\\PM-WWA-20050512-097.jpg'},\n",
       " '2849': {'data\\\\raw\\\\Whale Watch Azores 2005\\\\PM-WWA-20050512-100.jpg'},\n",
       " '2850': {'data\\\\raw\\\\Whale Watch Azores 2005\\\\PM-WWA-20050512-102.jpg'},\n",
       " '2851': {'data\\\\raw\\\\Whale Watch Azores 2005\\\\PM-WWA-20050512-106.jpg'},\n",
       " '2852': {'data\\\\raw\\\\Whale Watch Azores 2005\\\\PM-WWA-20050512-109.jpg'},\n",
       " '2853': {'data\\\\raw\\\\Whale Watch Azores 2005\\\\PM-WWA-20050513-226.jpg'},\n",
       " '2854': {'data\\\\raw\\\\Whale Watch Azores 2005\\\\PM-WWA-20050513-230.jpg',\n",
       "  'data\\\\raw\\\\Whale Watch Azores 2005\\\\PM-WWA-20050513-A007.jpg'},\n",
       " '2855': {'data\\\\raw\\\\Whale Watch Azores 2005\\\\PM-WWA-20050513-234.jpg'},\n",
       " '2856': {'data\\\\raw\\\\Whale Watch Azores 2005\\\\PM-WWA-20050513-236.jpg'},\n",
       " '2857': {'data\\\\raw\\\\Whale Watch Azores 2005\\\\PM-WWA-20050513-239.jpg'},\n",
       " '2858': {'data\\\\raw\\\\Whale Watch Azores 2005\\\\PM-WWA-20050513-242.jpg'},\n",
       " '2562': {'data\\\\raw\\\\Whale Watch Azores 2005\\\\PM-WWA-20050513-A032.jpg'},\n",
       " '2859': {'data\\\\raw\\\\Whale Watch Azores 2005\\\\PM-WWA-20050513-A014.jpg'},\n",
       " '2860': {'data\\\\raw\\\\Whale Watch Azores 2005\\\\PM-WWA-20050513-A002.jpg'},\n",
       " '2861': {'data\\\\raw\\\\Whale Watch Azores 2005\\\\PM-WWA-20050513-A029.jpg'},\n",
       " '2737': {'data\\\\raw\\\\Whale Watch Azores 2005\\\\PM-WWA-20050516-019.jpg',\n",
       "  'data\\\\raw\\\\Whale Watch Azores 2005\\\\PM-WWA-20050516-115.jpg',\n",
       "  'data\\\\raw\\\\Whale Watch Azores 2005\\\\PM-WWA-20050516-164.jpg'},\n",
       " '2862': {'data\\\\raw\\\\Whale Watch Azores 2005\\\\PM-WWA-20050516-016.jpg',\n",
       "  'data\\\\raw\\\\Whale Watch Azores 2005\\\\PM-WWA-20050516-034.jpg',\n",
       "  'data\\\\raw\\\\Whale Watch Azores 2005\\\\PM-WWA-20050516-061.jpg'},\n",
       " '2863': {'data\\\\raw\\\\Whale Watch Azores 2005\\\\PM-WWA-20050516-025.jpg',\n",
       "  'data\\\\raw\\\\Whale Watch Azores 2005\\\\PM-WWA-20050516-084.jpg',\n",
       "  'data\\\\raw\\\\Whale Watch Azores 2005\\\\PM-WWA-20050520-150.jpg'},\n",
       " '2864': {'data\\\\raw\\\\Whale Watch Azores 2005\\\\PM-WWA-20050516-029.jpg',\n",
       "  'data\\\\raw\\\\Whale Watch Azores 2005\\\\PM-WWA-20050516-058.jpg'},\n",
       " '2865': {'data\\\\raw\\\\Whale Watch Azores 2005\\\\PM-WWA-20050516-031.jpg',\n",
       "  'data\\\\raw\\\\Whale Watch Azores 2005\\\\PM-WWA-20050516-056.jpg'},\n",
       " '2866': {'data\\\\raw\\\\Whale Watch Azores 2005\\\\PM-WWA-20050516-043.jpg',\n",
       "  'data\\\\raw\\\\Whale Watch Azores 2005\\\\PM-WWA-20050516-092.jpg',\n",
       "  'data\\\\raw\\\\Whale Watch Azores 2005\\\\PM-WWA-20050520-169.jpg'},\n",
       " '2871': {'data\\\\raw\\\\Whale Watch Azores 2005\\\\PM-WWA-20050516-054.jpg',\n",
       "  'data\\\\raw\\\\Whale Watch Azores 2005\\\\PM-WWA-20050516-109.jpg'},\n",
       " '2870': {'data\\\\raw\\\\Whale Watch Azores 2005\\\\PM-WWA-20050516-071.jpg'},\n",
       " '2869': {'data\\\\raw\\\\Whale Watch Azores 2005\\\\PM-WWA-20050516-077.jpg'},\n",
       " '2872': {'data\\\\raw\\\\Whale Watch Azores 2005\\\\PM-WWA-20050516-104.jpg'},\n",
       " '2867': {'data\\\\raw\\\\Whale Watch Azores 2005\\\\PM-WWA-20050520-117.jpg'},\n",
       " '2868': {'data\\\\raw\\\\Whale Watch Azores 2005\\\\PM-WWA-20050520-137.jpg'},\n",
       " '2873': {'data\\\\raw\\\\Whale Watch Azores 2005\\\\PM-WWA-20050520-160.jpg',\n",
       "  'data\\\\raw\\\\Whale Watch Azores 2005\\\\PM-WWA-20050520-161.jpg'},\n",
       " '2875': {'data\\\\raw\\\\Whale Watch Azores 2005\\\\PM-WWA-20050520-182.jpg'},\n",
       " '2874': {'data\\\\raw\\\\Whale Watch Azores 2005\\\\PM-WWA-20050520-173.jpg'},\n",
       " '2876': {'data\\\\raw\\\\Whale Watch Azores 2005\\\\PM-WWA(bio)-20050520-166.jpg'},\n",
       " '2877': {'data\\\\raw\\\\Whale Watch Azores 2005\\\\PM-WWA-20050520-189.jpg'},\n",
       " '2878': {'data\\\\raw\\\\Whale Watch Azores 2005\\\\PM-WWA-20050520-198.jpg'},\n",
       " '2879': {'data\\\\raw\\\\Whale Watch Azores 2005\\\\PM-WWA-20050601-004.jpg'},\n",
       " '2880': {'data\\\\raw\\\\Whale Watch Azores 2005\\\\PM-WWA-20050607-008.jpg'},\n",
       " '2881': {'data\\\\raw\\\\Whale Watch Azores 2005\\\\PM-WWA-20050607-010.jpg'},\n",
       " '2882': {'data\\\\raw\\\\Whale Watch Azores 2005\\\\PM-WWA-20050607-013.jpg',\n",
       "  'data\\\\raw\\\\Whale Watch Azores 2005\\\\PM-WWA-20050607-015.jpg'},\n",
       " '2883': {'data\\\\raw\\\\Whale Watch Azores 2005\\\\PM-WWA-20050607-025.jpg'},\n",
       " '2884': {'data\\\\raw\\\\Whale Watch Azores 2005\\\\PM-WWA-20050607-032.jpg'},\n",
       " '2885': {'data\\\\raw\\\\Whale Watch Azores 2005\\\\PM-WWA-20050608-055.jpg',\n",
       "  'data\\\\raw\\\\Whale Watch Azores 2005\\\\PM-WWA-20050608-A038.jpg'},\n",
       " '2886': {'data\\\\raw\\\\Whale Watch Azores 2005\\\\PM-WWA-20050608-076.jpg'},\n",
       " '2887': {'data\\\\raw\\\\Whale Watch Azores 2005\\\\PM-WWA-20050608-A035.jpg'},\n",
       " '2888': {'data\\\\raw\\\\Whale Watch Azores 2005\\\\PM-WWA-20050609-002.jpg'},\n",
       " '1989': {'data\\\\raw\\\\Whale Watch Azores 2005\\\\PM-WWA-20050609-004.jpg'},\n",
       " '2889': {'data\\\\raw\\\\Whale Watch Azores 2005\\\\PM-WWA-20050609-014.jpg'},\n",
       " '2890': {'data\\\\raw\\\\Whale Watch Azores 2005\\\\PM-WWA-20050611-002.jpg'},\n",
       " '1879': {'data\\\\raw\\\\Whale Watch Azores 2005\\\\PM-WWA-20050611-005.jpg'},\n",
       " '2891': {'data\\\\raw\\\\Whale Watch Azores 2005\\\\PM-WWA-20050611-008.jpg'},\n",
       " '1840': {'data\\\\raw\\\\Whale Watch Azores 2005\\\\PM-WWA-20050611-010.jpg',\n",
       "  'data\\\\raw\\\\Whale Watch Azores 2005\\\\PM-WWA-20050611-122.jpg'},\n",
       " '1598': {'data\\\\raw\\\\Whale Watch Azores 2005\\\\PM-WWA-20050611-012.jpg',\n",
       "  'data\\\\raw\\\\Whale Watch Azores 2005\\\\PM-WWA-20050611-126.jpg'},\n",
       " '2535': {'data\\\\raw\\\\Whale Watch Azores 2005\\\\PM-WWA-20050619-172.jpg',\n",
       "  'data\\\\raw\\\\Whale Watch Azores 2005\\\\PM-WWA-20050831-087.jpg'},\n",
       " '2352': {'data\\\\raw\\\\Whale Watch Azores 2005\\\\PM-WWA-20050612-006.jpg',\n",
       "  'data\\\\raw\\\\Whale Watch Azores 2005\\\\PM-WWA-20050619-189.jpg',\n",
       "  'data\\\\raw\\\\Whale Watch Azores 2005\\\\PM-WWA-20050628-107.jpg',\n",
       "  'data\\\\raw\\\\Whale Watch Azores 2005\\\\PM-WWA-20050809-014.jpg',\n",
       "  'data\\\\raw\\\\Whale Watch Azores 2005\\\\PM-WWA-20050809-130.jpg',\n",
       "  'data\\\\raw\\\\Whale Watch Azores 2005\\\\PM-WWA-20050831-056.jpg',\n",
       "  'data\\\\raw\\\\Whale Watch Azores 2005\\\\PM-WWA-20050906-002.jpg'},\n",
       " '2628': {'data\\\\raw\\\\Whale Watch Azores 2005\\\\PM-WWA-20050612-021.jpg',\n",
       "  'data\\\\raw\\\\Whale Watch Azores 2005\\\\PM-WWA-20050612-031.jpg',\n",
       "  'data\\\\raw\\\\Whale Watch Azores 2005\\\\PM-WWA-20050701-102.jpg',\n",
       "  'data\\\\raw\\\\Whale Watch Azores 2005\\\\PM-WWA-20050831-084.jpg'},\n",
       " '2529': {'data\\\\raw\\\\Whale Watch Azores 2005\\\\PM-WWA-20050612-033.jpg',\n",
       "  'data\\\\raw\\\\Whale Watch Azores 2005\\\\PM-WWA-20050619-180.jpg',\n",
       "  'data\\\\raw\\\\Whale Watch Azores 2005\\\\PM-WWA-20050831-072.jpg'},\n",
       " '1746': {'data\\\\raw\\\\Whale Watch Azores 2005\\\\PM-WWA-20050612-042.jpg',\n",
       "  'data\\\\raw\\\\Whale Watch Azores 2005\\\\PM-WWA-20050831-078.jpg'},\n",
       " '1543': {'data\\\\raw\\\\Whale Watch Azores 2005\\\\PM-WWA-20050612-045.jpg',\n",
       "  'data\\\\raw\\\\Whale Watch Azores 2005\\\\PM-WWA-20050831-075.jpg',\n",
       "  'data\\\\raw\\\\Whale Watch Azores 2005\\\\PM-WWA-20050907-003.jpg'},\n",
       " '2047': {'data\\\\raw\\\\Whale Watch Azores 2005\\\\PM-WWA-20050619-170.jpg'},\n",
       " '2892': {'data\\\\raw\\\\Whale Watch Azores 2005\\\\PM-WWA-20050619-195.jpg',\n",
       "  'data\\\\raw\\\\Whale Watch Azores 2005\\\\PM-WWA-20050628-088.jpg',\n",
       "  'data\\\\raw\\\\Whale Watch Azores 2005\\\\PM-WWA-20050809-123.jpg',\n",
       "  'data\\\\raw\\\\Whale Watch Azores 2005\\\\PM-WWA-20050906-011.jpg',\n",
       "  'data\\\\raw\\\\Whale Watch Azores 2005\\\\PM-WWA-20050907-004.jpg',\n",
       "  'data\\\\raw\\\\Whale Watch Azores 2005\\\\PM-WWA-20050907-031.jpg'},\n",
       " '2893': {'data\\\\raw\\\\Whale Watch Azores 2005\\\\PM-WWA-20050617-010.jpg'},\n",
       " '1541': {'data\\\\raw\\\\Whale Watch Azores 2005\\\\PM-WWA-20050617-007.jpg',\n",
       "  'data\\\\raw\\\\Whale Watch Azores 2005\\\\PM-WWA-20050617-032.jpg'},\n",
       " '1559': {'data\\\\raw\\\\Whale Watch Azores 2005\\\\PM-WWA-20050617-018.jpg'},\n",
       " '2388': {'data\\\\raw\\\\Whale Watch Azores 2005\\\\PM-WWA-20050617-019.jpg',\n",
       "  'data\\\\raw\\\\Whale Watch Azores 2005\\\\PM-WWA-20050617-019A.jpg'},\n",
       " '2894': {'data\\\\raw\\\\Whale Watch Azores 2005\\\\PM-WWA-20050617-022.jpg'},\n",
       " '2895': {'data\\\\raw\\\\Whale Watch Azores 2005\\\\PM-WWA-20050617-033.jpg'},\n",
       " '2896': {'data\\\\raw\\\\Whale Watch Azores 2005\\\\PM-WWA-20050618-004.jpg',\n",
       "  'data\\\\raw\\\\Whale Watch Azores 2005\\\\PM-WWA-20050618-110.jpg'},\n",
       " '2897': {'data\\\\raw\\\\Whale Watch Azores 2005\\\\PM-WWA-20050618-006.jpg',\n",
       "  'data\\\\raw\\\\Whale Watch Azores 2005\\\\PM-WWA-20050618-099.jpg'},\n",
       " '2898': {'data\\\\raw\\\\Whale Watch Azores 2005\\\\PM-WWA-20050618-064.jpg',\n",
       "  'data\\\\raw\\\\Whale Watch Azores 2005\\\\PM-WWA-20050619-138.jpg'},\n",
       " '2899': {'data\\\\raw\\\\Whale Watch Azores 2005\\\\PM-WWA-20050618-067.jpg'},\n",
       " '2900': {'data\\\\raw\\\\Whale Watch Azores 2005\\\\PM-WWA-20050618-097.jpg'},\n",
       " '2901': {'data\\\\raw\\\\Whale Watch Azores 2005\\\\PM-WWA-20050618-103.jpg'},\n",
       " '2902': {'data\\\\raw\\\\Whale Watch Azores 2005\\\\PM-WWA-20050618-A208.jpg',\n",
       "  'data\\\\raw\\\\Whale Watch Azores 2005\\\\PM-WWA-20050618-B058.jpg',\n",
       "  'data\\\\raw\\\\Whale Watch Azores 2005\\\\PM-WWA-20050619-146.jpg',\n",
       "  'data\\\\raw\\\\Whale Watch Azores 2005\\\\PM-WWA-20050701-115.jpg',\n",
       "  'data\\\\raw\\\\Whale Watch Azores 2005\\\\PM-WWA-20050719-006.jpg'},\n",
       " '2903': {'data\\\\raw\\\\Whale Watch Azores 2005\\\\PM-WWA-20050620-041.jpg'},\n",
       " '2904': {'data\\\\raw\\\\Whale Watch Azores 2005\\\\PM-WWA-20050620-045.jpg'},\n",
       " '1333': {'data\\\\raw\\\\Whale Watch Azores 2005\\\\PM-WWA-20050620-050.jpg',\n",
       "  'data\\\\raw\\\\Whale Watch Azores 2005\\\\PM-WWA-20050620-153.jpg'},\n",
       " '2905': {'data\\\\raw\\\\Whale Watch Azores 2005\\\\PM-WWA-20050620-052.jpg'},\n",
       " '2907': {'data\\\\raw\\\\Whale Watch Azores 2005\\\\PM-WWA-20050620-182.jpg'},\n",
       " '2906': {'data\\\\raw\\\\Whale Watch Azores 2005\\\\PM-WWA-20050620-168.jpg'},\n",
       " '2908': {'data\\\\raw\\\\Whale Watch Azores 2005\\\\PM-WWA-20050620-231.jpg'},\n",
       " '2419': {'data\\\\raw\\\\Whale Watch Azores 2005\\\\PM-WWA-20050623-040.jpg'},\n",
       " '2909': {'data\\\\raw\\\\Whale Watch Azores 2005\\\\PM-WWA-20050623-044.jpg'},\n",
       " '2733': {'data\\\\raw\\\\Whale Watch Azores 2005\\\\PM-WWA-20050623-048.jpg'},\n",
       " '2910': {'data\\\\raw\\\\Whale Watch Azores 2005\\\\PM-WWA-20050623-064.jpg'},\n",
       " '2911': {'data\\\\raw\\\\Whale Watch Azores 2005\\\\PM-WWA-20050624-002.jpg'},\n",
       " '2776': {'data\\\\raw\\\\Whale Watch Azores 2005\\\\PM-WWA-20050625-079.jpg',\n",
       "  'data\\\\raw\\\\Whale Watch Azores 2005\\\\PM-WWA-20050706-146.jpg',\n",
       "  'data\\\\raw\\\\Whale Watch Azores 2005\\\\PM-WWA-20050707-271.jpg'},\n",
       " '2580': {'data\\\\raw\\\\Whale Watch Azores 2005\\\\PM-WWA-20050625-082.jpg',\n",
       "  'data\\\\raw\\\\Whale Watch Azores 2005\\\\PM-WWA-20050627-054.jpg',\n",
       "  'data\\\\raw\\\\Whale Watch Azores 2005\\\\PM-WWA-20050707-173.jpg'},\n",
       " '2772': {'data\\\\raw\\\\Whale Watch Azores 2005\\\\PM-WWA-20050625-085.jpg',\n",
       "  'data\\\\raw\\\\Whale Watch Azores 2005\\\\PM-WWA-20050625-101.jpg',\n",
       "  'data\\\\raw\\\\Whale Watch Azores 2005\\\\PM-WWA-20050627-049.jpg',\n",
       "  'data\\\\raw\\\\Whale Watch Azores 2005\\\\PM-WWA-20050706-A031.jpg'},\n",
       " '2579': {'data\\\\raw\\\\Whale Watch Azores 2005\\\\PM-WWA-20050625-094.jpg',\n",
       "  'data\\\\raw\\\\Whale Watch Azores 2005\\\\PM-WWA-20050707-169.jpg',\n",
       "  'data\\\\raw\\\\Whale Watch Azores 2005\\\\PM-WWA-20050707-370.jpg',\n",
       "  'data\\\\raw\\\\Whale Watch Azores 2005\\\\PM-WWA-20050709-A037.jpg'},\n",
       " '2748': {'data\\\\raw\\\\Whale Watch Azores 2005\\\\PM-WWA-20050625-105.jpg',\n",
       "  'data\\\\raw\\\\Whale Watch Azores 2005\\\\PM-WWA-20050707-175.jpg'},\n",
       " '2750': {'data\\\\raw\\\\Whale Watch Azores 2005\\\\PM-WWA-20050625-129.jpg',\n",
       "  'data\\\\raw\\\\Whale Watch Azores 2005\\\\PM-WWA-20050625-130.jpg',\n",
       "  'data\\\\raw\\\\Whale Watch Azores 2005\\\\PM-WWA-20050707-179.jpg'},\n",
       " '2912': {'data\\\\raw\\\\Whale Watch Azores 2005\\\\PM-WWA-20050626-006.jpg'},\n",
       " '2913': {'data\\\\raw\\\\Whale Watch Azores 2005\\\\PM-WWA-20050626-046.jpg'},\n",
       " '2914': {'data\\\\raw\\\\Whale Watch Azores 2005\\\\PM-WWA-20050626-057.jpg'},\n",
       " '2915': {'data\\\\raw\\\\Whale Watch Azores 2005\\\\PM-WWA-20050626-059.jpg'},\n",
       " '2916': {'data\\\\raw\\\\Whale Watch Azores 2005\\\\PM-WWA-20050626-063.jpg'},\n",
       " '2390': {'data\\\\raw\\\\Whale Watch Azores 2005\\\\PM-WWA-20050627-009.jpg'},\n",
       " '2917': {'data\\\\raw\\\\Whale Watch Azores 2005\\\\PM-WWA-20050627-013.jpg'},\n",
       " '2918': {'data\\\\raw\\\\Whale Watch Azores 2005\\\\PM-WWA-20050627-025.jpg'},\n",
       " '2582': {'data\\\\raw\\\\Whale Watch Azores 2005\\\\PM-WWA-20050627-069.jpg',\n",
       "  'data\\\\raw\\\\Whale Watch Azores 2005\\\\PM-WWA-20050706-A036.jpg'},\n",
       " '2919': {'data\\\\raw\\\\Whale Watch Azores 2005\\\\PM-WWA-20050701-061.jpg',\n",
       "  'data\\\\raw\\\\Whale Watch Azores 2005\\\\PM-WWA-20050701-064.jpg',\n",
       "  'data\\\\raw\\\\Whale Watch Azores 2005\\\\PM-WWA-20050701-071.jpg'},\n",
       " '2532': {'data\\\\raw\\\\Whale Watch Azores 2005\\\\PM-WWA-20050704-002.jpg'},\n",
       " '2920': {'data\\\\raw\\\\Whale Watch Azores 2005\\\\PM-WWA-20050704-005.jpg'},\n",
       " '2921': {'data\\\\raw\\\\Whale Watch Azores 2005\\\\PM-WWA-20050704-011.jpg'},\n",
       " '2922': {'data\\\\raw\\\\Whale Watch Azores 2005\\\\PM-WWA-20050704-024.jpg'},\n",
       " '1822': {'data\\\\raw\\\\Whale Watch Azores 2005\\\\PM-WWA-20050704-027.jpg'},\n",
       " '2923': {'data\\\\raw\\\\Whale Watch Azores 2005\\\\PM-WWA-20050704-037.jpg'},\n",
       " '2924': {'data\\\\raw\\\\Whale Watch Azores 2005\\\\PM-WWA-20050704-041.jpg'},\n",
       " '2925': {'data\\\\raw\\\\Whale Watch Azores 2005\\\\PM-WWA-20050704-043.jpg'},\n",
       " '2926': {'data\\\\raw\\\\Whale Watch Azores 2005\\\\PM-WWA-20050704-046.jpg'},\n",
       " '2935': {'data\\\\raw\\\\Whale Watch Azores 2005\\\\PM-WWA-20050704-050.jpg'},\n",
       " '2927': {'data\\\\raw\\\\Whale Watch Azores 2005\\\\PM-WWA-20050705-150.jpg'},\n",
       " '2928': {'data\\\\raw\\\\Whale Watch Azores 2005\\\\PM-WWA-20050705-151.jpg'},\n",
       " '2581': {'data\\\\raw\\\\Whale Watch Azores 2005\\\\PM-WWA-20050706-214.jpg'},\n",
       " '1371': {'data\\\\raw\\\\Whale Watch Azores 2005\\\\PM-WWA-20050706-A026.jpg'},\n",
       " '1039': {'data\\\\raw\\\\Whale Watch Azores 2005\\\\PM-WWA-20050706-180.jpg'},\n",
       " '2773': {'data\\\\raw\\\\Whale Watch Azores 2005\\\\PM-WWA-20050707-159.jpg'},\n",
       " '2929': {'data\\\\raw\\\\Whale Watch Azores 2005\\\\PM-WWA-20050707-275.jpg',\n",
       "  'data\\\\raw\\\\Whale Watch Azores 2005\\\\PM-WWA-20050709-231.jpg'},\n",
       " '2932': {'data\\\\raw\\\\Whale Watch Azores 2005\\\\PM-WWA-20050706-A002.jpg',\n",
       "  'data\\\\raw\\\\Whale Watch Azores 2005\\\\PM-WWA-20050707-163.jpg'},\n",
       " '2930': {'data\\\\raw\\\\Whale Watch Azores 2005\\\\PM-WWA-20050706-A029.jpg'},\n",
       " '2931': {'data\\\\raw\\\\Whale Watch Azores 2005\\\\PM-WWA-20050707-147.jpg',\n",
       "  'data\\\\raw\\\\Whale Watch Azores 2005\\\\PM-WWA-20050709-A001.jpg'},\n",
       " '2578': {'data\\\\raw\\\\Whale Watch Azores 2005\\\\PM-WWA-20050707-281.jpg'},\n",
       " '2937': {'data\\\\raw\\\\Whale Watch Azores 2005\\\\PM-WWA-20050707-154.jpg',\n",
       "  'data\\\\raw\\\\Whale Watch Azores 2005\\\\PM-WWA-20050707-264.jpg',\n",
       "  'data\\\\raw\\\\Whale Watch Azores 2005\\\\PM-WWA-20050722-137.jpg',\n",
       "  'data\\\\raw\\\\Whale Watch Azores 2005\\\\PM-WWA-20050722-166.jpg'},\n",
       " '2583': {'data\\\\raw\\\\Whale Watch Azores 2005\\\\PM-WWA-20050707-278.jpg',\n",
       "  'data\\\\raw\\\\Whale Watch Azores 2005\\\\PM-WWA-20050709-A019.jpg'},\n",
       " '2938': {'data\\\\raw\\\\Whale Watch Azores 2005\\\\PM-WWA-20050710-100.jpg',\n",
       "  'data\\\\raw\\\\Whale Watch Azores 2005\\\\PM-WWA-20050710-121.jpg'},\n",
       " '2940': {'data\\\\raw\\\\Whale Watch Azores 2005\\\\PM-WWA-20050710-130.jpg'},\n",
       " '2939': {'data\\\\raw\\\\Whale Watch Azores 2005\\\\PM-WWA-20050710-006.jpg',\n",
       "  'data\\\\raw\\\\Whale Watch Azores 2005\\\\PM-WWA-20050710-089.jpg'},\n",
       " '2941': {'data\\\\raw\\\\Whale Watch Azores 2005\\\\PM-WWA-20050710-008.jpg'},\n",
       " '2942': {'data\\\\raw\\\\Whale Watch Azores 2005\\\\PM-WWA-20050710-128.jpg'},\n",
       " '2943': {'data\\\\raw\\\\Whale Watch Azores 2005\\\\PM-WWA-20050710-134.jpg'},\n",
       " '2944': {'data\\\\raw\\\\Whale Watch Azores 2005\\\\PM-WWA-20050710-112.jpg'},\n",
       " '2945': {'data\\\\raw\\\\Whale Watch Azores 2005\\\\PM-WWA-20050710-114.jpg',\n",
       "  'data\\\\raw\\\\Whale Watch Azores 2005\\\\PM-WWA-20050710-125.jpg'},\n",
       " '2946': {'data\\\\raw\\\\Whale Watch Azores 2005\\\\PM-WWA-20050710-098.jpg',\n",
       "  'data\\\\raw\\\\Whale Watch Azores 2005\\\\PM-WWA-20050710-122.jpg'},\n",
       " '2947': {'data\\\\raw\\\\Whale Watch Azores 2005\\\\PM-WWA-20050710-102.jpg'},\n",
       " '2948': {'data\\\\raw\\\\Whale Watch Azores 2005\\\\PM-WWA-20050710-059.jpg',\n",
       "  'data\\\\raw\\\\Whale Watch Azores 2005\\\\PM-WWA-20050710-117.jpg'},\n",
       " '2949': {'data\\\\raw\\\\Whale Watch Azores 2005\\\\PM-WWA-20050714-081.jpg'},\n",
       " '2950': {'data\\\\raw\\\\Whale Watch Azores 2005\\\\PM-WWA-20050714-086.jpg'},\n",
       " '2952': {'data\\\\raw\\\\Whale Watch Azores 2005\\\\PM-WWA-20050714-093.jpg',\n",
       "  'data\\\\raw\\\\Whale Watch Azores 2005\\\\PM-WWA-20050714-094.jpg'},\n",
       " '2953': {'data\\\\raw\\\\Whale Watch Azores 2005\\\\PM-WWA-20050714-096.jpg'},\n",
       " '2954': {'data\\\\raw\\\\Whale Watch Azores 2005\\\\PM-WWA-20050714-097.jpg'},\n",
       " '2955': {'data\\\\raw\\\\Whale Watch Azores 2005\\\\PM-WWA-20050714-100.jpg'},\n",
       " '2956': {'data\\\\raw\\\\Whale Watch Azores 2005\\\\PM-WWA-20050714-105.jpg'},\n",
       " '2957': {'data\\\\raw\\\\Whale Watch Azores 2005\\\\PM-WWA-20050714-109.jpg'},\n",
       " '2958': {'data\\\\raw\\\\Whale Watch Azores 2005\\\\PM-WWA-20050716-154.jpg'},\n",
       " '2959': {'data\\\\raw\\\\Whale Watch Azores 2005\\\\PM-WWA-20050716-158.jpg'},\n",
       " '2960': {'data\\\\raw\\\\Whale Watch Azores 2005\\\\PM-WWA-20050716-161.jpg'},\n",
       " '2961': {'data\\\\raw\\\\Whale Watch Azores 2005\\\\PM-WWA-20050716-167.jpg'},\n",
       " '2962': {'data\\\\raw\\\\Whale Watch Azores 2005\\\\PM-WWA-20050716-170.jpg'},\n",
       " '2963': {'data\\\\raw\\\\Whale Watch Azores 2005\\\\PM-WWA-20050716-173.jpg'},\n",
       " '2964': {'data\\\\raw\\\\Whale Watch Azores 2005\\\\PM-WWA-20050716-180.jpg',\n",
       "  'data\\\\raw\\\\Whale Watch Azores 2005\\\\PM-WWA-20050716-186.jpg'},\n",
       " '2965': {'data\\\\raw\\\\Whale Watch Azores 2005\\\\PM-WWA-20050716-189.jpg'},\n",
       " '2966': {'data\\\\raw\\\\Whale Watch Azores 2005\\\\PM-WWA-20050717-003.jpg'},\n",
       " '2967': {'data\\\\raw\\\\Whale Watch Azores 2005\\\\PM-WWA-20050717-011.jpg'},\n",
       " '2968': {'data\\\\raw\\\\Whale Watch Azores 2005\\\\PM-WWA-20050717-015.jpg'},\n",
       " '2969': {'data\\\\raw\\\\Whale Watch Azores 2005\\\\PM-WWA-20050717-024.jpg'},\n",
       " '2970': {'data\\\\raw\\\\Whale Watch Azores 2005\\\\PM-WWA-20050717-057.jpg'},\n",
       " '2971': {'data\\\\raw\\\\Whale Watch Azores 2005\\\\PM-WWA-20050717-073.jpg'},\n",
       " '2972': {'data\\\\raw\\\\Whale Watch Azores 2005\\\\PM-WWA-20050717-077.jpg'},\n",
       " '2973': {'data\\\\raw\\\\Whale Watch Azores 2005\\\\PM-WWA-20050717-083.jpg'},\n",
       " '2974': {'data\\\\raw\\\\Whale Watch Azores 2005\\\\PM-WWA-20050717-099.jpg'},\n",
       " '2975': {'data\\\\raw\\\\Whale Watch Azores 2005\\\\PM-WWA-20050717-102.jpg'},\n",
       " '2976': {'data\\\\raw\\\\Whale Watch Azores 2005\\\\PM-WWA-20050717-104.jpg'},\n",
       " '2977': {'data\\\\raw\\\\Whale Watch Azores 2005\\\\PM-WWA-20050718-020.jpg',\n",
       "  'data\\\\raw\\\\Whale Watch Azores 2005\\\\PM-WWA-20050718-078.jpg'},\n",
       " '2978': {'data\\\\raw\\\\Whale Watch Azores 2005\\\\PM-WWA-20050718-131.jpg'},\n",
       " '2779': {'data\\\\raw\\\\Whale Watch Azores 2005\\\\PM-WWA-20050718-085.jpg'},\n",
       " '2257': {'data\\\\raw\\\\Whale Watch Azores 2005\\\\PM-WWA-20050718-096.jpg'},\n",
       " '2778': {'data\\\\raw\\\\Whale Watch Azores 2005\\\\PM-WWA-20050718-114.jpg'},\n",
       " '2980': {'data\\\\raw\\\\Whale Watch Azores 2005\\\\PM-WWA-20050718-135.jpg'},\n",
       " '2981': {'data\\\\raw\\\\Whale Watch Azores 2005\\\\PM-WWA-20050723-016.jpg',\n",
       "  'data\\\\raw\\\\Whale Watch Azores 2005\\\\PM-WWA-20050723-017.jpg'},\n",
       " '2982': {'data\\\\raw\\\\Whale Watch Azores 2005\\\\PM-WWA-20050723-022.jpg'},\n",
       " '2984': {'data\\\\raw\\\\Whale Watch Azores 2005\\\\PM-WWA-20050723-176.jpg'},\n",
       " '2988': {'data\\\\raw\\\\Whale Watch Azores 2005\\\\PM-WWA-20050723-A018.jpg'},\n",
       " '2987': {'data\\\\raw\\\\Whale Watch Azores 2005\\\\PM-WWA-20050723-A012.jpg'},\n",
       " '2983': {'data\\\\raw\\\\Whale Watch Azores 2005\\\\PM-WWA-20050723-060.jpg'},\n",
       " '2985': {'data\\\\raw\\\\Whale Watch Azores 2005\\\\PM-WWA-20050723-115.jpg'},\n",
       " '2986': {'data\\\\raw\\\\Whale Watch Azores 2005\\\\PM-WWA-20050723-147.jpg',\n",
       "  'data\\\\raw\\\\Whale Watch Azores 2005\\\\PM-WWA-20050723-196.jpg'},\n",
       " '2989': {'data\\\\raw\\\\Whale Watch Azores 2005\\\\PM-WWA-20050723-244.jpg'},\n",
       " '2990': {'data\\\\raw\\\\Whale Watch Azores 2005\\\\PM-WWA-20050728-223.jpg'},\n",
       " '2991': {'data\\\\raw\\\\Whale Watch Azores 2005\\\\PM-WWA-20050730-004.jpg'},\n",
       " '2992': {'data\\\\raw\\\\Whale Watch Azores 2005\\\\PM-WWA-20050730-007.jpg'},\n",
       " '2993': {'data\\\\raw\\\\Whale Watch Azores 2005\\\\PM-WWA-20050730-010.jpg'},\n",
       " '2994': {'data\\\\raw\\\\Whale Watch Azores 2005\\\\PM-WWA-20050731-114.jpg'},\n",
       " '2995': {'data\\\\raw\\\\Whale Watch Azores 2005\\\\PM-WWA-20050731-153.jpg'},\n",
       " '2996': {'data\\\\raw\\\\Whale Watch Azores 2005\\\\PM-WWA-20050731-157.jpg'},\n",
       " '5000': {'data\\\\raw\\\\Whale Watch Azores 2005\\\\PM-WWA-20050731-158.jpg'},\n",
       " '2997': {'data\\\\raw\\\\Whale Watch Azores 2005\\\\PM-WWA-20050731-161.jpg'},\n",
       " '2216': {'data\\\\raw\\\\Whale Watch Azores 2005\\\\PM-WWA-20050801-021.jpg'},\n",
       " '2998': {'data\\\\raw\\\\Whale Watch Azores 2005\\\\PM-WWA-20050801-025.jpg'},\n",
       " '2999': {'data\\\\raw\\\\Whale Watch Azores 2005\\\\PM-WWA-20050802-097.jpg',\n",
       "  'data\\\\raw\\\\Whale Watch Azores 2005\\\\PM-WWA-20050804-012.jpg'},\n",
       " '3000': {'data\\\\raw\\\\Whale Watch Azores 2005\\\\PM-WWA-20050803-062.jpg'},\n",
       " '3001': {'data\\\\raw\\\\Whale Watch Azores 2005\\\\PM-WWA-20050803-095.jpg'},\n",
       " '3002': {'data\\\\raw\\\\Whale Watch Azores 2005\\\\PM-WWA-20050804-026.jpg'},\n",
       " '3003': {'data\\\\raw\\\\Whale Watch Azores 2005\\\\PM-WWA-20050806-077.jpg'},\n",
       " '3004': {'data\\\\raw\\\\Whale Watch Azores 2005\\\\PM-WWA-20050809-116.jpg'},\n",
       " '3005': {'data\\\\raw\\\\Whale Watch Azores 2005\\\\PM-WWA-20050809-121.jpg'},\n",
       " '2086': {'data\\\\raw\\\\Whale Watch Azores 2005\\\\PM-WWA-20050812-129.jpg'},\n",
       " '3006': {'data\\\\raw\\\\Whale Watch Azores 2005\\\\PM-WWA-20050812-134.jpg'},\n",
       " '3007': {'data\\\\raw\\\\Whale Watch Azores 2005\\\\PM-WWA-20050812-137.jpg'},\n",
       " '3008': {'data\\\\raw\\\\Whale Watch Azores 2005\\\\PM-WWA-20050812-144.jpg'},\n",
       " '2079': {'data\\\\raw\\\\Whale Watch Azores 2005\\\\PM-WWA-20050812-161.jpg'},\n",
       " '3009': {'data\\\\raw\\\\Whale Watch Azores 2005\\\\PM-WWA-20050819-213.jpg'},\n",
       " '3010': {'data\\\\raw\\\\Whale Watch Azores 2005\\\\PM-WWA-20050821-093.jpg',\n",
       "  'data\\\\raw\\\\Whale Watch Azores 2005\\\\PM-WWA-20050821-113.jpg'},\n",
       " '3011': {'data\\\\raw\\\\Whale Watch Azores 2005\\\\PM-WWA-20050821-096.jpg',\n",
       "  'data\\\\raw\\\\Whale Watch Azores 2005\\\\PM-WWA-20050821-115.jpg'},\n",
       " '2807': {'data\\\\raw\\\\Whale Watch Azores 2005\\\\PM-WWA-20050821-102.jpg',\n",
       "  'data\\\\raw\\\\Whale Watch Azores 2005\\\\PM-WWA-20050821-129.jpg'},\n",
       " '3012': {'data\\\\raw\\\\Whale Watch Azores 2005\\\\PM-WWA-20050821-125.jpg'},\n",
       " '2642': {'data\\\\raw\\\\Whale Watch Azores 2005\\\\PM-WWA-20050822-133.jpg'},\n",
       " '3013': {'data\\\\raw\\\\Whale Watch Azores 2005\\\\PM-WWA-20050822-166.jpg'},\n",
       " '3014': {'data\\\\raw\\\\Whale Watch Azores 2005\\\\PM-WWA-20050822-195.jpg',\n",
       "  'data\\\\raw\\\\Whale Watch Azores 2005\\\\PM-WWA-20050822-245.jpg'},\n",
       " '3015': {'data\\\\raw\\\\Whale Watch Azores 2005\\\\PM-WWA-20050822-242.jpg'},\n",
       " '3016': {'data\\\\raw\\\\Whale Watch Azores 2005\\\\PM-WWA-20050822-211.jpg'},\n",
       " '3017': {'data\\\\raw\\\\Whale Watch Azores 2005\\\\PM-WWA-20050822-215.jpg',\n",
       "  'data\\\\raw\\\\Whale Watch Azores 2005\\\\PM-WWA-20050822-238.jpg'},\n",
       " '3018': {'data\\\\raw\\\\Whale Watch Azores 2005\\\\PM-WWA-20050822-217.jpg',\n",
       "  'data\\\\raw\\\\Whale Watch Azores 2005\\\\PM-WWA-20050822-237.jpg'},\n",
       " '3019': {'data\\\\raw\\\\Whale Watch Azores 2005\\\\PM-WWA-20050822-229.jpg'},\n",
       " '3020': {'data\\\\raw\\\\Whale Watch Azores 2005\\\\PM-WWA-20050822-230.jpg'},\n",
       " '3021': {'data\\\\raw\\\\Whale Watch Azores 2005\\\\PM-WWA-20050822-233.jpg'},\n",
       " '3022': {'data\\\\raw\\\\Whale Watch Azores 2005\\\\PM-WWA-20050822-234.jpg'},\n",
       " '3023': {'data\\\\raw\\\\Whale Watch Azores 2005\\\\PM-WWA-20050823-011.jpg'},\n",
       " '3024': {'data\\\\raw\\\\Whale Watch Azores 2005\\\\PM-WWA-20050823-152.jpg'},\n",
       " '3025': {'data\\\\raw\\\\Whale Watch Azores 2005\\\\PM-WWA-20050823-161.jpg'},\n",
       " '3026': {'data\\\\raw\\\\Whale Watch Azores 2005\\\\PM-WWA-20050823-122.jpg'},\n",
       " '3027': {'data\\\\raw\\\\Whale Watch Azores 2005\\\\PM-WWA-20050823-130.jpg'},\n",
       " '3028': {'data\\\\raw\\\\Whale Watch Azores 2005\\\\PM-WWA-20050823-131.jpg'},\n",
       " '3029': {'data\\\\raw\\\\Whale Watch Azores 2005\\\\PM-WWA-20050823-155.jpg'},\n",
       " '3030': {'data\\\\raw\\\\Whale Watch Azores 2005\\\\PM-WWA-20050823-148.jpg'},\n",
       " '3031': {'data\\\\raw\\\\Whale Watch Azores 2005\\\\PM-WWA-20050824-041.jpg'},\n",
       " '3032': {'data\\\\raw\\\\Whale Watch Azores 2005\\\\PM-WWA-20050824-046.jpg'},\n",
       " '3033': {'data\\\\raw\\\\Whale Watch Azores 2005\\\\PM-WWA-20050824-049.jpg',\n",
       "  'data\\\\raw\\\\Whale Watch Azores 2005\\\\PM-WWA-20050824-050.jpg'},\n",
       " '1570': {'data\\\\raw\\\\Whale Watch Azores 2005\\\\PM-WWA-20050824-052.jpg'},\n",
       " '3034': {'data\\\\raw\\\\Whale Watch Azores 2005\\\\PM-WWA-20050825-102.jpg'},\n",
       " '3035': {'data\\\\raw\\\\Whale Watch Azores 2005\\\\PM-WWA-20050825-106.jpg'},\n",
       " '3036': {'data\\\\raw\\\\Whale Watch Azores 2005\\\\PM-WWA-20050825-143.jpg'},\n",
       " '3037': {'data\\\\raw\\\\Whale Watch Azores 2005\\\\PM-WWA-20050825-134.jpg'},\n",
       " '3038': {'data\\\\raw\\\\Whale Watch Azores 2005\\\\PM-WWA-20050827-A008.jpg'},\n",
       " '3039': {'data\\\\raw\\\\Whale Watch Azores 2005\\\\PM-WWA-20050827-A009.jpg'},\n",
       " '3040': {'data\\\\raw\\\\Whale Watch Azores 2005\\\\PM-WWA-20050827-A014.jpg'},\n",
       " '3041': {'data\\\\raw\\\\Whale Watch Azores 2005\\\\PM-WWA-20050828-048.jpg'},\n",
       " '3042': {'data\\\\raw\\\\Whale Watch Azores 2005\\\\PM-WWA-20050828-051.jpg'},\n",
       " '3043': {'data\\\\raw\\\\Whale Watch Azores 2005\\\\PM-WWA-20050828-092.jpg'},\n",
       " '3044': {'data\\\\raw\\\\Whale Watch Azores 2005\\\\PM-WWA-20050828-066.jpg'},\n",
       " '3045': {'data\\\\raw\\\\Whale Watch Azores 2005\\\\PM-WWA-20050828-059.jpg'},\n",
       " '3046': {'data\\\\raw\\\\Whale Watch Azores 2005\\\\PM-WWA-20050828-103.jpg'},\n",
       " '3047': {'data\\\\raw\\\\Whale Watch Azores 2005\\\\PM-WWA-20050828-069.jpg',\n",
       "  'data\\\\raw\\\\Whale Watch Azores 2005\\\\PM-WWA-20050828-107.jpg'},\n",
       " '3048': {'data\\\\raw\\\\Whale Watch Azores 2005\\\\PM-WWA-20050828-097.jpg'},\n",
       " '2238': {'data\\\\raw\\\\Whale Watch Azores 2005\\\\PM-WWA-20050829-164.jpg',\n",
       "  'data\\\\raw\\\\Whale Watch Azores 2005\\\\PM-WWA-20050906-007.jpg'},\n",
       " '2564': {'data\\\\raw\\\\Whale Watch Azores 2005\\\\PM-WWA-20050831-052.jpg'},\n",
       " '3049': {'data\\\\raw\\\\Whale Watch Azores 2005\\\\PM-WWA-20050907-008.jpg'},\n",
       " '3050': {'data\\\\raw\\\\Whale Watch Azores 2005\\\\PM-WWA-20050915-059.jpg',\n",
       "  'data\\\\raw\\\\Whale Watch Azores 2005\\\\PM-WWA-20050915-084.jpg'},\n",
       " '3051': {'data\\\\raw\\\\Whale Watch Azores 2005\\\\PM-WWA-20050915-063.jpg',\n",
       "  'data\\\\raw\\\\Whale Watch Azores 2005\\\\PM-WWA-20050915-072.jpg'},\n",
       " '3052': {'data\\\\raw\\\\Whale Watch Azores 2005\\\\PM-WWA-20050915-066.jpg'},\n",
       " '3053': {'data\\\\raw\\\\Whale Watch Azores 2005\\\\PM-WWA-20050915-069.jpg'},\n",
       " '3054': {'data\\\\raw\\\\Whale Watch Azores 2005\\\\PM-WWA-20050916-042.jpg'},\n",
       " '3055': {'data\\\\raw\\\\Whale Watch Azores 2005\\\\PM-WWA-20050917-003.jpg'},\n",
       " '2814': {'data\\\\raw\\\\Whale Watch Azores 2005\\\\PM-WWA-20050917-105.jpg'},\n",
       " '2817': {'data\\\\raw\\\\Whale Watch Azores 2005\\\\PM-WWA-20050917-011.jpg'},\n",
       " '3056': {'data\\\\raw\\\\Whale Watch Azores 2005\\\\PM-WWA-20050917-016.jpg',\n",
       "  'data\\\\raw\\\\Whale Watch Azores 2005\\\\PM-WWA-20050917-111.jpg'},\n",
       " '3057': {'data\\\\raw\\\\Whale Watch Azores 2005\\\\PM-WWA-20050917-035.jpg'},\n",
       " '3058': {'data\\\\raw\\\\Whale Watch Azores 2005\\\\PM-WWA-20050917-037.jpg'},\n",
       " '1059': {'data\\\\raw\\\\Whale Watch Azores 2005\\\\PM-WWA-20050918-042.jpg'},\n",
       " '1124': {'data\\\\raw\\\\Whale Watch Azores 2005\\\\PM-WWA-20050918-009.jpg',\n",
       "  'data\\\\raw\\\\Whale Watch Azores 2005\\\\PM-WWA-20050920-019.jpg'},\n",
       " '2234': {'data\\\\raw\\\\Whale Watch Azores 2005\\\\PM-WWA-20050918-013.jpg',\n",
       "  'data\\\\raw\\\\Whale Watch Azores 2005\\\\PM-WWA-20050920-003.jpg'},\n",
       " '1198': {'data\\\\raw\\\\Whale Watch Azores 2005\\\\PM-WWA-20050918-032.jpg',\n",
       "  'data\\\\raw\\\\Whale Watch Azores 2005\\\\PM-WWA-20050920-016.jpg'},\n",
       " '2402': {'data\\\\raw\\\\Whale Watch Azores 2005\\\\PM-WWA-20050920-027.jpg'},\n",
       " '3060': {'data\\\\raw\\\\Whale Watch Azores 2005\\\\PM-WWA-20050921-001.jpg'},\n",
       " '3061': {'data\\\\raw\\\\Whale Watch Azores 2005\\\\PM-WWA-20050922-056.jpg'}}"
      ]
     },
     "execution_count": 14,
     "metadata": {},
     "output_type": "execute_result"
    }
   ],
   "source": [
    "id_to_images  #It's often simpler to just look at a variable"
   ]
  },
  {
   "cell_type": "code",
   "execution_count": 17,
   "metadata": {},
   "outputs": [
    {
     "data": {
      "text/plain": [
       "{'data\\\\raw\\\\Whale Watch Azores 2005\\\\IMG_2270-16.jpg': '1756',\n",
       " 'data\\\\raw\\\\Whale Watch Azores 2005\\\\PM-WWA-20050413-003a.jpg': '2824',\n",
       " 'data\\\\raw\\\\Whale Watch Azores 2005\\\\PM-WWA-20050413-003b.jpg': '2764',\n",
       " 'data\\\\raw\\\\Whale Watch Azores 2005\\\\PM-WWA-20050413-029.jpg': '2764',\n",
       " 'data\\\\raw\\\\Whale Watch Azores 2005\\\\PM-WWA-20050413-006.jpg': '2825',\n",
       " 'data\\\\raw\\\\Whale Watch Azores 2005\\\\PM-WWA-20050413-007.jpg': '2825',\n",
       " 'data\\\\raw\\\\Whale Watch Azores 2005\\\\PM-WWA-20050413-009.jpg': '2826',\n",
       " 'data\\\\raw\\\\Whale Watch Azores 2005\\\\PM-BIO-20050413-049.jpg': '2826',\n",
       " 'data\\\\raw\\\\Whale Watch Azores 2005\\\\PM-WWA-20050413-012.jpg': '2827',\n",
       " 'data\\\\raw\\\\Whale Watch Azores 2005\\\\PM-WWA-20050413-025.jpg': '2828',\n",
       " 'data\\\\raw\\\\Whale Watch Azores 2005\\\\PM-WWA-20050413-026.jpg': '2828',\n",
       " 'data\\\\raw\\\\Whale Watch Azores 2005\\\\PM-BIO-20050414-116.jpg': '2830',\n",
       " 'data\\\\raw\\\\Whale Watch Azores 2005\\\\PM-WWA-20050414-096.jpg': '2829',\n",
       " 'data\\\\raw\\\\Whale Watch Azores 2005\\\\PM-WWA-20050415-081.jpg': '2831',\n",
       " 'data\\\\raw\\\\Whale Watch Azores 2005\\\\PM-WWA-20050415-085.jpg': '2832',\n",
       " 'data\\\\raw\\\\Whale Watch Azores 2005\\\\PM-WWA-20050415-088.jpg': '2833',\n",
       " 'data\\\\raw\\\\Whale Watch Azores 2005\\\\PM-WWA-20050415-092.jpg': '1736',\n",
       " 'data\\\\raw\\\\Whale Watch Azores 2005\\\\PM-WWA-20050415-140.jpg': '2834',\n",
       " 'data\\\\raw\\\\Whale Watch Azores 2005\\\\PM-WWA-20050415-167.jpg': '2835',\n",
       " 'data\\\\raw\\\\Whale Watch Azores 2005\\\\PM-WWA-20050415-A016.jpg': '2835',\n",
       " 'data\\\\raw\\\\Whale Watch Azores 2005\\\\PM-WWA-20050415-A002.jpg': '2836',\n",
       " 'data\\\\raw\\\\Whale Watch Azores 2005\\\\PM-WWA-20050415-A005.jpg': '2837',\n",
       " 'data\\\\raw\\\\Whale Watch Azores 2005\\\\PM-WWA-20050415-A009.jpg': '2838',\n",
       " 'data\\\\raw\\\\Whale Watch Azores 2005\\\\PM-WWA-20050415-A022.jpg': '2839',\n",
       " 'data\\\\raw\\\\Whale Watch Azores 2005\\\\PM-WWA-20050416-009.jpg': '2840',\n",
       " 'data\\\\raw\\\\Whale Watch Azores 2005\\\\PM-WWA-20050416-030.jpg': '2840',\n",
       " 'data\\\\raw\\\\Whale Watch Azores 2005\\\\PM-WWA-20050416-027.jpg': '2841',\n",
       " 'data\\\\raw\\\\Whale Watch Azores 2005\\\\PM-WWA-20050416-033.jpg': '2842',\n",
       " 'data\\\\raw\\\\Whale Watch Azores 2005\\\\PM-WWA-20050416-037.jpg': '-1',\n",
       " 'data\\\\raw\\\\Whale Watch Azores 2005\\\\PM-WWA-20050502-052.jpg': '2843',\n",
       " 'data\\\\raw\\\\Whale Watch Azores 2005\\\\PM-WWA-20050503-025.jpg': '2844',\n",
       " 'data\\\\raw\\\\Whale Watch Azores 2005\\\\PM-WWA-20050503-028.jpg': '2845',\n",
       " 'data\\\\raw\\\\Whale Watch Azores 2005\\\\PM-WWA-20050511-012.jpg': '2846',\n",
       " 'data\\\\raw\\\\Whale Watch Azores 2005\\\\PM-WWA-20050511-048.jpg': '2846',\n",
       " 'data\\\\raw\\\\Whale Watch Azores 2005\\\\PM-WWA-20050511-020.jpg': '2847',\n",
       " 'data\\\\raw\\\\Whale Watch Azores 2005\\\\PM-WWA-20050512-097.jpg': '2848',\n",
       " 'data\\\\raw\\\\Whale Watch Azores 2005\\\\PM-WWA-20050512-100.jpg': '2849',\n",
       " 'data\\\\raw\\\\Whale Watch Azores 2005\\\\PM-WWA-20050512-102.jpg': '2850',\n",
       " 'data\\\\raw\\\\Whale Watch Azores 2005\\\\PM-WWA-20050512-106.jpg': '2851',\n",
       " 'data\\\\raw\\\\Whale Watch Azores 2005\\\\PM-WWA-20050512-109.jpg': '2852',\n",
       " 'data\\\\raw\\\\Whale Watch Azores 2005\\\\PM-WWA-20050513-226.jpg': '2853',\n",
       " 'data\\\\raw\\\\Whale Watch Azores 2005\\\\PM-WWA-20050513-229.jpg': '-1',\n",
       " 'data\\\\raw\\\\Whale Watch Azores 2005\\\\PM-WWA-20050513-230.jpg': '2854',\n",
       " 'data\\\\raw\\\\Whale Watch Azores 2005\\\\PM-WWA-20050513-A007.jpg': '2854',\n",
       " 'data\\\\raw\\\\Whale Watch Azores 2005\\\\PM-WWA-20050513-234.jpg': '2855',\n",
       " 'data\\\\raw\\\\Whale Watch Azores 2005\\\\PM-WWA-20050513-236.jpg': '2856',\n",
       " 'data\\\\raw\\\\Whale Watch Azores 2005\\\\PM-WWA-20050513-239.jpg': '2857',\n",
       " 'data\\\\raw\\\\Whale Watch Azores 2005\\\\PM-WWA-20050513-242.jpg': '2858',\n",
       " 'data\\\\raw\\\\Whale Watch Azores 2005\\\\PM-WWA-20050513-243.jpg': '-1',\n",
       " 'data\\\\raw\\\\Whale Watch Azores 2005\\\\PM-WWA-20050513-A032.jpg': '2562',\n",
       " 'data\\\\raw\\\\Whale Watch Azores 2005\\\\PM-WWA-20050513-A014.jpg': '2859',\n",
       " 'data\\\\raw\\\\Whale Watch Azores 2005\\\\PM-WWA-20050513-A002.jpg': '2860',\n",
       " 'data\\\\raw\\\\Whale Watch Azores 2005\\\\PM-WWA-20050513-A029.jpg': '2861',\n",
       " 'data\\\\raw\\\\Whale Watch Azores 2005\\\\PM-WWA-20050516-019.jpg': '2737',\n",
       " 'data\\\\raw\\\\Whale Watch Azores 2005\\\\PM-WWA-20050516-115.jpg': '2737',\n",
       " 'data\\\\raw\\\\Whale Watch Azores 2005\\\\PM-WWA-20050516-164.jpg': '2737',\n",
       " 'data\\\\raw\\\\Whale Watch Azores 2005\\\\PM-WWA-20050516-016.jpg': '2862',\n",
       " 'data\\\\raw\\\\Whale Watch Azores 2005\\\\PM-WWA-20050516-034.jpg': '2862',\n",
       " 'data\\\\raw\\\\Whale Watch Azores 2005\\\\PM-WWA-20050516-061.jpg': '2862',\n",
       " 'data\\\\raw\\\\Whale Watch Azores 2005\\\\PM-WWA-20050516-025.jpg': '2863',\n",
       " 'data\\\\raw\\\\Whale Watch Azores 2005\\\\PM-WWA-20050516-084.jpg': '2863',\n",
       " 'data\\\\raw\\\\Whale Watch Azores 2005\\\\PM-WWA-20050520-150.jpg': '2863',\n",
       " 'data\\\\raw\\\\Whale Watch Azores 2005\\\\PM-WWA-20050516-029.jpg': '2864',\n",
       " 'data\\\\raw\\\\Whale Watch Azores 2005\\\\PM-WWA-20050516-058.jpg': '2864',\n",
       " 'data\\\\raw\\\\Whale Watch Azores 2005\\\\PM-WWA-20050516-031.jpg': '2865',\n",
       " 'data\\\\raw\\\\Whale Watch Azores 2005\\\\PM-WWA-20050516-056.jpg': '2865',\n",
       " 'data\\\\raw\\\\Whale Watch Azores 2005\\\\PM-WWA-20050516-043.jpg': '2866',\n",
       " 'data\\\\raw\\\\Whale Watch Azores 2005\\\\PM-WWA-20050516-092.jpg': '2866',\n",
       " 'data\\\\raw\\\\Whale Watch Azores 2005\\\\PM-WWA-20050520-169.jpg': '2866',\n",
       " 'data\\\\raw\\\\Whale Watch Azores 2005\\\\PM-WWA-20050516-054.jpg': '2871',\n",
       " 'data\\\\raw\\\\Whale Watch Azores 2005\\\\PM-WWA-20050516-109.jpg': '2871',\n",
       " 'data\\\\raw\\\\Whale Watch Azores 2005\\\\PM-WWA-20050516-071.jpg': '2870',\n",
       " 'data\\\\raw\\\\Whale Watch Azores 2005\\\\PM-WWA-20050516-077.jpg': '2869',\n",
       " 'data\\\\raw\\\\Whale Watch Azores 2005\\\\PM-WWA-20050516-104.jpg': '2872',\n",
       " 'data\\\\raw\\\\Whale Watch Azores 2005\\\\PM-WWA-20050520-117.jpg': '2867',\n",
       " 'data\\\\raw\\\\Whale Watch Azores 2005\\\\PM-WWA-20050520-134.jpg': '-1',\n",
       " 'data\\\\raw\\\\Whale Watch Azores 2005\\\\PM-WWA-20050520-137.jpg': '2868',\n",
       " 'data\\\\raw\\\\Whale Watch Azores 2005\\\\PM-WWA-20050520-160.jpg': '2873',\n",
       " 'data\\\\raw\\\\Whale Watch Azores 2005\\\\PM-WWA-20050520-161.jpg': '2873',\n",
       " 'data\\\\raw\\\\Whale Watch Azores 2005\\\\PM-WWA-20050520-182.jpg': '2875',\n",
       " 'data\\\\raw\\\\Whale Watch Azores 2005\\\\PM-WWA-20050520-173.jpg': '2874',\n",
       " 'data\\\\raw\\\\Whale Watch Azores 2005\\\\PM-WWA(bio)-20050520-166.jpg': '2876',\n",
       " 'data\\\\raw\\\\Whale Watch Azores 2005\\\\PM-WWA-20050520-189.jpg': '2877',\n",
       " 'data\\\\raw\\\\Whale Watch Azores 2005\\\\PM-WWA-20050520-198.jpg': '2878',\n",
       " 'data\\\\raw\\\\Whale Watch Azores 2005\\\\PM-WWA-20050601-004.jpg': '2879',\n",
       " 'data\\\\raw\\\\Whale Watch Azores 2005\\\\PM-WWA-20050607-008.jpg': '2880',\n",
       " 'data\\\\raw\\\\Whale Watch Azores 2005\\\\PM-WWA-20050607-010.jpg': '2881',\n",
       " 'data\\\\raw\\\\Whale Watch Azores 2005\\\\PM-WWA-20050607-013.jpg': '2882',\n",
       " 'data\\\\raw\\\\Whale Watch Azores 2005\\\\PM-WWA-20050607-015.jpg': '2882',\n",
       " 'data\\\\raw\\\\Whale Watch Azores 2005\\\\PM-WWA-20050607-025.jpg': '2883',\n",
       " 'data\\\\raw\\\\Whale Watch Azores 2005\\\\PM-WWA-20050607-032.jpg': '2884',\n",
       " 'data\\\\raw\\\\Whale Watch Azores 2005\\\\PM-WWA-20050608-055.jpg': '2885',\n",
       " 'data\\\\raw\\\\Whale Watch Azores 2005\\\\PM-WWA-20050608-A038.jpg': '2885',\n",
       " 'data\\\\raw\\\\Whale Watch Azores 2005\\\\PM-WWA-20050608-076.jpg': '2886',\n",
       " 'data\\\\raw\\\\Whale Watch Azores 2005\\\\PM-WWA-20050608-A035.jpg': '2887',\n",
       " 'data\\\\raw\\\\Whale Watch Azores 2005\\\\PM-WWA-20050609-002.jpg': '2888',\n",
       " 'data\\\\raw\\\\Whale Watch Azores 2005\\\\PM-WWA-20050609-004.jpg': '1989',\n",
       " 'data\\\\raw\\\\Whale Watch Azores 2005\\\\PM-WWA-20050609-014.jpg': '2889',\n",
       " 'data\\\\raw\\\\Whale Watch Azores 2005\\\\PM-WWA-20050611-002.jpg': '2890',\n",
       " 'data\\\\raw\\\\Whale Watch Azores 2005\\\\PM-WWA-20050611-005.jpg': '1879',\n",
       " 'data\\\\raw\\\\Whale Watch Azores 2005\\\\PM-WWA-20050611-008.jpg': '2891',\n",
       " 'data\\\\raw\\\\Whale Watch Azores 2005\\\\PM-WWA-20050611-010.jpg': '1840',\n",
       " 'data\\\\raw\\\\Whale Watch Azores 2005\\\\PM-WWA-20050611-122.jpg': '1840',\n",
       " 'data\\\\raw\\\\Whale Watch Azores 2005\\\\PM-WWA-20050611-012.jpg': '1598',\n",
       " 'data\\\\raw\\\\Whale Watch Azores 2005\\\\PM-WWA-20050611-126.jpg': '1598',\n",
       " 'data\\\\raw\\\\Whale Watch Azores 2005\\\\PM-WWA-20050619-172.jpg': '2535',\n",
       " 'data\\\\raw\\\\Whale Watch Azores 2005\\\\PM-WWA-20050612-006.jpg': '2352',\n",
       " 'data\\\\raw\\\\Whale Watch Azores 2005\\\\PM-WWA-20050619-189.jpg': '2352',\n",
       " 'data\\\\raw\\\\Whale Watch Azores 2005\\\\PM-WWA-20050612-021.jpg': '2628',\n",
       " 'data\\\\raw\\\\Whale Watch Azores 2005\\\\PM-WWA-20050612-031.jpg': '2628',\n",
       " 'data\\\\raw\\\\Whale Watch Azores 2005\\\\PM-WWA-20050612-033.jpg': '2529',\n",
       " 'data\\\\raw\\\\Whale Watch Azores 2005\\\\PM-WWA-20050619-180.jpg': '2529',\n",
       " 'data\\\\raw\\\\Whale Watch Azores 2005\\\\PM-WWA-20050612-042.jpg': '1746',\n",
       " 'data\\\\raw\\\\Whale Watch Azores 2005\\\\PM-WWA-20050612-045.jpg': '1543',\n",
       " 'data\\\\raw\\\\Whale Watch Azores 2005\\\\PM-WWA-20050612-047.jpg': '-1',\n",
       " 'data\\\\raw\\\\Whale Watch Azores 2005\\\\PM-WWA-20050619-170.jpg': '2047',\n",
       " 'data\\\\raw\\\\Whale Watch Azores 2005\\\\PM-WWA-20050619-195.jpg': '2892',\n",
       " 'data\\\\raw\\\\Whale Watch Azores 2005\\\\PM-WWA-20050617-010.jpg': '2893',\n",
       " 'data\\\\raw\\\\Whale Watch Azores 2005\\\\PM-WWA-20050617-007.jpg': '1541',\n",
       " 'data\\\\raw\\\\Whale Watch Azores 2005\\\\PM-WWA-20050617-032.jpg': '1541',\n",
       " 'data\\\\raw\\\\Whale Watch Azores 2005\\\\PM-WWA-20050617-018.jpg': '1559',\n",
       " 'data\\\\raw\\\\Whale Watch Azores 2005\\\\PM-WWA-20050617-019A.jpg': '2388',\n",
       " 'data\\\\raw\\\\Whale Watch Azores 2005\\\\PM-WWA-20050617-019.jpg': '2388',\n",
       " 'data\\\\raw\\\\Whale Watch Azores 2005\\\\PM-WWA-20050617-022.jpg': '2894',\n",
       " 'data\\\\raw\\\\Whale Watch Azores 2005\\\\PM-WWA-20050617-033.jpg': '2895',\n",
       " 'data\\\\raw\\\\Whale Watch Azores 2005\\\\PM-WWA-20050618-004.jpg': '2896',\n",
       " 'data\\\\raw\\\\Whale Watch Azores 2005\\\\PM-WWA-20050618-110.jpg': '2896',\n",
       " 'data\\\\raw\\\\Whale Watch Azores 2005\\\\PM-WWA-20050618-006.jpg': '2897',\n",
       " 'data\\\\raw\\\\Whale Watch Azores 2005\\\\PM-WWA-20050618-099.jpg': '2897',\n",
       " 'data\\\\raw\\\\Whale Watch Azores 2005\\\\PM-WWA-20050618-064.jpg': '2898',\n",
       " 'data\\\\raw\\\\Whale Watch Azores 2005\\\\PM-WWA-20050618-067.jpg': '2899',\n",
       " 'data\\\\raw\\\\Whale Watch Azores 2005\\\\PM-WWA-20050618-097.jpg': '2900',\n",
       " 'data\\\\raw\\\\Whale Watch Azores 2005\\\\PM-WWA-20050618-103.jpg': '2901',\n",
       " 'data\\\\raw\\\\Whale Watch Azores 2005\\\\PM-WWA-20050618-A208.jpg': '2902',\n",
       " 'data\\\\raw\\\\Whale Watch Azores 2005\\\\PM-WWA-20050618-B058.jpg': '2902',\n",
       " 'data\\\\raw\\\\Whale Watch Azores 2005\\\\PM-WWA-20050619-146.jpg': '2902',\n",
       " 'data\\\\raw\\\\Whale Watch Azores 2005\\\\PM-WWA-20050701-115.jpg': '2902',\n",
       " 'data\\\\raw\\\\Whale Watch Azores 2005\\\\PM-WWA-20050619-138.jpg': '2898',\n",
       " 'data\\\\raw\\\\Whale Watch Azores 2005\\\\PM-WWA-20050620-041.jpg': '2903',\n",
       " 'data\\\\raw\\\\Whale Watch Azores 2005\\\\PM-WWA-20050620-042.jpg': '-1',\n",
       " 'data\\\\raw\\\\Whale Watch Azores 2005\\\\PM-WWA-20050620-045.jpg': '2904',\n",
       " 'data\\\\raw\\\\Whale Watch Azores 2005\\\\PM-WWA-20050620-050.jpg': '1333',\n",
       " 'data\\\\raw\\\\Whale Watch Azores 2005\\\\PM-WWA-20050620-153.jpg': '1333',\n",
       " 'data\\\\raw\\\\Whale Watch Azores 2005\\\\PM-WWA-20050620-052.jpg': '2905',\n",
       " 'data\\\\raw\\\\Whale Watch Azores 2005\\\\PM-WWA-20050620-182.jpg': '2907',\n",
       " 'data\\\\raw\\\\Whale Watch Azores 2005\\\\PM-WWA-20050620-168.jpg': '2906',\n",
       " 'data\\\\raw\\\\Whale Watch Azores 2005\\\\PM-WWA-20050620-231.jpg': '2908',\n",
       " 'data\\\\raw\\\\Whale Watch Azores 2005\\\\PM-WWA-20050623-040.jpg': '2419',\n",
       " 'data\\\\raw\\\\Whale Watch Azores 2005\\\\PM-WWA-20050623-044.jpg': '2909',\n",
       " 'data\\\\raw\\\\Whale Watch Azores 2005\\\\PM-WWA-20050623-048.jpg': '2733',\n",
       " 'data\\\\raw\\\\Whale Watch Azores 2005\\\\PM-WWA-20050623-064.jpg': '2910',\n",
       " 'data\\\\raw\\\\Whale Watch Azores 2005\\\\PM-WWA-20050623-066.jpg': '-1',\n",
       " 'data\\\\raw\\\\Whale Watch Azores 2005\\\\PM-WWA-20050624-002.jpg': '2911',\n",
       " 'data\\\\raw\\\\Whale Watch Azores 2005\\\\PM-WWA-20050625-079.jpg': '2776',\n",
       " 'data\\\\raw\\\\Whale Watch Azores 2005\\\\PM-WWA-20050707-271.jpg': '2776',\n",
       " 'data\\\\raw\\\\Whale Watch Azores 2005\\\\PM-WWA-20050625-082.jpg': '2580',\n",
       " 'data\\\\raw\\\\Whale Watch Azores 2005\\\\PM-WWA-20050707-173.jpg': '2580',\n",
       " 'data\\\\raw\\\\Whale Watch Azores 2005\\\\PM-WWA-20050625-085.jpg': '2772',\n",
       " 'data\\\\raw\\\\Whale Watch Azores 2005\\\\PM-WWA-20050625-101.jpg': '2772',\n",
       " 'data\\\\raw\\\\Whale Watch Azores 2005\\\\PM-WWA-20050627-049.jpg': '2772',\n",
       " 'data\\\\raw\\\\Whale Watch Azores 2005\\\\PM-WWA-20050706-A031.jpg': '2772',\n",
       " 'data\\\\raw\\\\Whale Watch Azores 2005\\\\PM-WWA-20050625-094.jpg': '2579',\n",
       " 'data\\\\raw\\\\Whale Watch Azores 2005\\\\PM-WWA-20050707-169.jpg': '2579',\n",
       " 'data\\\\raw\\\\Whale Watch Azores 2005\\\\PM-WWA-20050709-A037.jpg': '2579',\n",
       " 'data\\\\raw\\\\Whale Watch Azores 2005\\\\PM-WWA-20050625-105.jpg': '2748',\n",
       " 'data\\\\raw\\\\Whale Watch Azores 2005\\\\PM-WWA-20050707-175.jpg': '2748',\n",
       " 'data\\\\raw\\\\Whale Watch Azores 2005\\\\PM-WWA-20050625-129.jpg': '2750',\n",
       " 'data\\\\raw\\\\Whale Watch Azores 2005\\\\PM-WWA-20050625-130.jpg': '2750',\n",
       " 'data\\\\raw\\\\Whale Watch Azores 2005\\\\PM-WWA-20050625-132.jpg': '-1',\n",
       " 'data\\\\raw\\\\Whale Watch Azores 2005\\\\PM-WWA-20050625-133.jpg': '-1',\n",
       " 'data\\\\raw\\\\Whale Watch Azores 2005\\\\PM-WWA-20050626-006.jpg': '2912',\n",
       " 'data\\\\raw\\\\Whale Watch Azores 2005\\\\PM-WWA-20050626-046.jpg': '2913',\n",
       " 'data\\\\raw\\\\Whale Watch Azores 2005\\\\PM-WWA-20050626-057.jpg': '2914',\n",
       " 'data\\\\raw\\\\Whale Watch Azores 2005\\\\PM-WWA-20050626-059.jpg': '2915',\n",
       " 'data\\\\raw\\\\Whale Watch Azores 2005\\\\PM-WWA-20050626-063.jpg': '2916',\n",
       " 'data\\\\raw\\\\Whale Watch Azores 2005\\\\PM-WWA-20050627-009.jpg': '2390',\n",
       " 'data\\\\raw\\\\Whale Watch Azores 2005\\\\PM-WWA-20050627-013.jpg': '2917',\n",
       " 'data\\\\raw\\\\Whale Watch Azores 2005\\\\PM-WWA-20050627-025.jpg': '2918',\n",
       " 'data\\\\raw\\\\Whale Watch Azores 2005\\\\PM-WWA-20050627-054.jpg': '2580',\n",
       " 'data\\\\raw\\\\Whale Watch Azores 2005\\\\PM-WWA-20050627-069.jpg': '2582',\n",
       " 'data\\\\raw\\\\Whale Watch Azores 2005\\\\PM-WWA-20050628-088.jpg': '2892',\n",
       " 'data\\\\raw\\\\Whale Watch Azores 2005\\\\PM-WWA-20050628-107.jpg': '2352',\n",
       " 'data\\\\raw\\\\Whale Watch Azores 2005\\\\PM-WWA-20050701-061.jpg': '2919',\n",
       " 'data\\\\raw\\\\Whale Watch Azores 2005\\\\PM-WWA-20050701-064.jpg': '2919',\n",
       " 'data\\\\raw\\\\Whale Watch Azores 2005\\\\PM-WWA-20050701-071.jpg': '2919',\n",
       " 'data\\\\raw\\\\Whale Watch Azores 2005\\\\PM-WWA-20050701-102.jpg': '2628',\n",
       " 'data\\\\raw\\\\Whale Watch Azores 2005\\\\PM-WWA-20050704-002.jpg': '2532',\n",
       " 'data\\\\raw\\\\Whale Watch Azores 2005\\\\PM-WWA-20050704-005.jpg': '2920',\n",
       " 'data\\\\raw\\\\Whale Watch Azores 2005\\\\PM-WWA-20050704-011.jpg': '2921',\n",
       " 'data\\\\raw\\\\Whale Watch Azores 2005\\\\PM-WWA-20050704-012.jpg': '-1',\n",
       " 'data\\\\raw\\\\Whale Watch Azores 2005\\\\PM-WWA-20050704-024.jpg': '2922',\n",
       " 'data\\\\raw\\\\Whale Watch Azores 2005\\\\PM-WWA-20050704-027.jpg': '1822',\n",
       " 'data\\\\raw\\\\Whale Watch Azores 2005\\\\PM-WWA-20050704-037.jpg': '2923',\n",
       " 'data\\\\raw\\\\Whale Watch Azores 2005\\\\PM-WWA-20050704-041.jpg': '2924',\n",
       " 'data\\\\raw\\\\Whale Watch Azores 2005\\\\PM-WWA-20050704-043.jpg': '2925',\n",
       " 'data\\\\raw\\\\Whale Watch Azores 2005\\\\PM-WWA-20050704-046.jpg': '2926',\n",
       " 'data\\\\raw\\\\Whale Watch Azores 2005\\\\PM-WWA-20050704-050.jpg': '2935',\n",
       " 'data\\\\raw\\\\Whale Watch Azores 2005\\\\PM-WWA-20050705-150.jpg': '2927',\n",
       " 'data\\\\raw\\\\Whale Watch Azores 2005\\\\PM-WWA-20050705-151.jpg': '2928',\n",
       " 'data\\\\raw\\\\Whale Watch Azores 2005\\\\PM-WWA-20050706-214.jpg': '2581',\n",
       " 'data\\\\raw\\\\Whale Watch Azores 2005\\\\PM-WWA-20050706-146.jpg': '2776',\n",
       " 'data\\\\raw\\\\Whale Watch Azores 2005\\\\PM-WWA-20050706-A026.jpg': '1371',\n",
       " 'data\\\\raw\\\\Whale Watch Azores 2005\\\\PM-WWA-20050706-180.jpg': '1039',\n",
       " 'data\\\\raw\\\\Whale Watch Azores 2005\\\\PM-WWA-20050707-159.jpg': '2773',\n",
       " 'data\\\\raw\\\\Whale Watch Azores 2005\\\\PM-WWA-20050707-275.jpg': '2929',\n",
       " 'data\\\\raw\\\\Whale Watch Azores 2005\\\\PM-WWA-20050709-231.jpg': '2929',\n",
       " 'data\\\\raw\\\\Whale Watch Azores 2005\\\\PM-WWA-20050706-A002.jpg': '2932',\n",
       " 'data\\\\raw\\\\Whale Watch Azores 2005\\\\PM-WWA-20050707-163.jpg': '2932',\n",
       " 'data\\\\raw\\\\Whale Watch Azores 2005\\\\PM-WWA-20050706-A004.jpg': '-1',\n",
       " 'data\\\\raw\\\\Whale Watch Azores 2005\\\\PM-WWA-20050706-A006.jpg': '-1',\n",
       " 'data\\\\raw\\\\Whale Watch Azores 2005\\\\PM-WWA-20050706-A029.jpg': '2930',\n",
       " 'data\\\\raw\\\\Whale Watch Azores 2005\\\\PM-WWA-20050706-A036.jpg': '2582',\n",
       " 'data\\\\raw\\\\Whale Watch Azores 2005\\\\PM-WWA-20050707-147.jpg': '2931',\n",
       " 'data\\\\raw\\\\Whale Watch Azores 2005\\\\PM-WWA-20050709-A001.jpg': '2931',\n",
       " 'data\\\\raw\\\\Whale Watch Azores 2005\\\\PM-WWA-20050707-281.jpg': '2578',\n",
       " 'data\\\\raw\\\\Whale Watch Azores 2005\\\\PM-WWA-20050707-370.jpg': '2579',\n",
       " 'data\\\\raw\\\\Whale Watch Azores 2005\\\\PM-WWA-20050707-179.jpg': '2750',\n",
       " 'data\\\\raw\\\\Whale Watch Azores 2005\\\\PM-WWA-20050707-264.jpg': '2937',\n",
       " 'data\\\\raw\\\\Whale Watch Azores 2005\\\\PM-WWA-20050707-154.jpg': '2937',\n",
       " 'data\\\\raw\\\\Whale Watch Azores 2005\\\\PM-WWA-20050707-278.jpg': '2583',\n",
       " 'data\\\\raw\\\\Whale Watch Azores 2005\\\\PM-WWA-20050707-365.jpg': '-1',\n",
       " 'data\\\\raw\\\\Whale Watch Azores 2005\\\\PM-WWA-20050709-A019.jpg': '2583',\n",
       " 'data\\\\raw\\\\Whale Watch Azores 2005\\\\PM-WWA-20050710-100.jpg': '2938',\n",
       " 'data\\\\raw\\\\Whale Watch Azores 2005\\\\PM-WWA-20050710-121.jpg': '2938',\n",
       " 'data\\\\raw\\\\Whale Watch Azores 2005\\\\PM-WWA-20050710-130.jpg': '2940',\n",
       " 'data\\\\raw\\\\Whale Watch Azores 2005\\\\PM-WWA-20050710-006.jpg': '2939',\n",
       " 'data\\\\raw\\\\Whale Watch Azores 2005\\\\PM-WWA-20050710-089.jpg': '2939',\n",
       " 'data\\\\raw\\\\Whale Watch Azores 2005\\\\PM-WWA-20050710-008.jpg': '2941',\n",
       " 'data\\\\raw\\\\Whale Watch Azores 2005\\\\PM-WWA-20050710-128.jpg': '2942',\n",
       " 'data\\\\raw\\\\Whale Watch Azores 2005\\\\PM-WWA-20050710-073.jpg': '-1',\n",
       " 'data\\\\raw\\\\Whale Watch Azores 2005\\\\PM-WWA-20050710-134.jpg': '2943',\n",
       " 'data\\\\raw\\\\Whale Watch Azores 2005\\\\PM-WWA-20050710-112.jpg': '2944',\n",
       " 'data\\\\raw\\\\Whale Watch Azores 2005\\\\PM-WWA-20050710-085.jpg': '-1',\n",
       " 'data\\\\raw\\\\Whale Watch Azores 2005\\\\PM-WWA-20050710-114.jpg': '2945',\n",
       " 'data\\\\raw\\\\Whale Watch Azores 2005\\\\PM-WWA-20050710-125.jpg': '2945',\n",
       " 'data\\\\raw\\\\Whale Watch Azores 2005\\\\PM-WWA-20050710-088.jpg': '-1',\n",
       " 'data\\\\raw\\\\Whale Watch Azores 2005\\\\PM-WWA-20050710-098.jpg': '2946',\n",
       " 'data\\\\raw\\\\Whale Watch Azores 2005\\\\PM-WWA-20050710-122.jpg': '2946',\n",
       " 'data\\\\raw\\\\Whale Watch Azores 2005\\\\PM-WWA-20050710-102.jpg': '2947',\n",
       " 'data\\\\raw\\\\Whale Watch Azores 2005\\\\PM-WWA-20050710-115.jpg': '-1',\n",
       " 'data\\\\raw\\\\Whale Watch Azores 2005\\\\PM-WWA-20050710-059.jpg': '2948',\n",
       " 'data\\\\raw\\\\Whale Watch Azores 2005\\\\PM-WWA-20050710-117.jpg': '2948',\n",
       " 'data\\\\raw\\\\Whale Watch Azores 2005\\\\PM-WWA-20050714-081.jpg': '2949',\n",
       " 'data\\\\raw\\\\Whale Watch Azores 2005\\\\PM-WWA-20050714-086.jpg': '2950',\n",
       " 'data\\\\raw\\\\Whale Watch Azores 2005\\\\PM-WWA-20050714-088.jpg': '-1',\n",
       " 'data\\\\raw\\\\Whale Watch Azores 2005\\\\PM-WWA-20050714-094.jpg': '2952',\n",
       " 'data\\\\raw\\\\Whale Watch Azores 2005\\\\PM-WWA-20050714-093.jpg': '2952',\n",
       " 'data\\\\raw\\\\Whale Watch Azores 2005\\\\PM-WWA-20050714-096.jpg': '2953',\n",
       " 'data\\\\raw\\\\Whale Watch Azores 2005\\\\PM-WWA-20050714-097.jpg': '2954',\n",
       " 'data\\\\raw\\\\Whale Watch Azores 2005\\\\PM-WWA-20050714-100.jpg': '2955',\n",
       " 'data\\\\raw\\\\Whale Watch Azores 2005\\\\PM-WWA-20050714-105.jpg': '2956',\n",
       " 'data\\\\raw\\\\Whale Watch Azores 2005\\\\PM-WWA-20050714-109.jpg': '2957',\n",
       " 'data\\\\raw\\\\Whale Watch Azores 2005\\\\PM-WWA-20050716-154.jpg': '2958',\n",
       " 'data\\\\raw\\\\Whale Watch Azores 2005\\\\PM-WWA-20050716-158.jpg': '2959',\n",
       " 'data\\\\raw\\\\Whale Watch Azores 2005\\\\PM-WWA-20050716-161.jpg': '2960',\n",
       " 'data\\\\raw\\\\Whale Watch Azores 2005\\\\PM-WWA-20050716-167.jpg': '2961',\n",
       " 'data\\\\raw\\\\Whale Watch Azores 2005\\\\PM-WWA-20050716-170.jpg': '2962',\n",
       " 'data\\\\raw\\\\Whale Watch Azores 2005\\\\PM-WWA-20050716-173.jpg': '2963',\n",
       " 'data\\\\raw\\\\Whale Watch Azores 2005\\\\PM-WWA-20050716-180.jpg': '2964',\n",
       " 'data\\\\raw\\\\Whale Watch Azores 2005\\\\PM-WWA-20050716-186.jpg': '2964',\n",
       " 'data\\\\raw\\\\Whale Watch Azores 2005\\\\PM-WWA-20050716-183.jpg': '-1',\n",
       " 'data\\\\raw\\\\Whale Watch Azores 2005\\\\PM-WWA-20050716-189.jpg': '2965',\n",
       " 'data\\\\raw\\\\Whale Watch Azores 2005\\\\PM-WWA-20050717-003.jpg': '2966',\n",
       " 'data\\\\raw\\\\Whale Watch Azores 2005\\\\PM-WWA-20050717-011.jpg': '2967',\n",
       " 'data\\\\raw\\\\Whale Watch Azores 2005\\\\PM-WWA-20050717-015.jpg': '2968',\n",
       " 'data\\\\raw\\\\Whale Watch Azores 2005\\\\PM-WWA-20050717-024.jpg': '2969',\n",
       " 'data\\\\raw\\\\Whale Watch Azores 2005\\\\PM-WWA-20050717-057.jpg': '2970',\n",
       " 'data\\\\raw\\\\Whale Watch Azores 2005\\\\PM-WWA-20050717-073.jpg': '2971',\n",
       " 'data\\\\raw\\\\Whale Watch Azores 2005\\\\PM-WWA-20050717-077.jpg': '2972',\n",
       " 'data\\\\raw\\\\Whale Watch Azores 2005\\\\PM-WWA-20050717-083.jpg': '2973',\n",
       " 'data\\\\raw\\\\Whale Watch Azores 2005\\\\PM-WWA-20050717-099.jpg': '2974',\n",
       " 'data\\\\raw\\\\Whale Watch Azores 2005\\\\PM-WWA-20050717-102.jpg': '2975',\n",
       " 'data\\\\raw\\\\Whale Watch Azores 2005\\\\PM-WWA-20050717-104.jpg': '2976',\n",
       " 'data\\\\raw\\\\Whale Watch Azores 2005\\\\PM-WWA-20050718-020.jpg': '2977',\n",
       " 'data\\\\raw\\\\Whale Watch Azores 2005\\\\PM-WWA-20050718-078.jpg': '2977',\n",
       " 'data\\\\raw\\\\Whale Watch Azores 2005\\\\PM-WWA-20050718-131.jpg': '2978',\n",
       " 'data\\\\raw\\\\Whale Watch Azores 2005\\\\PM-WWA-20050718-085.jpg': '2779',\n",
       " 'data\\\\raw\\\\Whale Watch Azores 2005\\\\PM-WWA-20050718-096.jpg': '2257',\n",
       " 'data\\\\raw\\\\Whale Watch Azores 2005\\\\PM-WWA-20050718-114.jpg': '2778',\n",
       " 'data\\\\raw\\\\Whale Watch Azores 2005\\\\PM-WWA-20050718-135.jpg': '2980',\n",
       " 'data\\\\raw\\\\Whale Watch Azores 2005\\\\PM-WWA-20050718-126.jpg': '-1',\n",
       " 'data\\\\raw\\\\Whale Watch Azores 2005\\\\PM-WWA-20050719-006.jpg': '2902',\n",
       " 'data\\\\raw\\\\Whale Watch Azores 2005\\\\PM-WWA-20050722-097.jpg': '-1',\n",
       " 'data\\\\raw\\\\Whale Watch Azores 2005\\\\PM-WWA-20050722-137.jpg': '2937',\n",
       " 'data\\\\raw\\\\Whale Watch Azores 2005\\\\PM-WWA-20050722-166.jpg': '2937',\n",
       " 'data\\\\raw\\\\Whale Watch Azores 2005\\\\PM-WWA-20050723-016.jpg': '2981',\n",
       " 'data\\\\raw\\\\Whale Watch Azores 2005\\\\PM-WWA-20050723-017.jpg': '2981',\n",
       " 'data\\\\raw\\\\Whale Watch Azores 2005\\\\PM-WWA-20050723-022.jpg': '2982',\n",
       " 'data\\\\raw\\\\Whale Watch Azores 2005\\\\PM-WWA-20050723-176.jpg': '2984',\n",
       " 'data\\\\raw\\\\Whale Watch Azores 2005\\\\PM-WWA-20050723-A018.jpg': '2988',\n",
       " 'data\\\\raw\\\\Whale Watch Azores 2005\\\\PM-WWA-20050723-123.jpg': '-1',\n",
       " 'data\\\\raw\\\\Whale Watch Azores 2005\\\\PM-WWA-20050723-A012.jpg': '2987',\n",
       " 'data\\\\raw\\\\Whale Watch Azores 2005\\\\PM-WWA-20050723-060.jpg': '2983',\n",
       " 'data\\\\raw\\\\Whale Watch Azores 2005\\\\PM-WWA-20050723-081.jpg': '-1',\n",
       " 'data\\\\raw\\\\Whale Watch Azores 2005\\\\PM-WWA-20050723-109.jpg': '-1',\n",
       " 'data\\\\raw\\\\Whale Watch Azores 2005\\\\PM-WWA-20050723-115.jpg': '2985',\n",
       " 'data\\\\raw\\\\Whale Watch Azores 2005\\\\PM-WWA-20050723-147.jpg': '2986',\n",
       " 'data\\\\raw\\\\Whale Watch Azores 2005\\\\PM-WWA-20050723-196.jpg': '2986',\n",
       " 'data\\\\raw\\\\Whale Watch Azores 2005\\\\PM-WWA-20050723-195.jpg': '-1',\n",
       " 'data\\\\raw\\\\Whale Watch Azores 2005\\\\PM-WWA-20050723-244.jpg': '2989',\n",
       " 'data\\\\raw\\\\Whale Watch Azores 2005\\\\PM-WWA-20050728-223.jpg': '2990',\n",
       " 'data\\\\raw\\\\Whale Watch Azores 2005\\\\PM-WWA-20050730-004.jpg': '2991',\n",
       " 'data\\\\raw\\\\Whale Watch Azores 2005\\\\PM-WWA-20050730-007.jpg': '2992',\n",
       " 'data\\\\raw\\\\Whale Watch Azores 2005\\\\PM-WWA-20050730-010.jpg': '2993',\n",
       " 'data\\\\raw\\\\Whale Watch Azores 2005\\\\PM-WWA-20050730-067.jpg': '-1',\n",
       " 'data\\\\raw\\\\Whale Watch Azores 2005\\\\PM-WWA-20050730-068.jpg': '-1',\n",
       " 'data\\\\raw\\\\Whale Watch Azores 2005\\\\PM-WWA-20050731-114.jpg': '2994',\n",
       " 'data\\\\raw\\\\Whale Watch Azores 2005\\\\PM-WWA-20050731-116.jpg': '-1',\n",
       " 'data\\\\raw\\\\Whale Watch Azores 2005\\\\PM-WWA-20050731-153.jpg': '2995',\n",
       " 'data\\\\raw\\\\Whale Watch Azores 2005\\\\PM-WWA-20050731-155.jpg': '-1',\n",
       " 'data\\\\raw\\\\Whale Watch Azores 2005\\\\PM-WWA-20050731-156.jpg': '-1',\n",
       " 'data\\\\raw\\\\Whale Watch Azores 2005\\\\PM-WWA-20050731-157.jpg': '2996',\n",
       " 'data\\\\raw\\\\Whale Watch Azores 2005\\\\PM-WWA-20050731-158.jpg': '5000',\n",
       " 'data\\\\raw\\\\Whale Watch Azores 2005\\\\PM-WWA-20050731-159.jpg': '-1',\n",
       " 'data\\\\raw\\\\Whale Watch Azores 2005\\\\PM-WWA-20050731-161.jpg': '2997',\n",
       " 'data\\\\raw\\\\Whale Watch Azores 2005\\\\PM-WWA-20050801-021.jpg': '2216',\n",
       " 'data\\\\raw\\\\Whale Watch Azores 2005\\\\PM-WWA-20050801-025.jpg': '2998',\n",
       " 'data\\\\raw\\\\Whale Watch Azores 2005\\\\PM-WWA-20050802-097.jpg': '2999',\n",
       " 'data\\\\raw\\\\Whale Watch Azores 2005\\\\PM-WWA-20050804-012.jpg': '2999',\n",
       " 'data\\\\raw\\\\Whale Watch Azores 2005\\\\PM-WWA-20050802-106.jpg': '-1',\n",
       " 'data\\\\raw\\\\Whale Watch Azores 2005\\\\PM-WWA-20050803-040.jpg': '-1',\n",
       " 'data\\\\raw\\\\Whale Watch Azores 2005\\\\PM-WWA-20050803-062.jpg': '3000',\n",
       " 'data\\\\raw\\\\Whale Watch Azores 2005\\\\PM-WWA-20050803-095.jpg': '3001',\n",
       " 'data\\\\raw\\\\Whale Watch Azores 2005\\\\PM-WWA-20050804-007.jpg': '-1',\n",
       " 'data\\\\raw\\\\Whale Watch Azores 2005\\\\PM-WWA-20050804-009.jpg': '-1',\n",
       " 'data\\\\raw\\\\Whale Watch Azores 2005\\\\PM-WWA-20050804-016.jpg': '-1',\n",
       " 'data\\\\raw\\\\Whale Watch Azores 2005\\\\PM-WWA-20050804-026.jpg': '3002',\n",
       " 'data\\\\raw\\\\Whale Watch Azores 2005\\\\PM-WWA-20050804-033.jpg': '-1',\n",
       " 'data\\\\raw\\\\Whale Watch Azores 2005\\\\PM-WWA-20050804-034.jpg': '-1',\n",
       " 'data\\\\raw\\\\Whale Watch Azores 2005\\\\PM-WWA-20050806-002.jpg': '-1',\n",
       " 'data\\\\raw\\\\Whale Watch Azores 2005\\\\PM-WWA-20050806-003.jpg': '-1',\n",
       " 'data\\\\raw\\\\Whale Watch Azores 2005\\\\PM-WWA-20050806-077.jpg': '3003',\n",
       " 'data\\\\raw\\\\Whale Watch Azores 2005\\\\PM-WWA-20050809-014.jpg': '2352',\n",
       " 'data\\\\raw\\\\Whale Watch Azores 2005\\\\PM-WWA-20050809-130.jpg': '2352',\n",
       " 'data\\\\raw\\\\Whale Watch Azores 2005\\\\PM-WWA-20050809-116.jpg': '3004',\n",
       " 'data\\\\raw\\\\Whale Watch Azores 2005\\\\PM-WWA-20050809-121.jpg': '3005',\n",
       " 'data\\\\raw\\\\Whale Watch Azores 2005\\\\PM-WWA-20050809-123.jpg': '2892',\n",
       " 'data\\\\raw\\\\Whale Watch Azores 2005\\\\PM-WWA-20050812-129.jpg': '2086',\n",
       " 'data\\\\raw\\\\Whale Watch Azores 2005\\\\PM-WWA-20050812-134.jpg': '3006',\n",
       " 'data\\\\raw\\\\Whale Watch Azores 2005\\\\PM-WWA-20050812-137.jpg': '3007',\n",
       " 'data\\\\raw\\\\Whale Watch Azores 2005\\\\PM-WWA-20050812-144.jpg': '3008',\n",
       " 'data\\\\raw\\\\Whale Watch Azores 2005\\\\PM-WWA-20050812-161.jpg': '2079',\n",
       " 'data\\\\raw\\\\Whale Watch Azores 2005\\\\PM-WWA-20050819-213.jpg': '3009',\n",
       " 'data\\\\raw\\\\Whale Watch Azores 2005\\\\PM-WWA-20050821-093.jpg': '3010',\n",
       " 'data\\\\raw\\\\Whale Watch Azores 2005\\\\PM-WWA-20050821-113.jpg': '3010',\n",
       " 'data\\\\raw\\\\Whale Watch Azores 2005\\\\PM-WWA-20050821-094.jpg': '-1',\n",
       " 'data\\\\raw\\\\Whale Watch Azores 2005\\\\PM-WWA-20050821-096.jpg': '3011',\n",
       " 'data\\\\raw\\\\Whale Watch Azores 2005\\\\PM-WWA-20050821-115.jpg': '3011',\n",
       " 'data\\\\raw\\\\Whale Watch Azores 2005\\\\PM-WWA-20050821-098.jpg': '-1',\n",
       " 'data\\\\raw\\\\Whale Watch Azores 2005\\\\PM-WWA-20050821-102.jpg': '2807',\n",
       " 'data\\\\raw\\\\Whale Watch Azores 2005\\\\PM-WWA-20050821-129.jpg': '2807',\n",
       " 'data\\\\raw\\\\Whale Watch Azores 2005\\\\PM-WWA-20050821-125.jpg': '3012',\n",
       " 'data\\\\raw\\\\Whale Watch Azores 2005\\\\PM-WWA-20050822-133.jpg': '2642',\n",
       " 'data\\\\raw\\\\Whale Watch Azores 2005\\\\PM-WWA-20050822-166.jpg': '3013',\n",
       " 'data\\\\raw\\\\Whale Watch Azores 2005\\\\PM-WWA-20050822-195.jpg': '3014',\n",
       " 'data\\\\raw\\\\Whale Watch Azores 2005\\\\PM-WWA-20050822-245.jpg': '3014',\n",
       " 'data\\\\raw\\\\Whale Watch Azores 2005\\\\PM-WWA-20050822-242.jpg': '3015',\n",
       " 'data\\\\raw\\\\Whale Watch Azores 2005\\\\PM-WWA-20050822-211.jpg': '3016',\n",
       " 'data\\\\raw\\\\Whale Watch Azores 2005\\\\PM-WWA-20050822-215.jpg': '3017',\n",
       " 'data\\\\raw\\\\Whale Watch Azores 2005\\\\PM-WWA-20050822-238.jpg': '3017',\n",
       " 'data\\\\raw\\\\Whale Watch Azores 2005\\\\PM-WWA-20050822-217.jpg': '3018',\n",
       " 'data\\\\raw\\\\Whale Watch Azores 2005\\\\PM-WWA-20050822-237.jpg': '3018',\n",
       " 'data\\\\raw\\\\Whale Watch Azores 2005\\\\PM-WWA-20050822-229.jpg': '3019',\n",
       " 'data\\\\raw\\\\Whale Watch Azores 2005\\\\PM-WWA-20050822-230.jpg': '3020',\n",
       " 'data\\\\raw\\\\Whale Watch Azores 2005\\\\PM-WWA-20050822-233.jpg': '3021',\n",
       " 'data\\\\raw\\\\Whale Watch Azores 2005\\\\PM-WWA-20050822-234.jpg': '3022',\n",
       " 'data\\\\raw\\\\Whale Watch Azores 2005\\\\PM-WWA-20050823-011.jpg': '3023',\n",
       " 'data\\\\raw\\\\Whale Watch Azores 2005\\\\PM-WWA-20050823-152.jpg': '3024',\n",
       " 'data\\\\raw\\\\Whale Watch Azores 2005\\\\PM-WWA-20050823-161.jpg': '3025',\n",
       " 'data\\\\raw\\\\Whale Watch Azores 2005\\\\PM-WWA-20050823-122.jpg': '3026',\n",
       " 'data\\\\raw\\\\Whale Watch Azores 2005\\\\PM-WWA-20050823-130.jpg': '3027',\n",
       " 'data\\\\raw\\\\Whale Watch Azores 2005\\\\PM-WWA-20050823-131.jpg': '3028',\n",
       " 'data\\\\raw\\\\Whale Watch Azores 2005\\\\PM-WWA-20050823-155.jpg': '3029',\n",
       " 'data\\\\raw\\\\Whale Watch Azores 2005\\\\PM-WWA-20050823-148.jpg': '3030',\n",
       " 'data\\\\raw\\\\Whale Watch Azores 2005\\\\PM-WWA-20050824-036.jpg': '-1',\n",
       " 'data\\\\raw\\\\Whale Watch Azores 2005\\\\PM-WWA-20050824-041.jpg': '3031',\n",
       " 'data\\\\raw\\\\Whale Watch Azores 2005\\\\PM-WWA-20050824-046.jpg': '3032',\n",
       " 'data\\\\raw\\\\Whale Watch Azores 2005\\\\PM-WWA-20050824-049.jpg': '3033',\n",
       " 'data\\\\raw\\\\Whale Watch Azores 2005\\\\PM-WWA-20050824-050.jpg': '3033',\n",
       " 'data\\\\raw\\\\Whale Watch Azores 2005\\\\PM-WWA-20050824-052.jpg': '1570',\n",
       " 'data\\\\raw\\\\Whale Watch Azores 2005\\\\PM-WWA-20050825-102.jpg': '3034',\n",
       " 'data\\\\raw\\\\Whale Watch Azores 2005\\\\PM-WWA-20050825-106.jpg': '3035',\n",
       " 'data\\\\raw\\\\Whale Watch Azores 2005\\\\PM-WWA-20050825-143.jpg': '3036',\n",
       " 'data\\\\raw\\\\Whale Watch Azores 2005\\\\PM-WWA-20050825-134.jpg': '3037',\n",
       " 'data\\\\raw\\\\Whale Watch Azores 2005\\\\PM-WWA-20050827-A008.jpg': '3038',\n",
       " 'data\\\\raw\\\\Whale Watch Azores 2005\\\\PM-WWA-20050827-A009.jpg': '3039',\n",
       " 'data\\\\raw\\\\Whale Watch Azores 2005\\\\PM-WWA-20050827-A014.jpg': '3040',\n",
       " 'data\\\\raw\\\\Whale Watch Azores 2005\\\\PM-WWA-20050828-048.jpg': '3041',\n",
       " 'data\\\\raw\\\\Whale Watch Azores 2005\\\\PM-WWA-20050828-051.jpg': '3042',\n",
       " 'data\\\\raw\\\\Whale Watch Azores 2005\\\\PM-WWA-20050828-092.jpg': '3043',\n",
       " 'data\\\\raw\\\\Whale Watch Azores 2005\\\\PM-WWA-20050828-066.jpg': '3044',\n",
       " 'data\\\\raw\\\\Whale Watch Azores 2005\\\\PM-WWA-20050828-059.jpg': '3045',\n",
       " 'data\\\\raw\\\\Whale Watch Azores 2005\\\\PM-WWA-20050828-103.jpg': '3046',\n",
       " 'data\\\\raw\\\\Whale Watch Azores 2005\\\\PM-WWA-20050828-069.jpg': '3047',\n",
       " 'data\\\\raw\\\\Whale Watch Azores 2005\\\\PM-WWA-20050828-107.jpg': '3047',\n",
       " 'data\\\\raw\\\\Whale Watch Azores 2005\\\\PM-WWA-20050828-097.jpg': '3048',\n",
       " 'data\\\\raw\\\\Whale Watch Azores 2005\\\\PM-WWA-20050829-164.jpg': '2238',\n",
       " 'data\\\\raw\\\\Whale Watch Azores 2005\\\\PM-WWA-20050829-A014.jpg': '-1',\n",
       " 'data\\\\raw\\\\Whale Watch Azores 2005\\\\PM-WWA-20050829-A015.jpg': '-1',\n",
       " 'data\\\\raw\\\\Whale Watch Azores 2005\\\\PM-WWA-20050831-052.jpg': '2564',\n",
       " 'data\\\\raw\\\\Whale Watch Azores 2005\\\\PM-WWA-20050831-056.jpg': '2352',\n",
       " 'data\\\\raw\\\\Whale Watch Azores 2005\\\\PM-WWA-20050831-075.jpg': '1543',\n",
       " 'data\\\\raw\\\\Whale Watch Azores 2005\\\\PM-WWA-20050831-072.jpg': '2529',\n",
       " 'data\\\\raw\\\\Whale Watch Azores 2005\\\\PM-WWA-20050831-078.jpg': '1746',\n",
       " 'data\\\\raw\\\\Whale Watch Azores 2005\\\\PM-WWA-20050831-084.jpg': '2628',\n",
       " 'data\\\\raw\\\\Whale Watch Azores 2005\\\\PM-WWA-20050831-087.jpg': '2535',\n",
       " 'data\\\\raw\\\\Whale Watch Azores 2005\\\\PM-WWA-20050831-106.jpg': '-1',\n",
       " 'data\\\\raw\\\\Whale Watch Azores 2005\\\\PM-WWA-20050906-002.jpg': '2352',\n",
       " 'data\\\\raw\\\\Whale Watch Azores 2005\\\\PM-WWA-20050906-007.jpg': '2238',\n",
       " 'data\\\\raw\\\\Whale Watch Azores 2005\\\\PM-WWA-20050906-011.jpg': '2892',\n",
       " 'data\\\\raw\\\\Whale Watch Azores 2005\\\\PM-WWA-20050907-003.jpg': '1543',\n",
       " 'data\\\\raw\\\\Whale Watch Azores 2005\\\\PM-WWA-20050907-004.jpg': '2892',\n",
       " 'data\\\\raw\\\\Whale Watch Azores 2005\\\\PM-WWA-20050907-031.jpg': '2892',\n",
       " 'data\\\\raw\\\\Whale Watch Azores 2005\\\\PM-WWA-20050907-008.jpg': '3049',\n",
       " 'data\\\\raw\\\\Whale Watch Azores 2005\\\\PM-WWA-20050907-018.jpg': '-1',\n",
       " 'data\\\\raw\\\\Whale Watch Azores 2005\\\\PM-WWA-20050915-059.jpg': '3050',\n",
       " 'data\\\\raw\\\\Whale Watch Azores 2005\\\\PM-WWA-20050915-084.jpg': '3050',\n",
       " 'data\\\\raw\\\\Whale Watch Azores 2005\\\\PM-WWA-20050915-063.jpg': '3051',\n",
       " 'data\\\\raw\\\\Whale Watch Azores 2005\\\\PM-WWA-20050915-072.jpg': '3051',\n",
       " 'data\\\\raw\\\\Whale Watch Azores 2005\\\\PM-WWA-20050915-066.jpg': '3052',\n",
       " 'data\\\\raw\\\\Whale Watch Azores 2005\\\\PM-WWA-20050915-069.jpg': '3053',\n",
       " 'data\\\\raw\\\\Whale Watch Azores 2005\\\\PM-WWA-20050915-071.jpg': '-1',\n",
       " 'data\\\\raw\\\\Whale Watch Azores 2005\\\\PM-WWA-20050915-086.jpg': '-1',\n",
       " 'data\\\\raw\\\\Whale Watch Azores 2005\\\\PM-WWA-20050916-042.jpg': '3054',\n",
       " 'data\\\\raw\\\\Whale Watch Azores 2005\\\\PM-WWA-20050917-003.jpg': '3055',\n",
       " 'data\\\\raw\\\\Whale Watch Azores 2005\\\\PM-WWA-20050917-105.jpg': '2814',\n",
       " 'data\\\\raw\\\\Whale Watch Azores 2005\\\\PM-WWA-20050917-011.jpg': '2817',\n",
       " 'data\\\\raw\\\\Whale Watch Azores 2005\\\\PM-WWA-20050917-016.jpg': '3056',\n",
       " 'data\\\\raw\\\\Whale Watch Azores 2005\\\\PM-WWA-20050917-111.jpg': '3056',\n",
       " 'data\\\\raw\\\\Whale Watch Azores 2005\\\\PM-WWA-20050917-017.jpg': '-1',\n",
       " 'data\\\\raw\\\\Whale Watch Azores 2005\\\\PM-WWA-20050917-035.jpg': '3057',\n",
       " 'data\\\\raw\\\\Whale Watch Azores 2005\\\\PM-WWA-20050917-037.jpg': '3058',\n",
       " 'data\\\\raw\\\\Whale Watch Azores 2005\\\\PM-WWA-20050918-042.jpg': '1059',\n",
       " 'data\\\\raw\\\\Whale Watch Azores 2005\\\\PM-WWA-20050918-009.jpg': '1124',\n",
       " 'data\\\\raw\\\\Whale Watch Azores 2005\\\\PM-WWA-20050918-013.jpg': '2234',\n",
       " 'data\\\\raw\\\\Whale Watch Azores 2005\\\\PM-WWA-20050920-003.jpg': '2234',\n",
       " 'data\\\\raw\\\\Whale Watch Azores 2005\\\\PM-WWA-20050918-032.jpg': '1198',\n",
       " 'data\\\\raw\\\\Whale Watch Azores 2005\\\\PM-WWA-20050920-016.jpg': '1198',\n",
       " 'data\\\\raw\\\\Whale Watch Azores 2005\\\\PM-WWA-20050920-019.jpg': '1124',\n",
       " 'data\\\\raw\\\\Whale Watch Azores 2005\\\\PM-WWA-20050920-027.jpg': '2402',\n",
       " 'data\\\\raw\\\\Whale Watch Azores 2005\\\\PM-WWA-20050921-001.jpg': '3060',\n",
       " 'data\\\\raw\\\\Whale Watch Azores 2005\\\\PM-WWA-20050922-050.jpg': '-1',\n",
       " 'data\\\\raw\\\\Whale Watch Azores 2005\\\\PM-WWA-20050922-054.jpg': '-1',\n",
       " 'data\\\\raw\\\\Whale Watch Azores 2005\\\\PM-WWA-20050922-056.jpg': '3061'}"
      ]
     },
     "execution_count": 17,
     "metadata": {},
     "output_type": "execute_result"
    }
   ],
   "source": [
    "image_to_id"
   ]
  },
  {
   "cell_type": "code",
   "execution_count": 18,
   "metadata": {},
   "outputs": [
    {
     "data": {
      "text/plain": [
       "5001"
      ]
     },
     "execution_count": 18,
     "metadata": {},
     "output_type": "execute_result"
    }
   ],
   "source": [
    "base_id"
   ]
  },
  {
   "cell_type": "markdown",
   "metadata": {},
   "source": [
    "Images that have no match get assigned a new ID starting with 5000. Since the new *base_id* is 5001 we had to assign one new ID for this year. To see which image(s) got assinged to this ID we can type:"
   ]
  },
  {
   "cell_type": "code",
   "execution_count": 19,
   "metadata": {},
   "outputs": [
    {
     "data": {
      "text/plain": [
       "{'data\\\\raw\\\\Whale Watch Azores 2005\\\\PM-WWA-20050731-158.jpg'}"
      ]
     },
     "execution_count": 19,
     "metadata": {},
     "output_type": "execute_result"
    }
   ],
   "source": [
    "id_to_images['5000']"
   ]
  },
  {
   "cell_type": "markdown",
   "metadata": {},
   "source": [
    "We can check the excel to see that the ID column contains the value *No Match* for this picture. Hence assigning it a new ID was the right choice.\n",
    "\n",
    "*Note:*\n",
    "- We used the above functionality to sort the data by IDs. You can find the sorted data [here](https://capgemini.sharepoint.com/sites/GlobalDataScienceChallenge806/Shared%20Documents/Data%20Discussions/train.zip).\n",
    "\n",
    "**Excercise:**\n",
    "- Open the file *src/data/make_dataset.py* in an editor of your choice and read through it."
   ]
  },
  {
   "cell_type": "markdown",
   "metadata": {},
   "source": [
    "<font color='blue'>\n",
    "\n",
    "**Best practice:**\n",
    "- Don't underestimate the effort it takes to clean your data. Usually, around 80% of the time of a Data Science project goes into this phase.\n",
    "- Keep track of all the changes you make to your data. Tools like DVC (https://dvc.org/) can help."
   ]
  },
  {
   "cell_type": "markdown",
   "metadata": {},
   "source": [
    "<a id='section2.4'></a>\n",
    "### How many different whales are seen each year?\n",
    "\n",
    "The number of entries in *id_to_images* is the number of whales that were seen in the respective year."
   ]
  },
  {
   "cell_type": "code",
   "execution_count": 15,
   "metadata": {},
   "outputs": [
    {
     "data": {
      "text/plain": [
       "290"
      ]
     },
     "execution_count": 15,
     "metadata": {},
     "output_type": "execute_result"
    }
   ],
   "source": [
    "len(id_to_images)  # len shows the number of keys in a dictionary"
   ]
  },
  {
   "cell_type": "markdown",
   "metadata": {},
   "source": [
    "We can reuse our previous code to plot the number of whales per year."
   ]
  },
  {
   "cell_type": "code",
   "execution_count": 16,
   "metadata": {},
   "outputs": [
    {
     "name": "stderr",
     "output_type": "stream",
     "text": [
      "2020-02-21 09:31:27,317 make_dataset sort_yearly_folder line 367 Sorting data\\raw\\Whale Watch Azores 2005\n",
      "2020-02-21 09:31:27,432 make_dataset parse_excel line 265 Parsing data\\raw\\Whale Watch Azores 2005\\Sperm Whale Matches 2005.xlsx\n",
      "2020-02-21 09:31:27,690 make_dataset parse_excel line 288 No image at row 176 for ID 1543, ['PM-WWA-20050628-082']\n",
      "2020-02-21 09:31:27,718 make_dataset parse_excel line 288 No image at row 184 for ID 2535, ['PM-WWA-20050701-106 ', 'PM-WWA-20050701-118', '1/2 TAIL']\n",
      "2020-02-21 09:31:27,732 make_dataset parse_excel line 288 No image at row 185 for ID 1543, ['PM-WWA-20050701-108', ' 1/2 TAIL GP']\n",
      "2020-02-21 09:31:27,902 make_dataset parse_excel line 288 No image at row 239 for ID 2929, ['PM-WWA-20050708-380 (big scallop/nick rt side scallop center left)', 'PM-WWA-20050706-223 ']\n",
      "2020-02-21 09:31:28,036 make_dataset parse_excel line 288 No image at row 270 for ID 2579, ['PM-WWA-20050712-002 (Wht Head)', 'PM-WWA-20050712-062']\n",
      "2020-02-21 09:31:28,042 make_dataset parse_excel line 288 No image at row 271 for ID 2578, ['PM-WWA-20050712-005 (Chrissy)', 'PM-WWA-20050712-049']\n",
      "2020-02-21 09:31:28,071 make_dataset parse_excel line 288 No image at row 272 for ID 1371, ['PM-WWA-20050712-008 (Scallop Rt end)', 'PM-WWA-20050712-052']\n",
      "2020-02-21 09:31:28,084 make_dataset parse_excel line 288 No image at row 275 for ID 2583, ['PM-WWA-20050712-040  Willie', 'PM-WWA-20050712-064']\n",
      "2020-02-21 09:31:28,087 make_dataset parse_excel line 288 No image at row 276 for ID 2931, ['PM-WWA-20050712-044  wht marks']\n",
      "2020-02-21 09:31:28,097 make_dataset parse_excel line 288 No image at row 277 for ID 2929, ['PM-WWA-20050712-045 Nick/Scallop on rt', 'PM-WWA-20050712-070 X']\n",
      "2020-02-21 09:31:28,103 make_dataset parse_excel line 288 No image at row 279 for ID 2776, ['PM-WWA-20050712-056  (Double Scallop lft)']\n",
      "2020-02-21 09:31:28,106 make_dataset parse_excel line 288 No image at row 280 for ID 2581, ['PM-WWA-20050712-068   (Mum w/ sm cf)']\n",
      "2020-02-21 09:31:28,119 make_dataset parse_excel line 288 No image at row 282 for ID 1039, ['PM-WWA-20050712-075 (End Scallop on Rt w/ Nick - left scallop)']\n",
      "2020-02-21 09:31:28,128 make_dataset parse_excel line 288 No image at row 283 for ID 2582, ['PM-WWA-20050712-077 (Scallops centre Rt & lft)', 'PM-WWA-20050712-095']\n",
      "2020-02-21 09:31:28,132 make_dataset parse_excel line 288 No image at row 284 for ID 2750, ['PM-WWA-20050712-080  (Big Scallop left - Missing Left end)']\n",
      "2020-02-21 09:31:28,138 make_dataset parse_excel line 288 No image at row 285 for ID 2580, ['PM-WWA-20050712-091 (Big Nick Right - Sm nicks left)', 'PM-WWA-20050712-109', 'PM-WWA-20050712-117']\n",
      "2020-02-21 09:31:28,312 make_dataset parse_excel line 288 No image at row 337 for ID 2929, ['PM-WWA-20050722-030 (nick/scallop right)']\n",
      "2020-02-21 09:31:28,318 make_dataset parse_excel line 288 No image at row 338 for ID 2581, ['PM-WWA-20050722-035 (mum w/ sm cf)', 'PM-WWA-20050722-130']\n",
      "2020-02-21 09:31:28,325 make_dataset parse_excel line 288 No image at row 339 for ID 2750, ['PM-WWA-20050722-048 (big scallop lft missing end)', 'PM-WWA-20050722-080', 'PM-WWA-20050722-092']\n",
      "2020-02-21 09:31:28,329 make_dataset parse_excel line 288 No image at row 340 for ID 1039, ['PM-WWA-20050722-078 (scallop rt end w/ nick in it)']\n",
      "2020-02-21 09:31:28,333 make_dataset parse_excel line 288 No image at row 341 for ID 2776, ['PM-WWA-20050722-082 (double scallop lft)']\n",
      "2020-02-21 09:31:28,337 make_dataset parse_excel line 288 No image at row 342 for ID 2579, ['PM-WWA-20050722-085 (wht head)']\n",
      "2020-02-21 09:31:28,366 make_dataset parse_excel line 288 No image at row 343 for ID 2582, ['PM-WWA-20050722-086 (centre scallops)']\n",
      "2020-02-21 09:31:28,374 make_dataset parse_excel line 288 No image at row 344 for ID 2580, ['PM-WWA-20050722-089 (big nick rt sm nicks lft)']\n",
      "2020-02-21 09:31:28,387 make_dataset parse_excel line 288 No image at row 346 for ID 2773, ['PM-WWA-20050722-122 (Sml Scallop rt side Left End Missing)', 'PM-WWA-20050722-168']\n",
      "2020-02-21 09:31:28,393 make_dataset parse_excel line 288 No image at row 347 for ID 2583, ['PM-WWA-20050722-134 (Willie)']\n",
      "2020-02-21 09:31:28,441 make_dataset parse_excel line 288 No image at row 366 for ID 2750, ['PM-WWA-20050726-100 (big scallop lft missing end)', 'PM-WWA-20050726-144']\n",
      "2020-02-21 09:31:28,445 make_dataset parse_excel line 288 No image at row 367 for ID 2937, ['PM-WWA-20050726-104']\n",
      "2020-02-21 09:31:28,452 make_dataset parse_excel line 288 No image at row 368 for ID 2579, ['PM-WWA-20050726-110 (WHT Head)']\n",
      "2020-02-21 09:31:28,465 make_dataset parse_excel line 288 No image at row 369 for ID 2583, ['PM-WWA-20050726-117 (Willie)', 'PM-WWA-20050726-134']\n",
      "2020-02-21 09:31:28,470 make_dataset parse_excel line 288 No image at row 370 for ID 1371, ['PM-WWA-20050726-120 (Scallop Rt end)']\n",
      "2020-02-21 09:31:28,475 make_dataset parse_excel line 288 No image at row 371 for ID 2929, ['PM-WWA-20050726-127 (Nick/Scallop on rt)']\n",
      "2020-02-21 09:31:28,480 make_dataset parse_excel line 288 No image at row 372 for ID 2582, ['PM-WWA-20050726-139 (Centre Scallops)']\n",
      "2020-02-21 09:31:28,486 make_dataset parse_excel line 288 No image at row 373 for ID 2580, ['PM-WWA-20050726-145 (Big Nick Right - Sm nicks left)']\n",
      "2020-02-21 09:31:28,489 make_dataset parse_excel line 288 No image at row 374 for ID 2581, ['PM-WWA-20050726-178 (Mum w/sm cf)']\n",
      "2020-02-21 09:31:28,561 make_dataset parse_excel line 288 No image at row 427 for ID 1746, ['PM-WWA-20050809-127']\n",
      "2020-02-21 09:31:28,565 make_dataset parse_excel line 288 No image at row 428 for ID 2238, ['PM-WWA-20050809-186 (dorsal w/ callus of mum)']\n",
      "2020-02-21 09:31:28,571 make_dataset parse_excel line 288 No image at row 433 for ID 2628, ['PM-WWA-20050810-003 (NIKE)', 84]\n",
      "2020-02-21 09:31:28,580 make_dataset parse_excel line 288 No image at row 434 for ID 2352, ['PM-WWA-20050810-008 (Left nick)']\n",
      "2020-02-21 09:31:28,584 make_dataset parse_excel line 288 No image at row 435 for ID 1746, ['PM-WWA-20050810-016 (Jagged left nicks right)']\n",
      "2020-02-21 09:31:28,589 make_dataset parse_excel line 288 No image at row 436 for ID 1543, ['PM-WWA-20050810-020 (missing lft corner)']\n",
      "2020-02-21 09:31:28,600 make_dataset parse_excel line 288 No image at row 437 for ID 2535, ['PM-WWA-20050810-035 half tail', 'PM-WWA-20050810-112']\n",
      "2020-02-21 09:31:28,604 make_dataset parse_excel line 288 No image at row 438 for ID 2892, ['PM-WWA-20050810-039 (cf of 1543)']\n",
      "2020-02-21 09:31:28,612 make_dataset parse_excel line 288 No image at row 439 for ID 2047, [\"PM-WWA-20050810-049 (2047 Doug's whale)\"]\n",
      "2020-02-21 09:31:28,618 make_dataset parse_excel line 288 No image at row 440 for ID 2238, ['PM-WWA-20050810-082 (mum w/ sm cf scallops both sides)']\n",
      "2020-02-21 09:31:28,622 make_dataset parse_excel line 288 No image at row 441 for ID 2529, ['PM-WWA-20050810-119 (wht spot notch)']\n",
      "2020-02-21 09:31:28,958 make_dataset parse_excel line 288 No image at row 520 for ID 2535, ['PM-WWA-20050829-007 (Half Tail)', 'PM-WWA-20050829-172', 'PM-WWA-20050829-A008']\n",
      "2020-02-21 09:31:28,973 make_dataset parse_excel line 288 No image at row 521 for ID 2628, ['PM-WWA-20050829-014 (Nike)', 'PM-WWA-20050829-A004']\n",
      "2020-02-21 09:31:28,982 make_dataset parse_excel line 288 No image at row 522 for ID 1543, ['PM-WWA-20050829-176 (Missing lft corner)']\n",
      "2020-02-21 09:31:28,990 make_dataset parse_excel line 288 No image at row 523 for ID 2047, ['PM-WWA-20050829-A012 (2047)']\n",
      "2020-02-21 09:31:29,049 make_dataset parse_excel line 288 No image at row 534 for ID 2538, ['PM-WWA-20050831-104 dorsal pic']\n",
      "2020-02-21 09:31:29,085 make_dataset parse_excel line 288 No image at row 546 for ID 2238, ['PM-WWA-20050907-015']\n",
      "2020-02-21 09:31:29,256 make_dataset sort_yearly_folder line 390 0 images have no ID.\n",
      "2020-02-21 09:31:29,258 make_dataset sort_yearly_folder line 367 Sorting data\\raw\\Whale Watch Azores 2006\n",
      "2020-02-21 09:31:30,573 make_dataset parse_excel line 265 Parsing data\\raw\\Whale Watch Azores 2006\\2006 MATCHES.xlsx\n",
      "2020-02-21 09:31:31,463 make_dataset parse_excel line 288 No image at row 153 for ID 2628, ['PM-WWA-20060618-001']\n",
      "2020-02-21 09:31:32,293 make_dataset parse_excel line 288 No image at row 443 for ID 2352, ['PM-WWA-20060914-132']\n",
      "2020-02-21 09:31:32,352 make_dataset sort_yearly_folder line 390 0 images have no ID.\n"
     ]
    },
    {
     "name": "stderr",
     "output_type": "stream",
     "text": [
      "2020-02-21 09:31:32,353 make_dataset sort_yearly_folder line 367 Sorting data\\raw\\Whale Watch Azores 2007\n",
      "2020-02-21 09:31:32,418 make_dataset parse_excel line 265 Parsing data\\raw\\Whale Watch Azores 2007\\Sperm Whale Matches 2007.xlsx\n",
      "2020-02-21 09:31:32,541 make_dataset parse_excel line 288 No image at row 75 for ID 2243, ['PM-WWA-20070504-05', '1996 1999']\n",
      "2020-02-21 09:31:32,902 make_dataset parse_excel line 288 No image at row 258 for ID 1645, ['PM-WWA-20070628-193']\n",
      "2020-02-21 09:31:32,976 make_dataset parse_excel line 288 No image at row 278 for ID 2500, ['PM-WWA-20070703-07', 'PM-WWA-20070703-90']\n",
      "2020-02-21 09:31:33,026 make_dataset parse_excel line 288 No image at row 285 for ID 1645, ['PM-WWA-20070703-30', 'PM-WWA-20070628-193']\n",
      "2020-02-21 09:31:33,036 make_dataset parse_excel line 288 No image at row 289 for ID 1592, ['PM-WWA-20070703-54']\n",
      "2020-02-21 09:31:33,042 make_dataset parse_excel line 288 No image at row 290 for ID 3095, ['PM-WWA-20070703-58', 'PM-WWA-20070703-126']\n",
      "2020-02-21 09:31:33,474 make_dataset sort_yearly_folder line 390 0 images have no ID.\n",
      "2020-02-21 09:31:33,475 make_dataset sort_yearly_folder line 367 Sorting data\\raw\\Whale Watch Azores 2008\n",
      "2020-02-21 09:31:33,561 make_dataset parse_excel line 265 Parsing data\\raw\\Whale Watch Azores 2008\\Whale Watch Azores 2008 GDSC.xlsx\n",
      "2020-02-21 09:31:34,561 make_dataset sort_yearly_folder line 390 0 images have no ID.\n",
      "2020-02-21 09:31:34,562 make_dataset sort_yearly_folder line 367 Sorting data\\raw\\Whale Watch Azores 2009\n",
      "2020-02-21 09:31:34,680 make_dataset parse_excel line 265 Parsing data\\raw\\Whale Watch Azores 2009\\Whale Watch Azores 2009 GDSC.xlsx\n",
      "2020-02-21 09:31:35,211 make_dataset get_id line 75 Missing reference to previous image: 3185 (need to add 20080807-145 to id table) => data\\raw\\Whale Watch Azores 2008\\PM-WWA-20080807-145.jpg\n",
      "2020-02-21 09:31:35,758 make_dataset sort_yearly_folder line 390 0 images have no ID.\n",
      "2020-02-21 09:31:35,759 make_dataset sort_yearly_folder line 367 Sorting data\\raw\\Whale Watch Azores 2010\n",
      "2020-02-21 09:31:36,033 make_dataset parse_excel line 265 Parsing data\\raw\\Whale Watch Azores 2010\\Whale Watch Azores 2010 GDSC.xlsx\n",
      "2020-02-21 09:31:36,916 make_dataset sort_yearly_folder line 390 0 images have no ID.\n",
      "2020-02-21 09:31:36,918 make_dataset sort_yearly_folder line 367 Sorting data\\raw\\Whale Watch Azores 2011\n",
      "2020-02-21 09:31:37,035 make_dataset parse_excel line 265 Parsing data\\raw\\Whale Watch Azores 2011\\Whale Watch Azores 2011 GDSC.xlsx\n",
      "2020-02-21 09:31:37,043 make_dataset get_id line 75 Missing reference to previous image: 20101020-014 => data\\raw\\Whale Watch Azores 2010\\PM-WWA-20101020-014.jpg\n",
      "2020-02-21 09:31:37,277 make_dataset get_id line 87 Missing reference: 2005-3007-068 => data\\raw\\Whale Watch Azores 2005\\PM-WWA-20050730-068.jpg\n",
      "2020-02-21 09:31:37,293 make_dataset get_id line 75 Missing reference to previous image: PM-WWA-20100929-019 (qua 5) => data\\raw\\Whale Watch Azores 2010\\PM-WWA-20100929-019.jpg\n",
      "2020-02-21 09:31:37,307 make_dataset get_id line 75 Missing reference to previous image: PM-WWA-20100928-040 (qua 5) => data\\raw\\Whale Watch Azores 2010\\PM-WWA-20100928-040.jpg\n",
      "2020-02-21 09:31:37,318 make_dataset get_id line 75 Missing reference to previous image: PM-WWA-20100722-067 (qua 4) => data\\raw\\Whale Watch Azores 2010\\PM-WWA-20100722-067.jpg\n",
      "2020-02-21 09:31:38,307 make_dataset get_id line 75 Missing reference to previous image: PM-WWA-20100729-060 (qua 4)  cf of 0816-65 => data\\raw\\Whale Watch Azores 2010\\PM-WWA-20100729-060.jpg\n",
      "2020-02-21 09:31:38,420 make_dataset get_id line 75 Missing reference to previous image: PM-WWA-20100724-049 (qua 3) => data\\raw\\Whale Watch Azores 2010\\PM-WWA-20100724-049.jpg\n",
      "2020-02-21 09:31:38,524 make_dataset sort_yearly_folder line 390 0 images have no ID.\n",
      "2020-02-21 09:31:38,525 make_dataset sort_yearly_folder line 367 Sorting data\\raw\\Whale Watch Azores 2012\n",
      "2020-02-21 09:31:38,609 make_dataset parse_excel line 265 Parsing data\\raw\\Whale Watch Azores 2012\\Whale Watch Azores 2012 GDSC.xlsx\n",
      "2020-02-21 09:31:38,998 make_dataset get_id line 75 Missing reference to previous image: 20100723-318 => data\\raw\\Whale Watch Azores 2010\\PM-WWA-20100723-318.jpg\n",
      "2020-02-21 09:31:39,232 make_dataset sort_yearly_folder line 390 0 images have no ID.\n",
      "2020-02-21 09:31:39,234 make_dataset sort_yearly_folder line 367 Sorting data\\raw\\Whale Watch Azores 2013\n",
      "2020-02-21 09:31:39,306 make_dataset parse_excel line 265 Parsing data\\raw\\Whale Watch Azores 2013\\Whale Watch Azores 2013 GDSC.xlsx\n",
      "2020-02-21 09:31:39,416 make_dataset get_id line 75 Missing reference to previous image: WWA-20120803-016 => data\\raw\\Whale Watch Azores 2012\\PM-WWA-20120803-016.jpg\n",
      "2020-02-21 09:31:39,686 make_dataset get_id line 75 Missing reference to previous image: WWA-20120422-101 => data\\raw\\Whale Watch Azores 2012\\PM-WWA-20120422-101.jpg\n",
      "2020-02-21 09:31:39,727 make_dataset get_id line 75 Missing reference to previous image: WWA-20120817-023 => data\\raw\\Whale Watch Azores 2012\\PM-WWA-20120817-023.jpg\n",
      "2020-02-21 09:31:39,768 make_dataset sort_yearly_folder line 390 0 images have no ID.\n",
      "2020-02-21 09:31:39,770 make_dataset sort_yearly_folder line 367 Sorting data\\raw\\Whale Watch Azores 2014\n",
      "2020-02-21 09:31:39,867 make_dataset parse_excel line 265 Parsing data\\raw\\Whale Watch Azores 2014\\Whale Watch Azores 2014 GDSC.xlsx\n",
      "2020-02-21 09:31:39,875 make_dataset get_id line 75 Missing reference to previous image: 3732   20090410-077 => data\\raw\\Whale Watch Azores 2009\\PM-WWA-20090410-077.jpg\n",
      "2020-02-21 09:31:39,937 make_dataset get_id line 75 Missing reference to previous image: WWA-20120810-060 => data\\raw\\Whale Watch Azores 2012\\PM-WWA-20120810-060.jpg\n",
      "2020-02-21 09:31:39,969 make_dataset get_id line 75 Missing reference to previous image: WWA-20120417-323 Male => data\\raw\\Whale Watch Azores 2012\\PM-WWA-20120417-323.jpg\n",
      "2020-02-21 09:31:39,973 make_dataset get_id line 75 Missing reference to previous image: WWA-20130612-180 => data\\raw\\Whale Watch Azores 2013\\PM-WWA-20130612-180.jpg\n",
      "2020-02-21 09:31:40,300 make_dataset get_id line 75 Missing reference to previous image: PM-WWA-20110610-061  cf of 2930 => data\\raw\\Whale Watch Azores 2011\\PM-WWA-20110610-061.jpg\n",
      "2020-02-21 09:31:40,399 make_dataset sort_yearly_folder line 390 0 images have no ID.\n",
      "2020-02-21 09:31:40,400 make_dataset sort_yearly_folder line 367 Sorting data\\raw\\Whale Watch Azores 2015\n",
      "2020-02-21 09:31:40,481 make_dataset parse_excel line 265 Parsing data\\raw\\Whale Watch Azores 2015\\Whale Watch Azores 2015 GDSC.xlsx\n",
      "2020-02-21 09:31:40,632 make_dataset get_id line 75 Missing reference to previous image: 20140506-011 => data\\raw\\Whale Watch Azores 2014\\PM-WWA-20140506-011.jpg\n",
      "2020-02-21 09:31:40,635 make_dataset get_id line 75 Missing reference to previous image: 20090424-131 => data\\raw\\Whale Watch Azores 2009\\PM-WWA-20090424-131.jpg\n",
      "2020-02-21 09:31:40,640 make_dataset get_id line 75 Missing reference to previous image: 20140506-039 => data\\raw\\Whale Watch Azores 2014\\PM-WWA-20140506-039.jpg\n",
      "2020-02-21 09:31:40,648 make_dataset get_id line 75 Missing reference to previous image: 20140506-105 => data\\raw\\Whale Watch Azores 2014\\PM-WWA-20140506-105.jpg\n",
      "2020-02-21 09:31:40,677 make_dataset get_id line 75 Missing reference to previous image: 20110420-130 => data\\raw\\Whale Watch Azores 2011\\PM-WWA-20110420-130.jpg\n",
      "2020-02-21 09:31:40,743 make_dataset get_id line 75 Missing reference to previous image: 20130621-025 was cf of 2496 => data\\raw\\Whale Watch Azores 2013\\PM-WWA-20130621-025.jpg\n",
      "2020-02-21 09:31:40,772 make_dataset get_id line 75 Missing reference to previous image: 20060710-020 => data\\raw\\Whale Watch Azores 2006\\PM-WWA-20060710-020.jpg\n",
      "2020-02-21 09:31:40,823 make_dataset get_id line 75 Missing reference to previous image: 20140529-626 => data\\raw\\Whale Watch Azores 2014\\PM-WWA-20140529-626.jpg\n",
      "2020-02-21 09:31:41,002 make_dataset get_id line 75 Missing reference to previous image: 20120826-050 => data\\raw\\Whale Watch Azores 2012\\PM-WWA-20120826-050.jpg\n",
      "2020-02-21 09:31:41,025 make_dataset get_id line 75 Missing reference to previous image: 20050512-100 => data\\raw\\Whale Watch Azores 2005\\PM-WWA-20050512-100.jpg\n",
      "2020-02-21 09:31:41,032 make_dataset get_id line 75 Missing reference to previous image: 20120825-054 => data\\raw\\Whale Watch Azores 2012\\PM-WWA-20120825-054.jpg\n"
     ]
    },
    {
     "name": "stderr",
     "output_type": "stream",
     "text": [
      "2020-02-21 09:31:41,088 make_dataset get_id line 75 Missing reference to previous image: 20110601-065 => data\\raw\\Whale Watch Azores 2011\\PM-WWA-20110601-065.jpg\n",
      "2020-02-21 09:31:41,124 make_dataset get_id line 75 Missing reference to previous image: 20130708-220 => data\\raw\\Whale Watch Azores 2013\\PM-WWA-20130708-220.jpg\n",
      "2020-02-21 09:31:41,136 make_dataset get_id line 75 Missing reference to previous image: 20140702-021 => data\\raw\\Whale Watch Azores 2014\\PM-WWA-20140702-021.jpg\n",
      "2020-02-21 09:31:41,203 make_dataset get_id line 75 Missing reference to previous image: 20110724-098 => data\\raw\\Whale Watch Azores 2011\\PM-WWA-20110724-098.jpg\n",
      "2020-02-21 09:31:41,206 make_dataset get_id line 75 Missing reference to previous image: 20120806-126 => data\\raw\\Whale Watch Azores 2012\\PM-WWA-20120806-126.jpg\n",
      "2020-02-21 09:31:41,241 make_dataset get_id line 75 Missing reference to previous image: 20110411-014 => data\\raw\\Whale Watch Azores 2011\\PM-WWA-20110411-014.jpg\n",
      "2020-02-21 09:31:41,244 make_dataset get_id line 75 Missing reference to previous image: 20110411-118 => data\\raw\\Whale Watch Azores 2011\\PM-WWA-20110411-118.jpg\n",
      "2020-02-21 09:31:41,252 make_dataset get_id line 75 Missing reference to previous image: 20101020-045 => data\\raw\\Whale Watch Azores 2010\\PM-WWA-20101020-045.jpg\n",
      "2020-02-21 09:31:41,289 make_dataset get_id line 75 Missing reference to previous image: 20140813-129 => data\\raw\\Whale Watch Azores 2014\\PM-WWA-20140813-129.jpg\n",
      "2020-02-21 09:31:41,298 make_dataset get_id line 75 Missing reference to previous image: 20140813-132 => data\\raw\\Whale Watch Azores 2014\\PM-WWA-20140813-132.jpg\n",
      "2020-02-21 09:31:41,306 make_dataset get_id line 75 Missing reference to previous image: 20140813-123 => data\\raw\\Whale Watch Azores 2014\\PM-WWA-20140813-123.jpg\n",
      "2020-02-21 09:31:41,312 make_dataset get_id line 75 Missing reference to previous image: 20140802-104 => data\\raw\\Whale Watch Azores 2014\\PM-WWA-20140802-104.jpg\n",
      "2020-02-21 09:31:41,331 make_dataset get_id line 75 Missing reference to previous image: 20120422-101 => data\\raw\\Whale Watch Azores 2012\\PM-WWA-20120422-101.jpg\n",
      "2020-02-21 09:31:41,341 make_dataset get_id line 75 Missing reference to previous image: 20130824-113 => data\\raw\\Whale Watch Azores 2013\\PM-WWA-20130824-113.jpg\n",
      "2020-02-21 09:31:41,412 make_dataset get_id line 75 Missing reference to previous image: 20140919-055 => data\\raw\\Whale Watch Azores 2014\\PM-WWA-20140919-055.jpg\n",
      "2020-02-21 09:31:41,437 make_dataset get_id line 75 Missing reference to previous image: 20140714-087 => data\\raw\\Whale Watch Azores 2014\\PM-WWA-20140714-087.jpg\n",
      "2020-02-21 09:31:41,459 make_dataset get_id line 75 Missing reference to previous image: 20110420-030 => data\\raw\\Whale Watch Azores 2011\\PM-WWA-20110420-030.jpg\n",
      "2020-02-21 09:31:41,489 make_dataset sort_yearly_folder line 390 0 images have no ID.\n",
      "2020-02-21 09:31:41,490 make_dataset sort_yearly_folder line 367 Sorting data\\raw\\Whale Watch Azores 2016\n",
      "2020-02-21 09:31:41,540 make_dataset parse_excel line 265 Parsing data\\raw\\Whale Watch Azores 2016\\Whale Watch Azores 2016 GDSC.xlsx\n",
      "2020-02-21 09:31:41,565 make_dataset get_id line 75 Missing reference to previous image: 20150715-285 => data\\raw\\Whale Watch Azores 2015\\PM-WWA-20150715-285.jpg\n",
      "2020-02-21 09:31:41,584 make_dataset get_id line 75 Missing reference to previous image: 20150329-631 => data\\raw\\Whale Watch Azores 2015\\PM-WWA-20150329-631.jpg\n",
      "2020-02-21 09:31:41,598 make_dataset get_id line 75 Missing reference to previous image: 20140819-074 => data\\raw\\Whale Watch Azores 2014\\PM-WWA-20140819-074.jpg\n",
      "2020-02-21 09:31:41,602 make_dataset get_id line 75 Missing reference to previous image: 20140819-066 => data\\raw\\Whale Watch Azores 2014\\PM-WWA-20140819-066.jpg\n",
      "2020-02-21 09:31:41,613 make_dataset get_id line 75 Missing reference to previous image: 20140819-115 => data\\raw\\Whale Watch Azores 2014\\PM-WWA-20140819-115.jpg\n",
      "2020-02-21 09:31:41,620 make_dataset get_id line 75 Missing reference to previous image: 20140819-085 => data\\raw\\Whale Watch Azores 2014\\PM-WWA-20140819-085.jpg\n",
      "2020-02-21 09:31:41,623 make_dataset get_id line 75 Missing reference to previous image: 20140506-130 => data\\raw\\Whale Watch Azores 2014\\PM-WWA-20140506-130.jpg\n",
      "2020-02-21 09:31:41,626 make_dataset get_id line 75 Missing reference to previous image: 20140506-039 => data\\raw\\Whale Watch Azores 2014\\PM-WWA-20140506-039.jpg\n",
      "2020-02-21 09:31:41,633 make_dataset get_id line 75 Missing reference to previous image: 20140506-164 => data\\raw\\Whale Watch Azores 2014\\PM-WWA-20140506-164.jpg\n",
      "2020-02-21 09:31:41,637 make_dataset get_id line 75 Missing reference to previous image: 20140506-025 => data\\raw\\Whale Watch Azores 2014\\PM-WWA-20140506-025.jpg\n",
      "2020-02-21 09:31:41,641 make_dataset get_id line 75 Missing reference to previous image: 20140506-011 => data\\raw\\Whale Watch Azores 2014\\PM-WWA-20140506-011.jpg\n",
      "2020-02-21 09:31:41,659 make_dataset get_id line 75 Missing reference to previous image: 20151012-007 => data\\raw\\Whale Watch Azores 2015\\PM-WWA-20151012-007.jpg\n",
      "2020-02-21 09:31:41,668 make_dataset get_id line 75 Missing reference to previous image: 20140506-150 => data\\raw\\Whale Watch Azores 2014\\PM-WWA-20140506-150.jpg\n",
      "2020-02-21 09:31:41,670 make_dataset get_id line 75 Missing reference to previous image: 20140506-105 => data\\raw\\Whale Watch Azores 2014\\PM-WWA-20140506-105.jpg\n",
      "2020-02-21 09:31:41,676 make_dataset get_id line 75 Missing reference to previous image: 20140506-070 => data\\raw\\Whale Watch Azores 2014\\PM-WWA-20140506-070.jpg\n",
      "2020-02-21 09:31:41,743 make_dataset get_id line 75 Missing reference to previous image: 20150617-081 => data\\raw\\Whale Watch Azores 2015\\PM-WWA-20150617-081.jpg\n",
      "2020-02-21 09:31:41,792 make_dataset get_id line 75 Missing reference to previous image: 20150519-536 => data\\raw\\Whale Watch Azores 2015\\PM-WWA-20150519-536.jpg\n",
      "2020-02-21 09:31:41,800 make_dataset get_id line 75 Missing reference to previous image: 20110506-011 => data\\raw\\Whale Watch Azores 2011\\PM-WWA-20110506-011.jpg\n",
      "2020-02-21 09:31:41,824 make_dataset get_id line 75 Missing reference to previous image: 20150904-052  sq sclp left cf => data\\raw\\Whale Watch Azores 2015\\PM-WWA-20150904-052.jpg\n",
      "2020-02-21 09:31:41,868 make_dataset get_id line 75 Missing reference to previous image: 20100820-109 => data\\raw\\Whale Watch Azores 2010\\PM-WWA-20100820-109.jpg\n",
      "2020-02-21 09:31:41,872 make_dataset get_id line 75 Missing reference to previous image: 20110809-023 => data\\raw\\Whale Watch Azores 2011\\PM-WWA-20110809-023.jpg\n",
      "2020-02-21 09:31:41,906 make_dataset get_id line 75 Missing reference to previous image: 20130724-560 => data\\raw\\Whale Watch Azores 2013\\PM-WWA-20130724-560.jpg\n",
      "2020-02-21 09:31:41,913 make_dataset get_id line 75 Missing reference to previous image: 20130724-488 => data\\raw\\Whale Watch Azores 2013\\PM-WWA-20130724-488.jpg\n",
      "2020-02-21 09:31:41,926 make_dataset get_id line 75 Missing reference to previous image: 20130727-015 => data\\raw\\Whale Watch Azores 2013\\PM-WWA-20130727-015.jpg\n",
      "2020-02-21 09:31:41,945 make_dataset get_id line 75 Missing reference to previous image: WWA-20130816-014 => data\\raw\\Whale Watch Azores 2013\\PM-WWA-20130816-014.jpg\n",
      "2020-02-21 09:31:41,968 make_dataset get_id line 75 Missing reference to previous image: 20151001-046 => data\\raw\\Whale Watch Azores 2015\\PM-WWA-20151001-046.jpg\n",
      "2020-02-21 09:31:41,981 make_dataset get_id line 75 Missing reference to previous image: 20150317-223 => data\\raw\\Whale Watch Azores 2015\\PM-WWA-20150317-223.jpg\n",
      "2020-02-21 09:31:41,991 make_dataset get_id line 75 Missing reference to previous image: 20150317-212 => data\\raw\\Whale Watch Azores 2015\\PM-WWA-20150317-212.jpg\n",
      "2020-02-21 09:31:42,013 make_dataset get_id line 75 Missing reference to previous image: 20130907-A134 => data\\raw\\Whale Watch Azores 2013\\PM-WWA-20130907-A134.jpg\n",
      "2020-02-21 09:31:42,038 make_dataset get_id line 75 Missing reference to previous image: PM-WWA-20110811-127 => data\\raw\\Whale Watch Azores 2011\\PM-WWA-20110811-127.jpg\n",
      "2020-02-21 09:31:42,050 make_dataset get_id line 75 Missing reference to previous image: WWA-20130607-218 => data\\raw\\Whale Watch Azores 2013\\PM-WWA-20130607-218.jpg\n",
      "2020-02-21 09:31:42,060 make_dataset get_id line 75 Missing reference to previous image: PM-WWA-20110811-127 => data\\raw\\Whale Watch Azores 2011\\PM-WWA-20110811-127.jpg\n"
     ]
    },
    {
     "name": "stderr",
     "output_type": "stream",
     "text": [
      "2020-02-21 09:31:42,118 make_dataset get_id line 75 Missing reference to previous image: 20110626-173 => data\\raw\\Whale Watch Azores 2011\\PM-WWA-20110626-173.jpg\n",
      "2020-02-21 09:31:42,120 make_dataset get_id line 75 Missing reference to previous image: 20110626-145 => data\\raw\\Whale Watch Azores 2011\\PM-WWA-20110626-145.jpg\n",
      "2020-02-21 09:31:42,218 make_dataset sort_yearly_folder line 390 0 images have no ID.\n"
     ]
    }
   ],
   "source": [
    "id_counts = []\n",
    "for year_folder in yearly_folders:\n",
    "    id_to_images, image_to_id, _ = sort_yearly_folder(str(year_folder))\n",
    "    id_count = len(id_to_images)\n",
    "    id_counts.append(id_count)"
   ]
  },
  {
   "cell_type": "code",
   "execution_count": 17,
   "metadata": {},
   "outputs": [
    {
     "data": {
      "text/plain": [
       "[290, 231, 296, 337, 266, 222, 305, 231, 174, 248, 283, 273]"
      ]
     },
     "execution_count": 17,
     "metadata": {},
     "output_type": "execute_result"
    }
   ],
   "source": [
    "id_counts"
   ]
  },
  {
   "cell_type": "code",
   "execution_count": 23,
   "metadata": {},
   "outputs": [
    {
     "data": {
      "image/png": "[encoded data removed]",
      "text/plain": [
       "<Figure size 921.6x633.6 with 1 Axes>"
      ]
     },
     "metadata": {
      "needs_background": "light"
     },
     "output_type": "display_data"
    }
   ],
   "source": [
    "plt.bar(range(2005, 2017), id_counts) \n",
    "plt.title(\"Number of individual whales per year\")  \n",
    "plt.grid(axis=\"y\")\n",
    "plt.show()"
   ]
  },
  {
   "cell_type": "markdown",
   "metadata": {},
   "source": [
    "With a bit more work, we can even show both graphs at once. To do this, we first create a DataFrame that contains all the information that we want to plot. If you haven't worked with DataFrames before, think of them as very powerful Excel-like tables."
   ]
  },
  {
   "cell_type": "code",
   "execution_count": 20,
   "metadata": {},
   "outputs": [
    {
     "data": {
      "text/html": [
       "<div>\n",
       "<style scoped>\n",
       "    .dataframe tbody tr th:only-of-type {\n",
       "        vertical-align: middle;\n",
       "    }\n",
       "\n",
       "    .dataframe tbody tr th {\n",
       "        vertical-align: top;\n",
       "    }\n",
       "\n",
       "    .dataframe thead th {\n",
       "        text-align: right;\n",
       "    }\n",
       "</style>\n",
       "<table border=\"1\" class=\"dataframe\">\n",
       "  <thead>\n",
       "    <tr style=\"text-align: right;\">\n",
       "      <th></th>\n",
       "      <th>Nr. of files</th>\n",
       "      <th>Nr. of whale IDs</th>\n",
       "    </tr>\n",
       "  </thead>\n",
       "  <tbody>\n",
       "    <tr>\n",
       "      <th>2005</th>\n",
       "      <td>445</td>\n",
       "      <td>290</td>\n",
       "    </tr>\n",
       "    <tr>\n",
       "      <th>2006</th>\n",
       "      <td>526</td>\n",
       "      <td>231</td>\n",
       "    </tr>\n",
       "    <tr>\n",
       "      <th>2007</th>\n",
       "      <td>497</td>\n",
       "      <td>296</td>\n",
       "    </tr>\n",
       "    <tr>\n",
       "      <th>2008</th>\n",
       "      <td>433</td>\n",
       "      <td>337</td>\n",
       "    </tr>\n",
       "    <tr>\n",
       "      <th>2009</th>\n",
       "      <td>364</td>\n",
       "      <td>266</td>\n",
       "    </tr>\n",
       "  </tbody>\n",
       "</table>\n",
       "</div>"
      ],
      "text/plain": [
       "      Nr. of files  Nr. of whale IDs\n",
       "2005           445               290\n",
       "2006           526               231\n",
       "2007           497               296\n",
       "2008           433               337\n",
       "2009           364               266"
      ]
     },
     "execution_count": 20,
     "metadata": {},
     "output_type": "execute_result"
    }
   ],
   "source": [
    "df = pd.DataFrame(index=range(2005, 2017))\n",
    "df['Nr. of files'] = file_counts\n",
    "df['Nr. of whale IDs'] = id_counts\n",
    "df.head()  # the .head() function shows the top 5 entries of an DataFrame."
   ]
  },
  {
   "cell_type": "markdown",
   "metadata": {},
   "source": [
    "We can then use the build-in plotting functionality:"
   ]
  },
  {
   "cell_type": "code",
   "execution_count": 21,
   "metadata": {},
   "outputs": [
    {
     "data": {
      "text/plain": [
       "<matplotlib.axes._subplots.AxesSubplot at 0x1835c3c9dd8>"
      ]
     },
     "execution_count": 21,
     "metadata": {},
     "output_type": "execute_result"
    },
    {
     "data": {
      "image/png": "[encoded data removed]",
      "text/plain": [
       "<Figure size 921.6x633.6 with 1 Axes>"
      ]
     },
     "metadata": {
      "needs_background": "light"
     },
     "output_type": "display_data"
    }
   ],
   "source": [
    "df.plot.bar(title='Count of files and whale IDs') "
   ]
  },
  {
   "cell_type": "markdown",
   "metadata": {},
   "source": [
    "While there is still quite some variance between the different years, it is less then when we considered only the number of images. On average there seem to be between 200 and 300 different whales that visit the azores every year. How many of these are repeated visitors?\n",
    "\n",
    "It's also worth noting that the number of images is not that much higher than the number of whale ids. Due to storage and computation constraints, Lisa aims to keep the total number of imags low. For most whales, there will only be one picture per year. As AIs usually needs many examples to learn from, this will make it a bit harder."
   ]
  },
  {
   "cell_type": "markdown",
   "metadata": {},
   "source": [
    "<a id='section2.5'></a>\n",
    "### How many new whales are seen each year?\n",
    "\n",
    "You might have already noticed that some whale ids appear in multiple years. This raises the question how many of the whales that are seen in one year were also seen in previous years. "
   ]
  },
  {
   "cell_type": "code",
   "execution_count": 19,
   "metadata": {},
   "outputs": [
    {
     "name": "stderr",
     "output_type": "stream",
     "text": [
      "2020-02-21 09:31:46,755 make_dataset sort_yearly_folder line 367 Sorting data\\raw\\Whale Watch Azores 2005\n",
      "2020-02-21 09:31:46,880 make_dataset parse_excel line 265 Parsing data\\raw\\Whale Watch Azores 2005\\Sperm Whale Matches 2005.xlsx\n",
      "2020-02-21 09:31:47,188 make_dataset parse_excel line 288 No image at row 176 for ID 1543, ['PM-WWA-20050628-082']\n",
      "2020-02-21 09:31:47,208 make_dataset parse_excel line 288 No image at row 184 for ID 2535, ['PM-WWA-20050701-106 ', 'PM-WWA-20050701-118', '1/2 TAIL']\n",
      "2020-02-21 09:31:47,215 make_dataset parse_excel line 288 No image at row 185 for ID 1543, ['PM-WWA-20050701-108', ' 1/2 TAIL GP']\n",
      "2020-02-21 09:31:47,322 make_dataset parse_excel line 288 No image at row 239 for ID 2929, ['PM-WWA-20050708-380 (big scallop/nick rt side scallop center left)', 'PM-WWA-20050706-223 ']\n",
      "2020-02-21 09:31:47,372 make_dataset parse_excel line 288 No image at row 270 for ID 2579, ['PM-WWA-20050712-002 (Wht Head)', 'PM-WWA-20050712-062']\n",
      "2020-02-21 09:31:47,377 make_dataset parse_excel line 288 No image at row 271 for ID 2578, ['PM-WWA-20050712-005 (Chrissy)', 'PM-WWA-20050712-049']\n",
      "2020-02-21 09:31:47,383 make_dataset parse_excel line 288 No image at row 272 for ID 1371, ['PM-WWA-20050712-008 (Scallop Rt end)', 'PM-WWA-20050712-052']\n",
      "2020-02-21 09:31:47,391 make_dataset parse_excel line 288 No image at row 275 for ID 2583, ['PM-WWA-20050712-040  Willie', 'PM-WWA-20050712-064']\n",
      "2020-02-21 09:31:47,395 make_dataset parse_excel line 288 No image at row 276 for ID 2931, ['PM-WWA-20050712-044  wht marks']\n",
      "2020-02-21 09:31:47,400 make_dataset parse_excel line 288 No image at row 277 for ID 2929, ['PM-WWA-20050712-045 Nick/Scallop on rt', 'PM-WWA-20050712-070 X']\n",
      "2020-02-21 09:31:47,409 make_dataset parse_excel line 288 No image at row 279 for ID 2776, ['PM-WWA-20050712-056  (Double Scallop lft)']\n",
      "2020-02-21 09:31:47,412 make_dataset parse_excel line 288 No image at row 280 for ID 2581, ['PM-WWA-20050712-068   (Mum w/ sm cf)']\n",
      "2020-02-21 09:31:47,424 make_dataset parse_excel line 288 No image at row 282 for ID 1039, ['PM-WWA-20050712-075 (End Scallop on Rt w/ Nick - left scallop)']\n",
      "2020-02-21 09:31:47,429 make_dataset parse_excel line 288 No image at row 283 for ID 2582, ['PM-WWA-20050712-077 (Scallops centre Rt & lft)', 'PM-WWA-20050712-095']\n",
      "2020-02-21 09:31:47,437 make_dataset parse_excel line 288 No image at row 284 for ID 2750, ['PM-WWA-20050712-080  (Big Scallop left - Missing Left end)']\n",
      "2020-02-21 09:31:47,443 make_dataset parse_excel line 288 No image at row 285 for ID 2580, ['PM-WWA-20050712-091 (Big Nick Right - Sm nicks left)', 'PM-WWA-20050712-109', 'PM-WWA-20050712-117']\n",
      "2020-02-21 09:31:47,550 make_dataset parse_excel line 288 No image at row 337 for ID 2929, ['PM-WWA-20050722-030 (nick/scallop right)']\n",
      "2020-02-21 09:31:47,554 make_dataset parse_excel line 288 No image at row 338 for ID 2581, ['PM-WWA-20050722-035 (mum w/ sm cf)', 'PM-WWA-20050722-130']\n",
      "2020-02-21 09:31:47,560 make_dataset parse_excel line 288 No image at row 339 for ID 2750, ['PM-WWA-20050722-048 (big scallop lft missing end)', 'PM-WWA-20050722-080', 'PM-WWA-20050722-092']\n",
      "2020-02-21 09:31:47,563 make_dataset parse_excel line 288 No image at row 340 for ID 1039, ['PM-WWA-20050722-078 (scallop rt end w/ nick in it)']\n",
      "2020-02-21 09:31:47,568 make_dataset parse_excel line 288 No image at row 341 for ID 2776, ['PM-WWA-20050722-082 (double scallop lft)']\n",
      "2020-02-21 09:31:47,571 make_dataset parse_excel line 288 No image at row 342 for ID 2579, ['PM-WWA-20050722-085 (wht head)']\n",
      "2020-02-21 09:31:47,575 make_dataset parse_excel line 288 No image at row 343 for ID 2582, ['PM-WWA-20050722-086 (centre scallops)']\n",
      "2020-02-21 09:31:47,578 make_dataset parse_excel line 288 No image at row 344 for ID 2580, ['PM-WWA-20050722-089 (big nick rt sm nicks lft)']\n",
      "2020-02-21 09:31:47,586 make_dataset parse_excel line 288 No image at row 346 for ID 2773, ['PM-WWA-20050722-122 (Sml Scallop rt side Left End Missing)', 'PM-WWA-20050722-168']\n",
      "2020-02-21 09:31:47,591 make_dataset parse_excel line 288 No image at row 347 for ID 2583, ['PM-WWA-20050722-134 (Willie)']\n",
      "2020-02-21 09:31:47,639 make_dataset parse_excel line 288 No image at row 366 for ID 2750, ['PM-WWA-20050726-100 (big scallop lft missing end)', 'PM-WWA-20050726-144']\n",
      "2020-02-21 09:31:47,644 make_dataset parse_excel line 288 No image at row 367 for ID 2937, ['PM-WWA-20050726-104']\n",
      "2020-02-21 09:31:47,651 make_dataset parse_excel line 288 No image at row 368 for ID 2579, ['PM-WWA-20050726-110 (WHT Head)']\n",
      "2020-02-21 09:31:47,657 make_dataset parse_excel line 288 No image at row 369 for ID 2583, ['PM-WWA-20050726-117 (Willie)', 'PM-WWA-20050726-134']\n",
      "2020-02-21 09:31:47,661 make_dataset parse_excel line 288 No image at row 370 for ID 1371, ['PM-WWA-20050726-120 (Scallop Rt end)']\n",
      "2020-02-21 09:31:47,665 make_dataset parse_excel line 288 No image at row 371 for ID 2929, ['PM-WWA-20050726-127 (Nick/Scallop on rt)']\n",
      "2020-02-21 09:31:47,675 make_dataset parse_excel line 288 No image at row 372 for ID 2582, ['PM-WWA-20050726-139 (Centre Scallops)']\n",
      "2020-02-21 09:31:47,683 make_dataset parse_excel line 288 No image at row 373 for ID 2580, ['PM-WWA-20050726-145 (Big Nick Right - Sm nicks left)']\n",
      "2020-02-21 09:31:47,692 make_dataset parse_excel line 288 No image at row 374 for ID 2581, ['PM-WWA-20050726-178 (Mum w/sm cf)']\n",
      "2020-02-21 09:31:47,765 make_dataset parse_excel line 288 No image at row 427 for ID 1746, ['PM-WWA-20050809-127']\n",
      "2020-02-21 09:31:47,773 make_dataset parse_excel line 288 No image at row 428 for ID 2238, ['PM-WWA-20050809-186 (dorsal w/ callus of mum)']\n",
      "2020-02-21 09:31:47,779 make_dataset parse_excel line 288 No image at row 433 for ID 2628, ['PM-WWA-20050810-003 (NIKE)', 84]\n",
      "2020-02-21 09:31:47,783 make_dataset parse_excel line 288 No image at row 434 for ID 2352, ['PM-WWA-20050810-008 (Left nick)']\n",
      "2020-02-21 09:31:47,789 make_dataset parse_excel line 288 No image at row 435 for ID 1746, ['PM-WWA-20050810-016 (Jagged left nicks right)']\n",
      "2020-02-21 09:31:47,795 make_dataset parse_excel line 288 No image at row 436 for ID 1543, ['PM-WWA-20050810-020 (missing lft corner)']\n",
      "2020-02-21 09:31:47,805 make_dataset parse_excel line 288 No image at row 437 for ID 2535, ['PM-WWA-20050810-035 half tail', 'PM-WWA-20050810-112']\n",
      "2020-02-21 09:31:47,808 make_dataset parse_excel line 288 No image at row 438 for ID 2892, ['PM-WWA-20050810-039 (cf of 1543)']\n",
      "2020-02-21 09:31:47,812 make_dataset parse_excel line 288 No image at row 439 for ID 2047, [\"PM-WWA-20050810-049 (2047 Doug's whale)\"]\n",
      "2020-02-21 09:31:47,821 make_dataset parse_excel line 288 No image at row 440 for ID 2238, ['PM-WWA-20050810-082 (mum w/ sm cf scallops both sides)']\n",
      "2020-02-21 09:31:47,827 make_dataset parse_excel line 288 No image at row 441 for ID 2529, ['PM-WWA-20050810-119 (wht spot notch)']\n",
      "2020-02-21 09:31:48,026 make_dataset parse_excel line 288 No image at row 520 for ID 2535, ['PM-WWA-20050829-007 (Half Tail)', 'PM-WWA-20050829-172', 'PM-WWA-20050829-A008']\n",
      "2020-02-21 09:31:48,041 make_dataset parse_excel line 288 No image at row 521 for ID 2628, ['PM-WWA-20050829-014 (Nike)', 'PM-WWA-20050829-A004']\n",
      "2020-02-21 09:31:48,056 make_dataset parse_excel line 288 No image at row 522 for ID 1543, ['PM-WWA-20050829-176 (Missing lft corner)']\n",
      "2020-02-21 09:31:48,063 make_dataset parse_excel line 288 No image at row 523 for ID 2047, ['PM-WWA-20050829-A012 (2047)']\n",
      "2020-02-21 09:31:48,130 make_dataset parse_excel line 288 No image at row 534 for ID 2538, ['PM-WWA-20050831-104 dorsal pic']\n",
      "2020-02-21 09:31:48,187 make_dataset parse_excel line 288 No image at row 546 for ID 2238, ['PM-WWA-20050907-015']\n",
      "2020-02-21 09:31:48,278 make_dataset sort_yearly_folder line 390 0 images have no ID.\n",
      "2020-02-21 09:31:48,279 make_dataset sort_yearly_folder line 367 Sorting data\\raw\\Whale Watch Azores 2006\n",
      "2020-02-21 09:31:48,827 make_dataset parse_excel line 265 Parsing data\\raw\\Whale Watch Azores 2006\\2006 MATCHES.xlsx\n",
      "2020-02-21 09:31:49,647 make_dataset parse_excel line 288 No image at row 153 for ID 2628, ['PM-WWA-20060618-001']\n",
      "2020-02-21 09:31:50,587 make_dataset parse_excel line 288 No image at row 443 for ID 2352, ['PM-WWA-20060914-132']\n",
      "2020-02-21 09:31:50,644 make_dataset sort_yearly_folder line 390 0 images have no ID.\n"
     ]
    },
    {
     "name": "stderr",
     "output_type": "stream",
     "text": [
      "2020-02-21 09:31:50,645 make_dataset sort_yearly_folder line 367 Sorting data\\raw\\Whale Watch Azores 2007\n",
      "2020-02-21 09:31:50,705 make_dataset parse_excel line 265 Parsing data\\raw\\Whale Watch Azores 2007\\Sperm Whale Matches 2007.xlsx\n",
      "2020-02-21 09:31:50,835 make_dataset parse_excel line 288 No image at row 75 for ID 2243, ['PM-WWA-20070504-05', '1996 1999']\n",
      "2020-02-21 09:31:51,266 make_dataset parse_excel line 288 No image at row 258 for ID 1645, ['PM-WWA-20070628-193']\n",
      "2020-02-21 09:31:51,333 make_dataset parse_excel line 288 No image at row 278 for ID 2500, ['PM-WWA-20070703-07', 'PM-WWA-20070703-90']\n",
      "2020-02-21 09:31:51,358 make_dataset parse_excel line 288 No image at row 285 for ID 1645, ['PM-WWA-20070703-30', 'PM-WWA-20070628-193']\n",
      "2020-02-21 09:31:51,365 make_dataset parse_excel line 288 No image at row 289 for ID 1592, ['PM-WWA-20070703-54']\n",
      "2020-02-21 09:31:51,372 make_dataset parse_excel line 288 No image at row 290 for ID 3095, ['PM-WWA-20070703-58', 'PM-WWA-20070703-126']\n",
      "2020-02-21 09:31:51,771 make_dataset sort_yearly_folder line 390 0 images have no ID.\n",
      "2020-02-21 09:31:51,772 make_dataset sort_yearly_folder line 367 Sorting data\\raw\\Whale Watch Azores 2008\n",
      "2020-02-21 09:31:51,857 make_dataset parse_excel line 265 Parsing data\\raw\\Whale Watch Azores 2008\\Whale Watch Azores 2008 GDSC.xlsx\n",
      "2020-02-21 09:31:52,811 make_dataset sort_yearly_folder line 390 0 images have no ID.\n",
      "2020-02-21 09:31:52,812 make_dataset sort_yearly_folder line 367 Sorting data\\raw\\Whale Watch Azores 2009\n",
      "2020-02-21 09:31:52,904 make_dataset parse_excel line 265 Parsing data\\raw\\Whale Watch Azores 2009\\Whale Watch Azores 2009 GDSC.xlsx\n",
      "2020-02-21 09:31:54,238 make_dataset sort_yearly_folder line 390 0 images have no ID.\n",
      "2020-02-21 09:31:54,240 make_dataset sort_yearly_folder line 367 Sorting data\\raw\\Whale Watch Azores 2010\n",
      "2020-02-21 09:31:54,416 make_dataset parse_excel line 265 Parsing data\\raw\\Whale Watch Azores 2010\\Whale Watch Azores 2010 GDSC.xlsx\n",
      "2020-02-21 09:31:55,998 make_dataset sort_yearly_folder line 390 0 images have no ID.\n",
      "2020-02-21 09:31:56,000 make_dataset sort_yearly_folder line 367 Sorting data\\raw\\Whale Watch Azores 2011\n",
      "2020-02-21 09:31:56,121 make_dataset parse_excel line 265 Parsing data\\raw\\Whale Watch Azores 2011\\Whale Watch Azores 2011 GDSC.xlsx\n",
      "2020-02-21 09:31:57,029 make_dataset sort_yearly_folder line 390 0 images have no ID.\n",
      "2020-02-21 09:31:57,031 make_dataset sort_yearly_folder line 367 Sorting data\\raw\\Whale Watch Azores 2012\n",
      "2020-02-21 09:31:57,139 make_dataset parse_excel line 265 Parsing data\\raw\\Whale Watch Azores 2012\\Whale Watch Azores 2012 GDSC.xlsx\n",
      "2020-02-21 09:31:57,762 make_dataset sort_yearly_folder line 390 0 images have no ID.\n",
      "2020-02-21 09:31:57,763 make_dataset sort_yearly_folder line 367 Sorting data\\raw\\Whale Watch Azores 2013\n",
      "2020-02-21 09:31:57,825 make_dataset parse_excel line 265 Parsing data\\raw\\Whale Watch Azores 2013\\Whale Watch Azores 2013 GDSC.xlsx\n",
      "2020-02-21 09:31:58,266 make_dataset sort_yearly_folder line 390 0 images have no ID.\n",
      "2020-02-21 09:31:58,267 make_dataset sort_yearly_folder line 367 Sorting data\\raw\\Whale Watch Azores 2014\n",
      "2020-02-21 09:31:58,313 make_dataset parse_excel line 265 Parsing data\\raw\\Whale Watch Azores 2014\\Whale Watch Azores 2014 GDSC.xlsx\n",
      "2020-02-21 09:31:59,031 make_dataset sort_yearly_folder line 390 0 images have no ID.\n",
      "2020-02-21 09:31:59,042 make_dataset sort_yearly_folder line 367 Sorting data\\raw\\Whale Watch Azores 2015\n",
      "2020-02-21 09:31:59,223 make_dataset parse_excel line 265 Parsing data\\raw\\Whale Watch Azores 2015\\Whale Watch Azores 2015 GDSC.xlsx\n",
      "2020-02-21 09:32:00,279 make_dataset sort_yearly_folder line 390 0 images have no ID.\n",
      "2020-02-21 09:32:00,281 make_dataset sort_yearly_folder line 367 Sorting data\\raw\\Whale Watch Azores 2016\n",
      "2020-02-21 09:32:00,387 make_dataset parse_excel line 265 Parsing data\\raw\\Whale Watch Azores 2016\\Whale Watch Azores 2016 GDSC.xlsx\n",
      "2020-02-21 09:32:01,155 make_dataset sort_yearly_folder line 390 0 images have no ID.\n"
     ]
    }
   ],
   "source": [
    "new_whale_counts = []\n",
    "returning_whale_counts = []\n",
    "whale_ids_total = set() # all whale ids that we've seen so far\n",
    "image_to_id = {} # all images seen so far\n",
    "base_id = 5000 # base id as default value, not relevant for the computation\n",
    "\n",
    "for year_folder in yearly_folders:   \n",
    "    # Parse the image folder / xls for the current year \n",
    "    # id_to_image contains all the ids that were seen this year, \n",
    "    id_to_images, image_to_id, base_id = sort_yearly_folder(str(year_folder), image_to_id=image_to_id, base_id=base_id)\n",
    "    \n",
    "    # to get the new_whale_know id's you need to remove the amout of ids from in the last run\n",
    "    whale_ids_this_year = set(id_to_images.keys())\n",
    "    new_whales = whale_ids_this_year - whale_ids_total  # This is the difference between sets, not numbers!\n",
    "    new_whale_counts.append(len(new_whales)) \n",
    "\n",
    "    # To overlap between new and old whale ids is the number of returning whales\n",
    "    returning_whales = whale_ids_this_year.intersection(whale_ids_total)\n",
    "    returning_whale_counts.append(len(returning_whales))\n",
    "    \n",
    "    # Update whale_ids with all the new whales we've seen so far\n",
    "    whale_ids_total = whale_ids_total.union(whale_ids_this_year)    "
   ]
  },
  {
   "cell_type": "code",
   "execution_count": 22,
   "metadata": {},
   "outputs": [
    {
     "data": {
      "text/plain": [
       "[290, 186, 234, 244, 176, 120, 194, 149, 122, 168, 185, 170]"
      ]
     },
     "execution_count": 22,
     "metadata": {},
     "output_type": "execute_result"
    }
   ],
   "source": [
    "new_whale_counts"
   ]
  },
  {
   "cell_type": "code",
   "execution_count": 23,
   "metadata": {},
   "outputs": [
    {
     "data": {
      "text/plain": [
       "[0, 45, 62, 93, 90, 102, 110, 82, 52, 80, 96, 101]"
      ]
     },
     "execution_count": 23,
     "metadata": {},
     "output_type": "execute_result"
    }
   ],
   "source": [
    "returning_whale_counts"
   ]
  },
  {
   "cell_type": "code",
   "execution_count": 24,
   "metadata": {},
   "outputs": [
    {
     "data": {
      "text/html": [
       "<div>\n",
       "<style scoped>\n",
       "    .dataframe tbody tr th:only-of-type {\n",
       "        vertical-align: middle;\n",
       "    }\n",
       "\n",
       "    .dataframe tbody tr th {\n",
       "        vertical-align: top;\n",
       "    }\n",
       "\n",
       "    .dataframe thead th {\n",
       "        text-align: right;\n",
       "    }\n",
       "</style>\n",
       "<table border=\"1\" class=\"dataframe\">\n",
       "  <thead>\n",
       "    <tr style=\"text-align: right;\">\n",
       "      <th></th>\n",
       "      <th>New whales</th>\n",
       "      <th>Returning whales</th>\n",
       "    </tr>\n",
       "  </thead>\n",
       "  <tbody>\n",
       "    <tr>\n",
       "      <th>2005</th>\n",
       "      <td>290</td>\n",
       "      <td>0</td>\n",
       "    </tr>\n",
       "    <tr>\n",
       "      <th>2006</th>\n",
       "      <td>186</td>\n",
       "      <td>45</td>\n",
       "    </tr>\n",
       "    <tr>\n",
       "      <th>2007</th>\n",
       "      <td>234</td>\n",
       "      <td>62</td>\n",
       "    </tr>\n",
       "    <tr>\n",
       "      <th>2008</th>\n",
       "      <td>244</td>\n",
       "      <td>93</td>\n",
       "    </tr>\n",
       "    <tr>\n",
       "      <th>2009</th>\n",
       "      <td>176</td>\n",
       "      <td>90</td>\n",
       "    </tr>\n",
       "  </tbody>\n",
       "</table>\n",
       "</div>"
      ],
      "text/plain": [
       "      New whales  Returning whales\n",
       "2005         290                 0\n",
       "2006         186                45\n",
       "2007         234                62\n",
       "2008         244                93\n",
       "2009         176                90"
      ]
     },
     "execution_count": 24,
     "metadata": {},
     "output_type": "execute_result"
    }
   ],
   "source": [
    "df = pd.DataFrame(index=range(2005, 2017))\n",
    "df['New whales'] = new_whale_counts\n",
    "df['Returning whales'] = returning_whale_counts\n",
    "df.head()"
   ]
  },
  {
   "cell_type": "code",
   "execution_count": 25,
   "metadata": {},
   "outputs": [
    {
     "data": {
      "text/plain": [
       "<matplotlib.axes._subplots.AxesSubplot at 0x1835c5a0be0>"
      ]
     },
     "execution_count": 25,
     "metadata": {},
     "output_type": "execute_result"
    },
    {
     "data": {
      "image/png": "[encoded data removed]",
      "text/plain": [
       "<Figure size 921.6x633.6 with 1 Axes>"
      ]
     },
     "metadata": {
      "needs_background": "light"
     },
     "output_type": "display_data"
    }
   ],
   "source": [
    "df.plot.bar(title='Count of new and returning whales')"
   ]
  },
  {
   "cell_type": "markdown",
   "metadata": {},
   "source": [
    "In the first few years, the number of new whales dominates the number of the returning whales, as expected. What's surprising is that even after over 10 years we still see many new whales each year. In fact the number of new whales is always greater than the number of returning whales.\n",
    "\n",
    "This either means that there are lots of new whales born each year, that the total population is much bigger than what we've seen so far, or that there are errors in our data. \n",
    "\n",
    "With a bit of math you can do serious population size estimation based on this kind of data. See for examples Lisa's [latest paper](https://gdsc.ce.capgemini.com/static/Multi-stateOpenRobustDesign_2019.pdf) on the topic."
   ]
  },
  {
   "cell_type": "markdown",
   "metadata": {},
   "source": [
    "**Note:**\n",
    "\n",
    "The calcuation for the new and returning whales is based on only our dataset. Alternatively, we could treat all whales that already have an ID assigned as returning. In this case, we would already have many returning whales in 2005. \n",
    "\n",
    "**Excercise:**\n",
    "- Compute the number of new and returning whales when treating all whales with assigned IDs and compare the results."
   ]
  },
  {
   "cell_type": "markdown",
   "metadata": {},
   "source": [
    "<a id='section2.6'></a>\n",
    "## How many images do we have for each whale?\n",
    "\n",
    "The number of images we have for each whale is essential. Imagine having to identify a person on the street after having seen only a mugshot of the same person. In general, it is even harder for *AI*s. They get better the more training data they have available. If we have only very few pictures of a whale, the AI will likely struggle to identify this whale.\n",
    "\n",
    "Let's see how things look in our dataset."
   ]
  },
  {
   "cell_type": "markdown",
   "metadata": {},
   "source": [
    "We start by analysing a single year. As before we first compute the *id_to_images* dictionary."
   ]
  },
  {
   "cell_type": "code",
   "execution_count": 26,
   "metadata": {},
   "outputs": [
    {
     "name": "stderr",
     "output_type": "stream",
     "text": [
      "2020-02-09 21:34:33,064 make_dataset sort_yearly_folder line 367 Sorting data\\raw\\Whale Watch Azores 2007\n",
      "2020-02-09 21:34:33,163 make_dataset parse_excel line 265 Parsing data\\raw\\Whale Watch Azores 2007\\Sperm Whale Matches 2007.xlsx\n",
      "2020-02-09 21:34:33,449 make_dataset parse_excel line 288 No image at row 75 for ID 2243, ['PM-WWA-20070504-05', '1996 1999']\n",
      "2020-02-09 21:34:33,957 make_dataset parse_excel line 288 No image at row 258 for ID 1645, ['PM-WWA-20070628-193']\n",
      "2020-02-09 21:34:34,014 make_dataset parse_excel line 288 No image at row 278 for ID 2500, ['PM-WWA-20070703-07', 'PM-WWA-20070703-90']\n",
      "2020-02-09 21:34:34,049 make_dataset parse_excel line 288 No image at row 285 for ID 1645, ['PM-WWA-20070703-30', 'PM-WWA-20070628-193']\n",
      "2020-02-09 21:34:34,060 make_dataset parse_excel line 288 No image at row 289 for ID 1592, ['PM-WWA-20070703-54']\n",
      "2020-02-09 21:34:34,067 make_dataset parse_excel line 288 No image at row 290 for ID 3095, ['PM-WWA-20070703-58', 'PM-WWA-20070703-126']\n",
      "2020-02-09 21:34:35,156 make_dataset sort_yearly_folder line 390 0 images have no ID.\n"
     ]
    }
   ],
   "source": [
    "data_folder = raw_data_folder / 'Whale Watch Azores 2007'\n",
    "id_to_images, image_to_id, base_id = sort_yearly_folder(str(data_folder))"
   ]
  },
  {
   "cell_type": "markdown",
   "metadata": {},
   "source": [
    "Then we count the number of images for each id by looping over all ids"
   ]
  },
  {
   "cell_type": "code",
   "execution_count": 27,
   "metadata": {},
   "outputs": [],
   "source": [
    "image_counts = []\n",
    "for id in id_to_images:\n",
    "    images = id_to_images[id]\n",
    "    image_counts.append(len(images))"
   ]
  },
  {
   "cell_type": "markdown",
   "metadata": {},
   "source": [
    "or we can use *list compression* to do the same computation faster. "
   ]
  },
  {
   "cell_type": "code",
   "execution_count": 28,
   "metadata": {},
   "outputs": [],
   "source": [
    "image_counts = [len(images) for images in id_to_images.values()]"
   ]
  },
  {
   "cell_type": "markdown",
   "metadata": {},
   "source": [
    "As expected, most of the IDs only have one picture. Let's count how often each number occurs:"
   ]
  },
  {
   "cell_type": "code",
   "execution_count": 29,
   "metadata": {},
   "outputs": [
    {
     "data": {
      "text/html": [
       "<div>\n",
       "<style scoped>\n",
       "    .dataframe tbody tr th:only-of-type {\n",
       "        vertical-align: middle;\n",
       "    }\n",
       "\n",
       "    .dataframe tbody tr th {\n",
       "        vertical-align: top;\n",
       "    }\n",
       "\n",
       "    .dataframe thead th {\n",
       "        text-align: right;\n",
       "    }\n",
       "</style>\n",
       "<table border=\"1\" class=\"dataframe\">\n",
       "  <thead>\n",
       "    <tr style=\"text-align: right;\">\n",
       "      <th></th>\n",
       "      <th>Nr of images</th>\n",
       "    </tr>\n",
       "  </thead>\n",
       "  <tbody>\n",
       "    <tr>\n",
       "      <th>0</th>\n",
       "      <td>1</td>\n",
       "    </tr>\n",
       "    <tr>\n",
       "      <th>1</th>\n",
       "      <td>1</td>\n",
       "    </tr>\n",
       "    <tr>\n",
       "      <th>2</th>\n",
       "      <td>1</td>\n",
       "    </tr>\n",
       "    <tr>\n",
       "      <th>3</th>\n",
       "      <td>43</td>\n",
       "    </tr>\n",
       "    <tr>\n",
       "      <th>4</th>\n",
       "      <td>1</td>\n",
       "    </tr>\n",
       "  </tbody>\n",
       "</table>\n",
       "</div>"
      ],
      "text/plain": [
       "   Nr of images\n",
       "0             1\n",
       "1             1\n",
       "2             1\n",
       "3            43\n",
       "4             1"
      ]
     },
     "execution_count": 29,
     "metadata": {},
     "output_type": "execute_result"
    }
   ],
   "source": [
    "df = pd.DataFrame()\n",
    "df['Nr of images'] = image_counts\n",
    "df.head()"
   ]
  },
  {
   "cell_type": "code",
   "execution_count": 30,
   "metadata": {},
   "outputs": [
    {
     "data": {
      "text/plain": [
       "1     243\n",
       "2      25\n",
       "3       2\n",
       "43      1\n",
       "Name: Nr of images, dtype: int64"
      ]
     },
     "execution_count": 30,
     "metadata": {},
     "output_type": "execute_result"
    }
   ],
   "source": [
    "df['Nr of images'].value_counts()  # the value_counts function tell you how often each value appears."
   ]
  },
  {
   "cell_type": "code",
   "execution_count": 31,
   "metadata": {},
   "outputs": [
    {
     "data": {
      "text/plain": [
       "<matplotlib.axes._subplots.AxesSubplot at 0x196f67dd940>"
      ]
     },
     "execution_count": 31,
     "metadata": {},
     "output_type": "execute_result"
    },
    {
     "data": {
      "image/png": "[encoded data removed]",
      "text/plain": [
       "<Figure size 921.6x633.6 with 1 Axes>"
      ]
     },
     "metadata": {
      "needs_background": "light"
     },
     "output_type": "display_data"
    }
   ],
   "source": [
    "value_counts = df['Nr of images'].value_counts()\n",
    "value_counts.plot(kind='bar', title='Number of images per ID for Year 2007')  # As before we use the build-in plotting function"
   ]
  },
  {
   "cell_type": "markdown",
   "metadata": {},
   "source": [
    "Note that we have two outliers:\n",
    "\n",
    "* 212 ids with only one picture\n",
    "* one id with 39 pictures\n",
    "\n",
    "You will find that the id *-1* which is used for bad pictures is the one with the 39 images. \n",
    "\n",
    "In total, things look pretty grim for an AI approach. The majority of ids has only one image, a handful two images and very few more than that. Luckily we have data for more than one year. Let's do the same computation for the complete dataset."
   ]
  },
  {
   "cell_type": "code",
   "execution_count": 32,
   "metadata": {},
   "outputs": [
    {
     "name": "stderr",
     "output_type": "stream",
     "text": [
      "2020-02-20 14:08:47,425 make_dataset sort_yearly_folder line 367 Sorting data\\raw\\Whale Watch Azores 2005\n",
      "2020-02-20 14:08:47,526 make_dataset parse_excel line 265 Parsing data\\raw\\Whale Watch Azores 2005\\Sperm Whale Matches 2005.xlsx\n",
      "2020-02-20 14:08:47,774 make_dataset parse_excel line 288 No image at row 176 for ID 1543, ['PM-WWA-20050628-082']\n",
      "2020-02-20 14:08:47,798 make_dataset parse_excel line 288 No image at row 184 for ID 2535, ['PM-WWA-20050701-106 ', 'PM-WWA-20050701-118', '1/2 TAIL']\n",
      "2020-02-20 14:08:47,805 make_dataset parse_excel line 288 No image at row 185 for ID 1543, ['PM-WWA-20050701-108', ' 1/2 TAIL GP']\n",
      "2020-02-20 14:08:47,907 make_dataset parse_excel line 288 No image at row 239 for ID 2929, ['PM-WWA-20050708-380 (big scallop/nick rt side scallop center left)', 'PM-WWA-20050706-223 ']\n",
      "2020-02-20 14:08:47,960 make_dataset parse_excel line 288 No image at row 270 for ID 2579, ['PM-WWA-20050712-002 (Wht Head)', 'PM-WWA-20050712-062']\n",
      "2020-02-20 14:08:47,964 make_dataset parse_excel line 288 No image at row 271 for ID 2578, ['PM-WWA-20050712-005 (Chrissy)', 'PM-WWA-20050712-049']\n",
      "2020-02-20 14:08:47,970 make_dataset parse_excel line 288 No image at row 272 for ID 1371, ['PM-WWA-20050712-008 (Scallop Rt end)', 'PM-WWA-20050712-052']\n",
      "2020-02-20 14:08:47,980 make_dataset parse_excel line 288 No image at row 275 for ID 2583, ['PM-WWA-20050712-040  Willie', 'PM-WWA-20050712-064']\n",
      "2020-02-20 14:08:47,984 make_dataset parse_excel line 288 No image at row 276 for ID 2931, ['PM-WWA-20050712-044  wht marks']\n",
      "2020-02-20 14:08:47,990 make_dataset parse_excel line 288 No image at row 277 for ID 2929, ['PM-WWA-20050712-045 Nick/Scallop on rt', 'PM-WWA-20050712-070 X']\n",
      "2020-02-20 14:08:48,001 make_dataset parse_excel line 288 No image at row 279 for ID 2776, ['PM-WWA-20050712-056  (Double Scallop lft)']\n",
      "2020-02-20 14:08:48,007 make_dataset parse_excel line 288 No image at row 280 for ID 2581, ['PM-WWA-20050712-068   (Mum w/ sm cf)']\n",
      "2020-02-20 14:08:48,013 make_dataset parse_excel line 288 No image at row 282 for ID 1039, ['PM-WWA-20050712-075 (End Scallop on Rt w/ Nick - left scallop)']\n",
      "2020-02-20 14:08:48,020 make_dataset parse_excel line 288 No image at row 283 for ID 2582, ['PM-WWA-20050712-077 (Scallops centre Rt & lft)', 'PM-WWA-20050712-095']\n",
      "2020-02-20 14:08:48,023 make_dataset parse_excel line 288 No image at row 284 for ID 2750, ['PM-WWA-20050712-080  (Big Scallop left - Missing Left end)']\n",
      "2020-02-20 14:08:48,029 make_dataset parse_excel line 288 No image at row 285 for ID 2580, ['PM-WWA-20050712-091 (Big Nick Right - Sm nicks left)', 'PM-WWA-20050712-109', 'PM-WWA-20050712-117']\n",
      "2020-02-20 14:08:48,098 make_dataset parse_excel line 288 No image at row 337 for ID 2929, ['PM-WWA-20050722-030 (nick/scallop right)']\n",
      "2020-02-20 14:08:48,102 make_dataset parse_excel line 288 No image at row 338 for ID 2581, ['PM-WWA-20050722-035 (mum w/ sm cf)', 'PM-WWA-20050722-130']\n",
      "2020-02-20 14:08:48,109 make_dataset parse_excel line 288 No image at row 339 for ID 2750, ['PM-WWA-20050722-048 (big scallop lft missing end)', 'PM-WWA-20050722-080', 'PM-WWA-20050722-092']\n",
      "2020-02-20 14:08:48,111 make_dataset parse_excel line 288 No image at row 340 for ID 1039, ['PM-WWA-20050722-078 (scallop rt end w/ nick in it)']\n",
      "2020-02-20 14:08:48,114 make_dataset parse_excel line 288 No image at row 341 for ID 2776, ['PM-WWA-20050722-082 (double scallop lft)']\n",
      "2020-02-20 14:08:48,117 make_dataset parse_excel line 288 No image at row 342 for ID 2579, ['PM-WWA-20050722-085 (wht head)']\n",
      "2020-02-20 14:08:48,122 make_dataset parse_excel line 288 No image at row 343 for ID 2582, ['PM-WWA-20050722-086 (centre scallops)']\n",
      "2020-02-20 14:08:48,128 make_dataset parse_excel line 288 No image at row 344 for ID 2580, ['PM-WWA-20050722-089 (big nick rt sm nicks lft)']\n",
      "2020-02-20 14:08:48,133 make_dataset parse_excel line 288 No image at row 346 for ID 2773, ['PM-WWA-20050722-122 (Sml Scallop rt side Left End Missing)', 'PM-WWA-20050722-168']\n",
      "2020-02-20 14:08:48,139 make_dataset parse_excel line 288 No image at row 347 for ID 2583, ['PM-WWA-20050722-134 (Willie)']\n",
      "2020-02-20 14:08:48,173 make_dataset parse_excel line 288 No image at row 366 for ID 2750, ['PM-WWA-20050726-100 (big scallop lft missing end)', 'PM-WWA-20050726-144']\n",
      "2020-02-20 14:08:48,176 make_dataset parse_excel line 288 No image at row 367 for ID 2937, ['PM-WWA-20050726-104']\n",
      "2020-02-20 14:08:48,179 make_dataset parse_excel line 288 No image at row 368 for ID 2579, ['PM-WWA-20050726-110 (WHT Head)']\n",
      "2020-02-20 14:08:48,184 make_dataset parse_excel line 288 No image at row 369 for ID 2583, ['PM-WWA-20050726-117 (Willie)', 'PM-WWA-20050726-134']\n",
      "2020-02-20 14:08:48,189 make_dataset parse_excel line 288 No image at row 370 for ID 1371, ['PM-WWA-20050726-120 (Scallop Rt end)']\n",
      "2020-02-20 14:08:48,194 make_dataset parse_excel line 288 No image at row 371 for ID 2929, ['PM-WWA-20050726-127 (Nick/Scallop on rt)']\n",
      "2020-02-20 14:08:48,200 make_dataset parse_excel line 288 No image at row 372 for ID 2582, ['PM-WWA-20050726-139 (Centre Scallops)']\n",
      "2020-02-20 14:08:48,205 make_dataset parse_excel line 288 No image at row 373 for ID 2580, ['PM-WWA-20050726-145 (Big Nick Right - Sm nicks left)']\n",
      "2020-02-20 14:08:48,208 make_dataset parse_excel line 288 No image at row 374 for ID 2581, ['PM-WWA-20050726-178 (Mum w/sm cf)']\n",
      "2020-02-20 14:08:48,258 make_dataset parse_excel line 288 No image at row 427 for ID 1746, ['PM-WWA-20050809-127']\n",
      "2020-02-20 14:08:48,261 make_dataset parse_excel line 288 No image at row 428 for ID 2238, ['PM-WWA-20050809-186 (dorsal w/ callus of mum)']\n",
      "2020-02-20 14:08:48,270 make_dataset parse_excel line 288 No image at row 433 for ID 2628, ['PM-WWA-20050810-003 (NIKE)', 84]\n",
      "2020-02-20 14:08:48,275 make_dataset parse_excel line 288 No image at row 434 for ID 2352, ['PM-WWA-20050810-008 (Left nick)']\n",
      "2020-02-20 14:08:48,279 make_dataset parse_excel line 288 No image at row 435 for ID 1746, ['PM-WWA-20050810-016 (Jagged left nicks right)']\n",
      "2020-02-20 14:08:48,283 make_dataset parse_excel line 288 No image at row 436 for ID 1543, ['PM-WWA-20050810-020 (missing lft corner)']\n",
      "2020-02-20 14:08:48,289 make_dataset parse_excel line 288 No image at row 437 for ID 2535, ['PM-WWA-20050810-035 half tail', 'PM-WWA-20050810-112']\n",
      "2020-02-20 14:08:48,292 make_dataset parse_excel line 288 No image at row 438 for ID 2892, ['PM-WWA-20050810-039 (cf of 1543)']\n",
      "2020-02-20 14:08:48,296 make_dataset parse_excel line 288 No image at row 439 for ID 2047, [\"PM-WWA-20050810-049 (2047 Doug's whale)\"]\n",
      "2020-02-20 14:08:48,303 make_dataset parse_excel line 288 No image at row 440 for ID 2238, ['PM-WWA-20050810-082 (mum w/ sm cf scallops both sides)']\n",
      "2020-02-20 14:08:48,307 make_dataset parse_excel line 288 No image at row 441 for ID 2529, ['PM-WWA-20050810-119 (wht spot notch)']\n",
      "2020-02-20 14:08:48,411 make_dataset parse_excel line 288 No image at row 520 for ID 2535, ['PM-WWA-20050829-007 (Half Tail)', 'PM-WWA-20050829-172', 'PM-WWA-20050829-A008']\n",
      "2020-02-20 14:08:48,415 make_dataset parse_excel line 288 No image at row 521 for ID 2628, ['PM-WWA-20050829-014 (Nike)', 'PM-WWA-20050829-A004']\n",
      "2020-02-20 14:08:48,418 make_dataset parse_excel line 288 No image at row 522 for ID 1543, ['PM-WWA-20050829-176 (Missing lft corner)']\n",
      "2020-02-20 14:08:48,421 make_dataset parse_excel line 288 No image at row 523 for ID 2047, ['PM-WWA-20050829-A012 (2047)']\n",
      "2020-02-20 14:08:48,442 make_dataset parse_excel line 288 No image at row 534 for ID 2538, ['PM-WWA-20050831-104 dorsal pic']\n",
      "2020-02-20 14:08:48,462 make_dataset parse_excel line 288 No image at row 546 for ID 2238, ['PM-WWA-20050907-015']\n"
     ]
    },
    {
     "ename": "KeyError",
     "evalue": "'5000'",
     "output_type": "error",
     "traceback": [
      "\u001b[1;31m---------------------------------------------------------------------------\u001b[0m",
      "\u001b[1;31mKeyError\u001b[0m                                  Traceback (most recent call last)",
      "\u001b[1;32m<ipython-input-32-5f5de8abc9ce>\u001b[0m in \u001b[0;36m<module>\u001b[1;34m\u001b[0m\n\u001b[0;32m      1\u001b[0m \u001b[1;31m# Compute id_to_images for all years\u001b[0m\u001b[1;33m\u001b[0m\u001b[1;33m\u001b[0m\u001b[1;33m\u001b[0m\u001b[0m\n\u001b[0;32m      2\u001b[0m \u001b[1;32mfor\u001b[0m \u001b[0myear_folder\u001b[0m \u001b[1;32min\u001b[0m \u001b[0myearly_folders\u001b[0m\u001b[1;33m:\u001b[0m\u001b[1;33m\u001b[0m\u001b[1;33m\u001b[0m\u001b[0m\n\u001b[1;32m----> 3\u001b[1;33m     \u001b[0mid_to_images\u001b[0m\u001b[1;33m,\u001b[0m \u001b[0mimage_to_id\u001b[0m\u001b[1;33m,\u001b[0m \u001b[0mbase_id\u001b[0m \u001b[1;33m=\u001b[0m \u001b[0msort_yearly_folder\u001b[0m\u001b[1;33m(\u001b[0m\u001b[0mstr\u001b[0m\u001b[1;33m(\u001b[0m\u001b[0myear_folder\u001b[0m\u001b[1;33m)\u001b[0m\u001b[1;33m,\u001b[0m \u001b[0mid_to_images\u001b[0m\u001b[1;33m,\u001b[0m \u001b[0mimage_to_id\u001b[0m\u001b[1;33m,\u001b[0m \u001b[0mbase_id\u001b[0m\u001b[1;33m)\u001b[0m\u001b[1;33m\u001b[0m\u001b[1;33m\u001b[0m\u001b[0m\n\u001b[0m",
      "\u001b[1;32mC:\\VuNguyen\\Study\\Capgemini data science challenge 2020\\Notebooks\\src\\data\\make_dataset.py\u001b[0m in \u001b[0;36msort_yearly_folder\u001b[1;34m(input_data_path, id_to_images, image_to_id, base_id)\u001b[0m\n\u001b[0;32m    373\u001b[0m     \u001b[1;31m# Merge ids that share the same image\u001b[0m\u001b[1;33m\u001b[0m\u001b[1;33m\u001b[0m\u001b[1;33m\u001b[0m\u001b[0m\n\u001b[0;32m    374\u001b[0m     \u001b[1;32mfor\u001b[0m \u001b[0mid_1\u001b[0m\u001b[1;33m,\u001b[0m \u001b[0mid_2\u001b[0m \u001b[1;32min\u001b[0m \u001b[0mids_to_merge\u001b[0m\u001b[1;33m:\u001b[0m\u001b[1;33m\u001b[0m\u001b[1;33m\u001b[0m\u001b[0m\n\u001b[1;32m--> 375\u001b[1;33m         \u001b[0mid_to_images\u001b[0m\u001b[1;33m,\u001b[0m \u001b[0mimage_to_id\u001b[0m \u001b[1;33m=\u001b[0m \u001b[0mmerge_ids\u001b[0m\u001b[1;33m(\u001b[0m\u001b[0mid_1\u001b[0m\u001b[1;33m,\u001b[0m \u001b[0mid_2\u001b[0m\u001b[1;33m,\u001b[0m \u001b[0mid_to_images\u001b[0m\u001b[1;33m,\u001b[0m \u001b[0mimage_to_id\u001b[0m\u001b[1;33m)\u001b[0m\u001b[1;33m\u001b[0m\u001b[1;33m\u001b[0m\u001b[0m\n\u001b[0m\u001b[0;32m    376\u001b[0m \u001b[1;33m\u001b[0m\u001b[0m\n\u001b[0;32m    377\u001b[0m     \u001b[1;31m# Check that every img file has a corresponding id\u001b[0m\u001b[1;33m\u001b[0m\u001b[1;33m\u001b[0m\u001b[1;33m\u001b[0m\u001b[0m\n",
      "\u001b[1;32mC:\\VuNguyen\\Study\\Capgemini data science challenge 2020\\Notebooks\\src\\data\\make_dataset.py\u001b[0m in \u001b[0;36mmerge_ids\u001b[1;34m(id_1, id_2, id_to_images, image_to_id)\u001b[0m\n\u001b[0;32m    315\u001b[0m \u001b[1;33m\u001b[0m\u001b[0m\n\u001b[0;32m    316\u001b[0m \u001b[1;32mdef\u001b[0m \u001b[0mmerge_ids\u001b[0m\u001b[1;33m(\u001b[0m\u001b[0mid_1\u001b[0m\u001b[1;33m:\u001b[0m \u001b[0mstr\u001b[0m\u001b[1;33m,\u001b[0m \u001b[0mid_2\u001b[0m\u001b[1;33m:\u001b[0m \u001b[0mstr\u001b[0m\u001b[1;33m,\u001b[0m \u001b[0mid_to_images\u001b[0m\u001b[1;33m:\u001b[0m \u001b[0mdict\u001b[0m\u001b[1;33m,\u001b[0m \u001b[0mimage_to_id\u001b[0m\u001b[1;33m:\u001b[0m \u001b[0mdict\u001b[0m\u001b[1;33m)\u001b[0m \u001b[1;33m->\u001b[0m \u001b[0mTuple\u001b[0m\u001b[1;33m[\u001b[0m\u001b[0mdict\u001b[0m\u001b[1;33m,\u001b[0m \u001b[0mdict\u001b[0m\u001b[1;33m]\u001b[0m\u001b[1;33m:\u001b[0m\u001b[1;33m\u001b[0m\u001b[1;33m\u001b[0m\u001b[0m\n\u001b[1;32m--> 317\u001b[1;33m     \u001b[0mlogging\u001b[0m\u001b[1;33m.\u001b[0m\u001b[0mwarning\u001b[0m\u001b[1;33m(\u001b[0m\u001b[1;34mf\"Merging IDs {id_1}:{id_to_images[id_1]}, {id_2}:{id_to_images[id_2]}\"\u001b[0m\u001b[1;33m)\u001b[0m\u001b[1;33m\u001b[0m\u001b[1;33m\u001b[0m\u001b[0m\n\u001b[0m\u001b[0;32m    318\u001b[0m     \u001b[0mmin_id\u001b[0m \u001b[1;33m=\u001b[0m \u001b[0mmin\u001b[0m\u001b[1;33m(\u001b[0m\u001b[0mid_1\u001b[0m\u001b[1;33m,\u001b[0m \u001b[0mid_2\u001b[0m\u001b[1;33m)\u001b[0m\u001b[1;33m\u001b[0m\u001b[1;33m\u001b[0m\u001b[0m\n\u001b[0;32m    319\u001b[0m     \u001b[0mmax_id\u001b[0m \u001b[1;33m=\u001b[0m \u001b[0mmax\u001b[0m\u001b[1;33m(\u001b[0m\u001b[0mid_1\u001b[0m\u001b[1;33m,\u001b[0m \u001b[0mid_2\u001b[0m\u001b[1;33m)\u001b[0m\u001b[1;33m\u001b[0m\u001b[1;33m\u001b[0m\u001b[0m\n",
      "\u001b[1;31mKeyError\u001b[0m: '5000'"
     ]
    }
   ],
   "source": [
    "# Compute id_to_images for all years\n",
    "for year_folder in yearly_folders:\n",
    "    id_to_images, image_to_id, base_id = sort_yearly_folder(str(year_folder), id_to_images, image_to_id, base_id)"
   ]
  },
  {
   "cell_type": "code",
   "execution_count": 33,
   "metadata": {},
   "outputs": [
    {
     "data": {
      "text/plain": [
       "1     427\n",
       "2      89\n",
       "3      12\n",
       "5       4\n",
       "4       4\n",
       "95      1\n",
       "8       1\n",
       "6       1\n",
       "Name: Nr of images, dtype: int64"
      ]
     },
     "execution_count": 33,
     "metadata": {},
     "output_type": "execute_result"
    }
   ],
   "source": [
    "image_counts = [len(images) for images in id_to_images.values()]\n",
    "df = pd.DataFrame({'Nr of images': image_counts})\n",
    "value_counts = df['Nr of images'].value_counts()\n",
    "value_counts"
   ]
  },
  {
   "cell_type": "code",
   "execution_count": 34,
   "metadata": {},
   "outputs": [
    {
     "data": {
      "text/plain": [
       "<matplotlib.axes._subplots.AxesSubplot at 0x196f640d2b0>"
      ]
     },
     "execution_count": 34,
     "metadata": {},
     "output_type": "execute_result"
    },
    {
     "data": {
      "image/png": "[encoded data removed]",
      "text/plain": [
       "<Figure size 921.6x633.6 with 1 Axes>"
      ]
     },
     "metadata": {
      "needs_background": "light"
     },
     "output_type": "display_data"
    }
   ],
   "source": [
    "# Remove the outliers: All ids with only one image and All image with the id -1\n",
    "value_counts = value_counts[1:-1]  # [1:-1] removed the first and last entry of the list. Check out https://stackoverflow.com/questions/509211/understanding-slice-notation for details.\n",
    "value_counts.plot(kind='bar', title='Number of images per ID for all Years')"
   ]
  },
  {
   "cell_type": "markdown",
   "metadata": {},
   "source": [
    "Still not perfect, but at least we have several hundred ids with two or more images. No matter which method we chose, it has to be able to work with very few training examples. We might even have to use [one-shot-learning](https://towardsdatascience.com/one-shot-learning-with-siamese-networks-using-keras-17f34e75bb3d)."
   ]
  },
  {
   "cell_type": "markdown",
   "metadata": {},
   "source": [
    "<font color='blue'>\n",
    "    \n",
    "**Best practice:**\n",
    "- Use images to condense and convey information. \n",
    "- Look for outliers. They tend to tell you the most about your data.\n",
    "- Have a solid understanding of the tools you are working with (e.g. Python). Knowing the right library can save you a lot of time, reduce the possibility for errors and make your code easier to understand."
   ]
  },
  {
   "cell_type": "markdown",
   "metadata": {},
   "source": [
    "<a id='section2.7'></a>\n",
    "## Summary\n",
    "\n",
    "The EDA aims to give us an understanding of the problem we're trying to solve and allows us to pick the right algorithm. We learned\n",
    "\n",
    "* The data was manually curated, with many different problems arising during the data cleaning. It is likely that there are still errors. **Report and discuss potential errors in our [teams channel](https://teams.microsoft.com/l/team/19%3a4017a2e9af4942e7aa157d6ec9d751b4%40thread.skype/conversations?groupId=7d77d672-dff1-4c9f-ac55-3c837c1bebf9&tenantId=76a2ae5a-9f00-4f6b-95ed-5d33d77c4d61)**.\n",
    "* The data is very sparse. We have very few pictures for individual whales. The majority is only seen once.\n",
    "* Every year, the majority of pictures show whales that are seen for the first time.\n",
    "\n",
    "This is not an easy problem to solve. Let's see what we can do."
   ]
  },
  {
   "cell_type": "markdown",
   "metadata": {},
   "source": [
    "<a id='section3'></a>\n",
    "# Measuring prediction quality\n",
    "\n",
    "The goal of the challenge is simple: For each image in the [evaluation data set](https://capgemini.sharepoint.com/sites/GlobalDataScienceChallenge806/Shared%20Documents/Data%20Discussions/test_val.zip), create a list of similar images.\n",
    "\n",
    "With this similarity prediction we are building a system that is able to make recommendations. The same concept is used for example at Amazon for product recommendations when you see something like \"People who watched product A also watched product B\".\n",
    "\n",
    "The website shows a leaderboard where each teams is assigned a score. The higher the score, the better your ranking in the leaderboard. This section shows how the score is computed."
   ]
  },
  {
   "cell_type": "markdown",
   "metadata": {},
   "source": [
    "<a id='section3.1'></a>\n",
    "## How to create a submission file\n",
    "\n",
    "The format for predictions must be a csv where each line has the format:\n",
    "\n",
    "*input_img, pred_1, pred_2, ...*\n",
    "\n",
    "Where input_img is the input image and pred_1 is the image that according to our algorithm is the most similar picture to input_img. Respectively pred_2 is the image rated the second most similar, and so on."
   ]
  },
  {
   "cell_type": "markdown",
   "metadata": {},
   "source": [
    "In the [Gitlab repository](http://de-mucingode1.corp.capgemini.com/gitlab/SophieY/global_data_science_challenge_3_public) you will find a file named *train.csv* that shows how perfect predictions for the images in the [training data](https://capgemini.sharepoint.com/sites/GlobalDataScienceChallenge806/Shared%20Documents/Data%20Discussions/train.zip) would look like. For each image in the training data set, it lists all other images that show the same whale.\n",
    "\n",
    "input_img | pic_1 | pic_2 | pic_3 | pic_4 | ...\n",
    ":--- | :---: | :---: | :---: | :---: | :---:\n",
    "PM-WWA-20050619-138.jpg | PM-WWA-20050618-064.jpg |    |  | | ...\n",
    "PM-WWA-20050620-041.jpg | PM-WWA-20101022-049.jpg | PM-WWA-20110812-097.jpg | PM-WWA-20130607-211.jpg | PM-WWA-20130602-158.jpg | ...\n",
    "\n",
    "The second line shows that the whale in *PM-WWA-20050620-041.jpg* can also be seen in the images *PM-WWA-20101022-049.jpg, PM-WWA-20110812-097.jpg, PM-WWA-20130607-211.jpg* and *PM-WWA-20130602-158.jpg*. "
   ]
  },
  {
   "cell_type": "markdown",
   "metadata": {},
   "source": [
    "<a id='section3.2'></a>\n",
    "## Computing the score\n",
    "\n",
    "Let's assume our predictions for the image \n",
    "\n",
    "*PM-WWA-20050620-041.jpg* are \n",
    "\n",
    "*PM-WWA-20101022-049.jpg, PM-WWA-20110812-097.jpg, PM-WWA-20130607-211.jpg, PM-WWA-20130602-158.jpg, wrong-pred-5.jpg, wrong-pred-6.jpg, wrong-pred-7.jpg, wrong-pred-8.jpg, wrong-pred-9.jpg, wrong-pred-10.jpg, wrong-pred-11.jpg, wrong-pred-12.jpg, wrong-pred-13.jpg, wrong-pred-14.jpg, wrong-pred-15.jpg, wrong-pred-16.jpg, wrong-pred-17.jpg, wrong-pred-18.jpg, wrong-pred-19.jpg, wrong-pred-20.jpg*.\n",
    "\n",
    "I.e. our top four predictions are correct and everything afterwards is an image that shows a different whale. What would our score be for this line?"
   ]
  },
  {
   "cell_type": "code",
   "execution_count": 26,
   "metadata": {},
   "outputs": [],
   "source": [
    "from src.score import get_submission_score  # You can find the source code in the file src/score.py"
   ]
  },
  {
   "cell_type": "code",
   "execution_count": 27,
   "metadata": {},
   "outputs": [],
   "source": [
    "predictions = {'PM-WWA-20050620-041.jpg': ['PM-WWA-20101022-049.jpg', 'PM-WWA-20110812-097.jpg',\n",
    "                                           'PM-WWA-20130607-211.jpg', 'PM-WWA-20130602-158.jpg', 'wrong-pred-5.jpg',\n",
    "                                           'wrong-pred-6.jpg', 'wrong-pred-7.jpg', 'wrong-pred-8.jpg', 'wrong-pred-9.jpg',\n",
    "                                           'wrong-pred-10.jpg', 'wrong-pred-11.jpg', 'wrong-pred-12.jpg', 'wrong-pred-13.jpg',\n",
    "                                           'wrong-pred-14.jpg', 'wrong-pred-15.jpg', 'wrong-pred-16.jpg', 'wrong-pred-17.jpg',\n",
    "                                           'wrong-pred-18.jpg', 'wrong-pred-19.jpg', 'wrong-pred-20.jpg']}\n",
    "labels = {'PM-WWA-20050620-041.jpg': ['PM-WWA-20101022-049.jpg', 'PM-WWA-20110812-097.jpg',\n",
    "                                      'PM-WWA-20130607-211.jpg', 'PM-WWA-20130602-158.jpg']}"
   ]
  },
  {
   "cell_type": "code",
   "execution_count": 28,
   "metadata": {},
   "outputs": [
    {
     "data": {
      "text/plain": [
       "9.380952380952381"
      ]
     },
     "execution_count": 28,
     "metadata": {},
     "output_type": "execute_result"
    }
   ],
   "source": [
    "get_submission_score(predictions, labels)"
   ]
  },
  {
   "cell_type": "markdown",
   "metadata": {},
   "source": [
    "In this second example we changed the order of the predicted images. This has a major effect on the score:"
   ]
  },
  {
   "cell_type": "code",
   "execution_count": 29,
   "metadata": {},
   "outputs": [],
   "source": [
    "predictions = {'PM-WWA-20050620-041.jpg': ['wrong-pred-19.jpg', 'PM-WWA-20130602-158.jpg', 'wrong-pred-8.jpg',\n",
    "                                           'wrong-pred-16.jpg', 'PM-WWA-20110812-097.jpg', 'wrong-pred-5.jpg',\n",
    "                                           'wrong-pred-6.jpg', 'wrong-pred-7.jpg', 'wrong-pred-9.jpg', 'wrong-pred-10.jpg',\n",
    "                                           'wrong-pred-11.jpg', 'wrong-pred-12.jpg', 'wrong-pred-13.jpg','wrong-pred-14.jpg',\n",
    "                                           'wrong-pred-15.jpg', 'PM-WWA-20130607-211.jpg', 'wrong-pred-17.jpg',\n",
    "                                           'wrong-pred-18.jpg','PM-WWA-20101022-049.jpg', 'wrong-pred-20.jpg']}"
   ]
  },
  {
   "cell_type": "code",
   "execution_count": 30,
   "metadata": {},
   "outputs": [
    {
     "data": {
      "text/plain": [
       "2.5714285714285716"
      ]
     },
     "execution_count": 30,
     "metadata": {},
     "output_type": "execute_result"
    }
   ],
   "source": [
    "get_submission_score(predictions, labels)"
   ]
  },
  {
   "cell_type": "markdown",
   "metadata": {},
   "source": [
    "A third example shows the importance of the top three predictions. Even though we only predicted two of the four matching images we get a higher score because two of the top three are correct."
   ]
  },
  {
   "cell_type": "code",
   "execution_count": 40,
   "metadata": {},
   "outputs": [],
   "source": [
    "predictions = {'PM-WWA-20050620-041.jpg': ['wrong-pred-1.jpg', 'PM-WWA-20110812-097.jpg',\n",
    "                                           'PM-WWA-20130607-211.jpg', 'wrong-pred-4.jpg', 'wrong-pred-5.jpg',\n",
    "                                           'wrong-pred-6.jpg', 'wrong-pred-7.jpg', 'wrong-pred-8.jpg', 'wrong-pred-9.jpg',\n",
    "                                           'wrong-pred-10.jpg', 'wrong-pred-11.jpg', 'wrong-pred-12.jpg', 'wrong-pred-13.jpg',\n",
    "                                           'wrong-pred-14.jpg', 'wrong-pred-15.jpg', 'wrong-pred-16.jpg', 'wrong-pred-17.jpg',\n",
    "                                           'wrong-pred-18.jpg', 'wrong-pred-19.jpg', 'wrong-pred-20.jpg']}"
   ]
  },
  {
   "cell_type": "code",
   "execution_count": 41,
   "metadata": {},
   "outputs": [
    {
     "data": {
      "text/plain": [
       "2.976190476190476"
      ]
     },
     "execution_count": 41,
     "metadata": {},
     "output_type": "execute_result"
    }
   ],
   "source": [
    "get_submission_score(predictions, labels)"
   ]
  },
  {
   "cell_type": "markdown",
   "metadata": {},
   "source": [
    "<a id='section3.3'></a>\n",
    "## The math behind the score function\n",
    "\n",
    "The previous section gave us an intuition of the score function. Now we will take a look at the actual formula.\n",
    "\n",
    "*Note: This section is not essential. Feel free to skip over it.*\n",
    "\n",
    "Both the order as well as the number of correct predictions have a major influence on the score.\n",
    "In the examples the best score we can achieve is ~9.381. The score of the predictions for a single image is defined as:\n",
    "\n",
    "$$score = 10 * f1{@1} + 5 * f1{@2} + 2 * f1{@3} + f1{@20}$$\n",
    "\n",
    "with $$f1{@n} := 2 * \\frac{(precision{@n} * recall{@n})}{(precision{@n} + recall{@n})}$$\n",
    "\n",
    "and $n$ being the number of predictions taking into consideration. [F1](https://en.wikipedia.org/wiki/F1_score) is a very common metric that combines *precision* and *recall*. *Precision* is the percentage of the correct results that are relevant, *Recall* the percentage of the total relevant results that are predicted correctly. The *@n* suffix denotes that we only consider the *n* highest ranked results in the computation."
   ]
  },
  {
   "cell_type": "markdown",
   "metadata": {},
   "source": [
    "To get a better understanding of the score, we want to calculate the above example by hand. So we start calculating the F1 scores with:\n",
    "\n",
    "$$precision{@n} = \\frac{correct\\_predictions{@n}}{n}$$\n",
    "$$recall{@n} = \\frac{correct\\_predictions{@n}}{potential\\_matches}$$\n",
    "\n",
    "where $correct\\_predictions{@n}$ is the number of matches in the top $n$ predicted images and $potential\\_matches$ is the number of images showing the same whale. Therefore:\n",
    "\n",
    "$$precision{@1}= \\frac{1}{1} \\;\\;\\;\\;  recall{@1} = \\frac{1}{4} \\;\\;\\;\\; f1{@1} = 2 * \\frac{1 * \\frac{1}{4}}{1 + \\frac{1}{4}} = \\frac{2}{5}$$;   \n",
    "$$precision{@2} = \\frac{2}{2} \\;\\;\\;\\;  recall{@2} = \\frac{2}{4} \\;\\;\\;\\; f1{@2} = 2 * \\frac{1 * \\frac{2}{4}}{1 + \\frac{2}{4}} = \\frac{2}{3}$$;     \n",
    "$$precision{@3} = \\frac{3}{3} \\;\\;\\;\\;  recall{@3} = \\frac{3}{4} \\;\\;\\;\\; f1{@3} = 2 * \\frac{1 * \\frac{3}{4}}{1 + \\frac{3}{4}} = \\frac{6}{7}$$;  \n",
    "$$precision{@20} = \\frac{4}{20} \\;\\;\\;\\;  recall{@20} = \\frac{4}{4} \\;\\;\\;\\; f1{@20} = 2 * \\frac{\\frac{4}{20} * 1}{\\frac{4}{20} + 1} = \\frac{1}{3}$$\n",
    "\n",
    "$$score = 10 * \\frac{2}{5} + 5 * \\frac{2}{3} + 2 * \\frac{6}{7} + \\frac{1}{3} = \\frac{197}{27} \\approx 9.38095$$"
   ]
  },
  {
   "cell_type": "markdown",
   "metadata": {},
   "source": [
    "For the other two examples we can do the calculation similarly:\n",
    "\n",
    "$$\\text{Example 2:} \\;\\; score = 10 * 0 + 5 * \\frac{1}{3} + 2 * \\frac{2}{7} + \\frac{1}{3} = \\frac{18}{7} \\approx 2.57143$$\n",
    "\n",
    "$$\\text{Example 3:} \\;\\; score = 10 * 0 + 5 * \\frac{1}{3} + 2 * \\frac{4}{7} + \\frac{1}{6} = \\frac{125}{42} \\approx 2.97619$$"
   ]
  },
  {
   "cell_type": "markdown",
   "metadata": {},
   "source": [
    "<a id='section3.4'></a>\n",
    "## Summary\n",
    "\n",
    "This section explain how the score for an individual picture is computed. The score on the leaderboard is the sum over all pictures in the test, resp. validation, data set.\n",
    "\n",
    "* For each image in the [evaluation data set](https://capgemini.sharepoint.com/sites/GlobalDataScienceChallenge806/Shared%20Documents/Data%20Discussions/test_val.zip), you have to rank all other images by similarity. \n",
    "* The results on the leaderboard are computed by a score function that rewards the correct order of your predictions. \n",
    "* The score function considers the first 20 predictions with the top three being the most important."
   ]
  }
 ],
 "metadata": {
  "kernelspec": {
   "display_name": "Python 3",
   "language": "python",
   "name": "python3"
  },
  "language_info": {
   "codemirror_mode": {
    "name": "ipython",
    "version": 3
   },
   "file_extension": ".py",
   "mimetype": "text/x-python",
   "name": "python",
   "nbconvert_exporter": "python",
   "pygments_lexer": "ipython3",
   "version": "3.7.6"
  }
 },
 "nbformat": 4,
 "nbformat_minor": 2
}
