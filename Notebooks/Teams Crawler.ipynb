{
 "cells": [
  {
   "cell_type": "code",
   "execution_count": 12,
   "metadata": {},
   "outputs": [
    {
     "name": "stdout",
     "output_type": "stream",
     "text": [
      "Collecting requests\n",
      "  Downloading requests-2.23.0-py2.py3-none-any.whl (58 kB)\n",
      "Requirement already satisfied: idna<3,>=2.5 in c:\\users\\quangvng\\appdata\\local\\continuum\\anaconda3\\envs\\global_data_science_challenge_3\\lib\\site-packages (from requests) (2.8)\n",
      "Requirement already satisfied: urllib3!=1.25.0,!=1.25.1,<1.26,>=1.21.1 in c:\\users\\quangvng\\appdata\\local\\continuum\\anaconda3\\envs\\global_data_science_challenge_3\\lib\\site-packages (from requests) (1.25.8)\n",
      "Requirement already satisfied: certifi>=2017.4.17 in c:\\users\\quangvng\\appdata\\local\\continuum\\anaconda3\\envs\\global_data_science_challenge_3\\lib\\site-packages (from requests) (2019.11.28)\n",
      "Collecting chardet<4,>=3.0.2\n",
      "  Downloading chardet-3.0.4-py2.py3-none-any.whl (133 kB)\n",
      "Installing collected packages: chardet, requests\n",
      "Successfully installed chardet-3.0.4 requests-2.23.0\n"
     ]
    }
   ],
   "source": [
    "!pip install requests"
   ]
  },
  {
   "cell_type": "code",
   "execution_count": 13,
   "metadata": {},
   "outputs": [],
   "source": [
    "import pandas as pd"
   ]
  },
  {
   "cell_type": "code",
   "execution_count": 14,
   "metadata": {},
   "outputs": [
    {
     "name": "stderr",
     "output_type": "stream",
     "text": [
      "C:\\Users\\quangvng\\AppData\\Local\\Continuum\\anaconda3\\envs\\global_data_science_challenge_3\\lib\\site-packages\\urllib3\\connectionpool.py:1004: InsecureRequestWarning: Unverified HTTPS request is being made to host 'gdsc.ce.capgemini.com'. Adding certificate verification is strongly advised. See: https://urllib3.readthedocs.io/en/latest/advanced-usage.html#ssl-warnings\n",
      "  InsecureRequestWarning,\n"
     ]
    }
   ],
   "source": [
    "from bs4 import BeautifulSoup\n",
    "import requests\n",
    "url = \"https://gdsc.ce.capgemini.com/teams/?page=1\"\n",
    "req  = requests.get(url, verify=False)"
   ]
  },
  {
   "cell_type": "code",
   "execution_count": 15,
   "metadata": {},
   "outputs": [],
   "source": [
    "soup = BeautifulSoup(req.content, 'html.parser')\n",
    "#print(soup.prettify())"
   ]
  },
  {
   "cell_type": "code",
   "execution_count": 16,
   "metadata": {},
   "outputs": [],
   "source": [
    "def tableDataText(table, page):       \n",
    "    df = pd.DataFrame(columns=['Id', 'Team Name', 'Members', 'Members Count', 'Countries', 'Page'])\n",
    "    trs = table.find_all('tr')\n",
    "    for tr in trs: # for every table row\n",
    "        row = [td.get_text(strip=True) for td in tr.find_all('td')] # data row\n",
    "        if len(row) > 0:\n",
    "            row.append(page)\n",
    "            df.loc[len(df)] = row\n",
    "    return df"
   ]
  },
  {
   "cell_type": "code",
   "execution_count": 17,
   "metadata": {},
   "outputs": [],
   "source": [
    "df_teams = pd.DataFrame(columns=['Id', 'Team Name', 'Members', 'Members Count', 'Countries', 'Page'])"
   ]
  },
  {
   "cell_type": "code",
   "execution_count": 18,
   "metadata": {},
   "outputs": [
    {
     "data": {
      "text/html": [
       "<div>\n",
       "<style scoped>\n",
       "    .dataframe tbody tr th:only-of-type {\n",
       "        vertical-align: middle;\n",
       "    }\n",
       "\n",
       "    .dataframe tbody tr th {\n",
       "        vertical-align: top;\n",
       "    }\n",
       "\n",
       "    .dataframe thead th {\n",
       "        text-align: right;\n",
       "    }\n",
       "</style>\n",
       "<table border=\"1\" class=\"dataframe\">\n",
       "  <thead>\n",
       "    <tr style=\"text-align: right;\">\n",
       "      <th></th>\n",
       "      <th>Id</th>\n",
       "      <th>Team Name</th>\n",
       "      <th>Members</th>\n",
       "      <th>Members Count</th>\n",
       "      <th>Countries</th>\n",
       "      <th>Page</th>\n",
       "    </tr>\n",
       "  </thead>\n",
       "  <tbody>\n",
       "  </tbody>\n",
       "</table>\n",
       "</div>"
      ],
      "text/plain": [
       "Empty DataFrame\n",
       "Columns: [Id, Team Name, Members, Members Count, Countries, Page]\n",
       "Index: []"
      ]
     },
     "execution_count": 18,
     "metadata": {},
     "output_type": "execute_result"
    }
   ],
   "source": [
    "df_teams"
   ]
  },
  {
   "cell_type": "code",
   "execution_count": 19,
   "metadata": {},
   "outputs": [
    {
     "name": "stdout",
     "output_type": "stream",
     "text": [
      "Crawling https://gdsc.ce.capgemini.com/teams/?page=1 ...\n"
     ]
    },
    {
     "name": "stderr",
     "output_type": "stream",
     "text": [
      "C:\\Users\\quangvng\\AppData\\Local\\Continuum\\anaconda3\\envs\\global_data_science_challenge_3\\lib\\site-packages\\urllib3\\connectionpool.py:1004: InsecureRequestWarning: Unverified HTTPS request is being made to host 'gdsc.ce.capgemini.com'. Adding certificate verification is strongly advised. See: https://urllib3.readthedocs.io/en/latest/advanced-usage.html#ssl-warnings\n",
      "  InsecureRequestWarning,\n"
     ]
    },
    {
     "name": "stdout",
     "output_type": "stream",
     "text": [
      "Crawling https://gdsc.ce.capgemini.com/teams/?page=2 ...\n"
     ]
    },
    {
     "name": "stderr",
     "output_type": "stream",
     "text": [
      "C:\\Users\\quangvng\\AppData\\Local\\Continuum\\anaconda3\\envs\\global_data_science_challenge_3\\lib\\site-packages\\urllib3\\connectionpool.py:1004: InsecureRequestWarning: Unverified HTTPS request is being made to host 'gdsc.ce.capgemini.com'. Adding certificate verification is strongly advised. See: https://urllib3.readthedocs.io/en/latest/advanced-usage.html#ssl-warnings\n",
      "  InsecureRequestWarning,\n"
     ]
    },
    {
     "name": "stdout",
     "output_type": "stream",
     "text": [
      "Crawling https://gdsc.ce.capgemini.com/teams/?page=3 ...\n"
     ]
    },
    {
     "name": "stderr",
     "output_type": "stream",
     "text": [
      "C:\\Users\\quangvng\\AppData\\Local\\Continuum\\anaconda3\\envs\\global_data_science_challenge_3\\lib\\site-packages\\urllib3\\connectionpool.py:1004: InsecureRequestWarning: Unverified HTTPS request is being made to host 'gdsc.ce.capgemini.com'. Adding certificate verification is strongly advised. See: https://urllib3.readthedocs.io/en/latest/advanced-usage.html#ssl-warnings\n",
      "  InsecureRequestWarning,\n"
     ]
    },
    {
     "name": "stdout",
     "output_type": "stream",
     "text": [
      "Crawling https://gdsc.ce.capgemini.com/teams/?page=4 ...\n"
     ]
    },
    {
     "name": "stderr",
     "output_type": "stream",
     "text": [
      "C:\\Users\\quangvng\\AppData\\Local\\Continuum\\anaconda3\\envs\\global_data_science_challenge_3\\lib\\site-packages\\urllib3\\connectionpool.py:1004: InsecureRequestWarning: Unverified HTTPS request is being made to host 'gdsc.ce.capgemini.com'. Adding certificate verification is strongly advised. See: https://urllib3.readthedocs.io/en/latest/advanced-usage.html#ssl-warnings\n",
      "  InsecureRequestWarning,\n"
     ]
    },
    {
     "name": "stdout",
     "output_type": "stream",
     "text": [
      "Crawling https://gdsc.ce.capgemini.com/teams/?page=5 ...\n"
     ]
    },
    {
     "name": "stderr",
     "output_type": "stream",
     "text": [
      "C:\\Users\\quangvng\\AppData\\Local\\Continuum\\anaconda3\\envs\\global_data_science_challenge_3\\lib\\site-packages\\urllib3\\connectionpool.py:1004: InsecureRequestWarning: Unverified HTTPS request is being made to host 'gdsc.ce.capgemini.com'. Adding certificate verification is strongly advised. See: https://urllib3.readthedocs.io/en/latest/advanced-usage.html#ssl-warnings\n",
      "  InsecureRequestWarning,\n"
     ]
    },
    {
     "name": "stdout",
     "output_type": "stream",
     "text": [
      "Crawling https://gdsc.ce.capgemini.com/teams/?page=6 ...\n"
     ]
    },
    {
     "name": "stderr",
     "output_type": "stream",
     "text": [
      "C:\\Users\\quangvng\\AppData\\Local\\Continuum\\anaconda3\\envs\\global_data_science_challenge_3\\lib\\site-packages\\urllib3\\connectionpool.py:1004: InsecureRequestWarning: Unverified HTTPS request is being made to host 'gdsc.ce.capgemini.com'. Adding certificate verification is strongly advised. See: https://urllib3.readthedocs.io/en/latest/advanced-usage.html#ssl-warnings\n",
      "  InsecureRequestWarning,\n"
     ]
    },
    {
     "name": "stdout",
     "output_type": "stream",
     "text": [
      "Crawling https://gdsc.ce.capgemini.com/teams/?page=7 ...\n"
     ]
    },
    {
     "name": "stderr",
     "output_type": "stream",
     "text": [
      "C:\\Users\\quangvng\\AppData\\Local\\Continuum\\anaconda3\\envs\\global_data_science_challenge_3\\lib\\site-packages\\urllib3\\connectionpool.py:1004: InsecureRequestWarning: Unverified HTTPS request is being made to host 'gdsc.ce.capgemini.com'. Adding certificate verification is strongly advised. See: https://urllib3.readthedocs.io/en/latest/advanced-usage.html#ssl-warnings\n",
      "  InsecureRequestWarning,\n"
     ]
    },
    {
     "name": "stdout",
     "output_type": "stream",
     "text": [
      "Crawling https://gdsc.ce.capgemini.com/teams/?page=8 ...\n"
     ]
    },
    {
     "name": "stderr",
     "output_type": "stream",
     "text": [
      "C:\\Users\\quangvng\\AppData\\Local\\Continuum\\anaconda3\\envs\\global_data_science_challenge_3\\lib\\site-packages\\urllib3\\connectionpool.py:1004: InsecureRequestWarning: Unverified HTTPS request is being made to host 'gdsc.ce.capgemini.com'. Adding certificate verification is strongly advised. See: https://urllib3.readthedocs.io/en/latest/advanced-usage.html#ssl-warnings\n",
      "  InsecureRequestWarning,\n"
     ]
    },
    {
     "name": "stdout",
     "output_type": "stream",
     "text": [
      "Crawling https://gdsc.ce.capgemini.com/teams/?page=9 ...\n"
     ]
    },
    {
     "name": "stderr",
     "output_type": "stream",
     "text": [
      "C:\\Users\\quangvng\\AppData\\Local\\Continuum\\anaconda3\\envs\\global_data_science_challenge_3\\lib\\site-packages\\urllib3\\connectionpool.py:1004: InsecureRequestWarning: Unverified HTTPS request is being made to host 'gdsc.ce.capgemini.com'. Adding certificate verification is strongly advised. See: https://urllib3.readthedocs.io/en/latest/advanced-usage.html#ssl-warnings\n",
      "  InsecureRequestWarning,\n"
     ]
    },
    {
     "name": "stdout",
     "output_type": "stream",
     "text": [
      "Crawling https://gdsc.ce.capgemini.com/teams/?page=10 ...\n"
     ]
    },
    {
     "name": "stderr",
     "output_type": "stream",
     "text": [
      "C:\\Users\\quangvng\\AppData\\Local\\Continuum\\anaconda3\\envs\\global_data_science_challenge_3\\lib\\site-packages\\urllib3\\connectionpool.py:1004: InsecureRequestWarning: Unverified HTTPS request is being made to host 'gdsc.ce.capgemini.com'. Adding certificate verification is strongly advised. See: https://urllib3.readthedocs.io/en/latest/advanced-usage.html#ssl-warnings\n",
      "  InsecureRequestWarning,\n"
     ]
    },
    {
     "name": "stdout",
     "output_type": "stream",
     "text": [
      "Crawling https://gdsc.ce.capgemini.com/teams/?page=11 ...\n"
     ]
    },
    {
     "name": "stderr",
     "output_type": "stream",
     "text": [
      "C:\\Users\\quangvng\\AppData\\Local\\Continuum\\anaconda3\\envs\\global_data_science_challenge_3\\lib\\site-packages\\urllib3\\connectionpool.py:1004: InsecureRequestWarning: Unverified HTTPS request is being made to host 'gdsc.ce.capgemini.com'. Adding certificate verification is strongly advised. See: https://urllib3.readthedocs.io/en/latest/advanced-usage.html#ssl-warnings\n",
      "  InsecureRequestWarning,\n"
     ]
    },
    {
     "name": "stdout",
     "output_type": "stream",
     "text": [
      "Crawling https://gdsc.ce.capgemini.com/teams/?page=12 ...\n"
     ]
    },
    {
     "name": "stderr",
     "output_type": "stream",
     "text": [
      "C:\\Users\\quangvng\\AppData\\Local\\Continuum\\anaconda3\\envs\\global_data_science_challenge_3\\lib\\site-packages\\urllib3\\connectionpool.py:1004: InsecureRequestWarning: Unverified HTTPS request is being made to host 'gdsc.ce.capgemini.com'. Adding certificate verification is strongly advised. See: https://urllib3.readthedocs.io/en/latest/advanced-usage.html#ssl-warnings\n",
      "  InsecureRequestWarning,\n"
     ]
    }
   ],
   "source": [
    "i = 1\n",
    "while(i < 13):\n",
    "    url = \"https://gdsc.ce.capgemini.com/teams/?page=\" + str(i)\n",
    "    print(\"Crawling \" + url + \" ...\")\n",
    "    req  = requests.get(url, verify=False)\n",
    "    soup = BeautifulSoup(req.content, 'html.parser')\n",
    "    teams_table = soup.find_all(\"table\")[2] # take 3rd table in each page\n",
    "    df_teams = df_teams.append(tableDataText(teams_table, i),ignore_index = True)\n",
    "    i+=1"
   ]
  },
  {
   "cell_type": "code",
   "execution_count": 22,
   "metadata": {},
   "outputs": [
    {
     "data": {
      "text/html": [
       "<div>\n",
       "<style scoped>\n",
       "    .dataframe tbody tr th:only-of-type {\n",
       "        vertical-align: middle;\n",
       "    }\n",
       "\n",
       "    .dataframe tbody tr th {\n",
       "        vertical-align: top;\n",
       "    }\n",
       "\n",
       "    .dataframe thead th {\n",
       "        text-align: right;\n",
       "    }\n",
       "</style>\n",
       "<table border=\"1\" class=\"dataframe\">\n",
       "  <thead>\n",
       "    <tr style=\"text-align: right;\">\n",
       "      <th></th>\n",
       "      <th>Id</th>\n",
       "      <th>Team Name</th>\n",
       "      <th>Members</th>\n",
       "      <th>Members Count</th>\n",
       "      <th>Countries</th>\n",
       "      <th>Page</th>\n",
       "    </tr>\n",
       "  </thead>\n",
       "  <tbody>\n",
       "    <tr>\n",
       "      <th>0</th>\n",
       "      <td>1</td>\n",
       "      <td>Moby Data</td>\n",
       "      <td>{'saibal.mukherjee@capgemini.com'}</td>\n",
       "      <td>1</td>\n",
       "      <td>{'India'}</td>\n",
       "      <td>1</td>\n",
       "    </tr>\n",
       "    <tr>\n",
       "      <th>1</th>\n",
       "      <td>2</td>\n",
       "      <td>Data Novice</td>\n",
       "      <td>{'suraj.a.singh@capgemini.com'}</td>\n",
       "      <td>1</td>\n",
       "      <td>{'India'}</td>\n",
       "      <td>1</td>\n",
       "    </tr>\n",
       "    <tr>\n",
       "      <th>2</th>\n",
       "      <td>3</td>\n",
       "      <td>SaveWhale</td>\n",
       "      <td>{'kousik.roy@capgemini.com'}</td>\n",
       "      <td>1</td>\n",
       "      <td>{'India'}</td>\n",
       "      <td>1</td>\n",
       "    </tr>\n",
       "    <tr>\n",
       "      <th>3</th>\n",
       "      <td>4</td>\n",
       "      <td>Data-venger</td>\n",
       "      <td>{'sai-prudhvi-sharma.golla@capgemini.com'}</td>\n",
       "      <td>1</td>\n",
       "      <td>{'India'}</td>\n",
       "      <td>1</td>\n",
       "    </tr>\n",
       "    <tr>\n",
       "      <th>4</th>\n",
       "      <td>5</td>\n",
       "      <td>AI Masters</td>\n",
       "      <td>{'anant.maru@capgemini.com'}</td>\n",
       "      <td>1</td>\n",
       "      <td>{'India'}</td>\n",
       "      <td>1</td>\n",
       "    </tr>\n",
       "  </tbody>\n",
       "</table>\n",
       "</div>"
      ],
      "text/plain": [
       "  Id    Team Name                                     Members Members Count  \\\n",
       "0  1    Moby Data          {'saibal.mukherjee@capgemini.com'}             1   \n",
       "1  2  Data Novice             {'suraj.a.singh@capgemini.com'}             1   \n",
       "2  3    SaveWhale                {'kousik.roy@capgemini.com'}             1   \n",
       "3  4  Data-venger  {'sai-prudhvi-sharma.golla@capgemini.com'}             1   \n",
       "4  5   AI Masters                {'anant.maru@capgemini.com'}             1   \n",
       "\n",
       "   Countries Page  \n",
       "0  {'India'}    1  \n",
       "1  {'India'}    1  \n",
       "2  {'India'}    1  \n",
       "3  {'India'}    1  \n",
       "4  {'India'}    1  "
      ]
     },
     "execution_count": 22,
     "metadata": {},
     "output_type": "execute_result"
    }
   ],
   "source": [
    "df_teams.head()"
   ]
  },
  {
   "cell_type": "code",
   "execution_count": 23,
   "metadata": {},
   "outputs": [
    {
     "data": {
      "text/plain": [
       "(600, 6)"
      ]
     },
     "execution_count": 23,
     "metadata": {},
     "output_type": "execute_result"
    }
   ],
   "source": [
    "df_teams.shape"
   ]
  },
  {
   "cell_type": "code",
   "execution_count": 24,
   "metadata": {},
   "outputs": [],
   "source": [
    " pd.options.display.max_colwidth = 150"
   ]
  },
  {
   "cell_type": "code",
   "execution_count": 25,
   "metadata": {},
   "outputs": [
    {
     "data": {
      "text/html": [
       "<div>\n",
       "<style scoped>\n",
       "    .dataframe tbody tr th:only-of-type {\n",
       "        vertical-align: middle;\n",
       "    }\n",
       "\n",
       "    .dataframe tbody tr th {\n",
       "        vertical-align: top;\n",
       "    }\n",
       "\n",
       "    .dataframe thead th {\n",
       "        text-align: right;\n",
       "    }\n",
       "</style>\n",
       "<table border=\"1\" class=\"dataframe\">\n",
       "  <thead>\n",
       "    <tr style=\"text-align: right;\">\n",
       "      <th></th>\n",
       "      <th>Id</th>\n",
       "      <th>Team Name</th>\n",
       "      <th>Members</th>\n",
       "      <th>Members Count</th>\n",
       "      <th>Countries</th>\n",
       "      <th>Page</th>\n",
       "    </tr>\n",
       "  </thead>\n",
       "  <tbody>\n",
       "    <tr>\n",
       "      <th>6</th>\n",
       "      <td>7</td>\n",
       "      <td>Oxygen</td>\n",
       "      <td>{'sigfrid.lindhe@capgemini.com', 'anton.lindelof-holmqvist@capgemini.com', 'fredrik.bengtsson@capgemini.com', 'christopher.jonsson@capgemini.com'}</td>\n",
       "      <td>4</td>\n",
       "      <td>{'Sweden'}</td>\n",
       "      <td>1</td>\n",
       "    </tr>\n",
       "    <tr>\n",
       "      <th>125</th>\n",
       "      <td>126</td>\n",
       "      <td>Overwhaleming Data</td>\n",
       "      <td>{'jaya.abraham@capgemini.com', 'quang-vu.nguyen@capgemini.com'}</td>\n",
       "      <td>2</td>\n",
       "      <td>{'Sweden'}</td>\n",
       "      <td>3</td>\n",
       "    </tr>\n",
       "    <tr>\n",
       "      <th>131</th>\n",
       "      <td>132</td>\n",
       "      <td>WhaleTail</td>\n",
       "      <td>{'hamed.khodabakhshi@capgemini.com'}</td>\n",
       "      <td>1</td>\n",
       "      <td>{'Sweden'}</td>\n",
       "      <td>3</td>\n",
       "    </tr>\n",
       "    <tr>\n",
       "      <th>132</th>\n",
       "      <td>133</td>\n",
       "      <td>The Tail of a Whale</td>\n",
       "      <td>{'markus.sandell@capgemini.com', 'caroline.ottenhall@capgemini.com', 'olga.krali@capgemini.com', 'johan.wikstrom@capgemini.com'}</td>\n",
       "      <td>4</td>\n",
       "      <td>{'Sweden'}</td>\n",
       "      <td>3</td>\n",
       "    </tr>\n",
       "    <tr>\n",
       "      <th>357</th>\n",
       "      <td>358</td>\n",
       "      <td>Team kärnan</td>\n",
       "      <td>{'akbar.shaikh@capgemini.com', 'gopikrishna.jaganmohan@capgemini.com', 'bertan.yilmaz@capgemini.com', 'bipin.nair@capgemini.com'}</td>\n",
       "      <td>4</td>\n",
       "      <td>{'Sweden'}</td>\n",
       "      <td>8</td>\n",
       "    </tr>\n",
       "    <tr>\n",
       "      <th>402</th>\n",
       "      <td>403</td>\n",
       "      <td>Inbuiltminds</td>\n",
       "      <td>{'saravanan.se@capgemini.com', 'saran.pantangi@capgemini.com'}</td>\n",
       "      <td>2</td>\n",
       "      <td>{'Sweden'}</td>\n",
       "      <td>9</td>\n",
       "    </tr>\n",
       "    <tr>\n",
       "      <th>474</th>\n",
       "      <td>475</td>\n",
       "      <td>Global Data Cruncher</td>\n",
       "      <td>{'chandrashekhara.nathegowda@capgemini.com', 'nagaraju.alapati@capgemini.com', 'muralikrishna.nadakuditi@capgemini.com'}</td>\n",
       "      <td>3</td>\n",
       "      <td>{'Sweden', 'India'}</td>\n",
       "      <td>10</td>\n",
       "    </tr>\n",
       "    <tr>\n",
       "      <th>592</th>\n",
       "      <td>593</td>\n",
       "      <td>The Ocean Crawlers</td>\n",
       "      <td>{'karin.bjornwall@sogeti.se'}</td>\n",
       "      <td>1</td>\n",
       "      <td>{'Sweden'}</td>\n",
       "      <td>12</td>\n",
       "    </tr>\n",
       "  </tbody>\n",
       "</table>\n",
       "</div>"
      ],
      "text/plain": [
       "      Id             Team Name  \\\n",
       "6      7                Oxygen   \n",
       "125  126    Overwhaleming Data   \n",
       "131  132             WhaleTail   \n",
       "132  133   The Tail of a Whale   \n",
       "357  358           Team kärnan   \n",
       "402  403          Inbuiltminds   \n",
       "474  475  Global Data Cruncher   \n",
       "592  593    The Ocean Crawlers   \n",
       "\n",
       "                                                                                                                                                Members  \\\n",
       "6    {'sigfrid.lindhe@capgemini.com', 'anton.lindelof-holmqvist@capgemini.com', 'fredrik.bengtsson@capgemini.com', 'christopher.jonsson@capgemini.com'}   \n",
       "125                                                                                     {'jaya.abraham@capgemini.com', 'quang-vu.nguyen@capgemini.com'}   \n",
       "131                                                                                                                {'hamed.khodabakhshi@capgemini.com'}   \n",
       "132                    {'markus.sandell@capgemini.com', 'caroline.ottenhall@capgemini.com', 'olga.krali@capgemini.com', 'johan.wikstrom@capgemini.com'}   \n",
       "357                   {'akbar.shaikh@capgemini.com', 'gopikrishna.jaganmohan@capgemini.com', 'bertan.yilmaz@capgemini.com', 'bipin.nair@capgemini.com'}   \n",
       "402                                                                                      {'saravanan.se@capgemini.com', 'saran.pantangi@capgemini.com'}   \n",
       "474                            {'chandrashekhara.nathegowda@capgemini.com', 'nagaraju.alapati@capgemini.com', 'muralikrishna.nadakuditi@capgemini.com'}   \n",
       "592                                                                                                                       {'karin.bjornwall@sogeti.se'}   \n",
       "\n",
       "    Members Count            Countries Page  \n",
       "6               4           {'Sweden'}    1  \n",
       "125             2           {'Sweden'}    3  \n",
       "131             1           {'Sweden'}    3  \n",
       "132             4           {'Sweden'}    3  \n",
       "357             4           {'Sweden'}    8  \n",
       "402             2           {'Sweden'}    9  \n",
       "474             3  {'Sweden', 'India'}   10  \n",
       "592             1           {'Sweden'}   12  "
      ]
     },
     "execution_count": 25,
     "metadata": {},
     "output_type": "execute_result"
    }
   ],
   "source": [
    "df_teams[df_teams['Countries'].str.contains(\"Sweden\")]"
   ]
  },
  {
   "cell_type": "code",
   "execution_count": 26,
   "metadata": {},
   "outputs": [
    {
     "data": {
      "text/html": [
       "<div>\n",
       "<style scoped>\n",
       "    .dataframe tbody tr th:only-of-type {\n",
       "        vertical-align: middle;\n",
       "    }\n",
       "\n",
       "    .dataframe tbody tr th {\n",
       "        vertical-align: top;\n",
       "    }\n",
       "\n",
       "    .dataframe thead th {\n",
       "        text-align: right;\n",
       "    }\n",
       "</style>\n",
       "<table border=\"1\" class=\"dataframe\">\n",
       "  <thead>\n",
       "    <tr style=\"text-align: right;\">\n",
       "      <th></th>\n",
       "      <th>Id</th>\n",
       "      <th>Team Name</th>\n",
       "      <th>Members</th>\n",
       "      <th>Members Count</th>\n",
       "      <th>Countries</th>\n",
       "      <th>Page</th>\n",
       "    </tr>\n",
       "  </thead>\n",
       "  <tbody>\n",
       "    <tr>\n",
       "      <th>315</th>\n",
       "      <td>316</td>\n",
       "      <td>X</td>\n",
       "      <td>{'harsh.c.vardhan@capgemini.com', 'narayana-reddy.ankireddy@capgemini.com'}</td>\n",
       "      <td>2</td>\n",
       "      <td>{'India'}</td>\n",
       "      <td>7</td>\n",
       "    </tr>\n",
       "  </tbody>\n",
       "</table>\n",
       "</div>"
      ],
      "text/plain": [
       "      Id Team Name  \\\n",
       "315  316         X   \n",
       "\n",
       "                                                                         Members  \\\n",
       "315  {'harsh.c.vardhan@capgemini.com', 'narayana-reddy.ankireddy@capgemini.com'}   \n",
       "\n",
       "    Members Count  Countries Page  \n",
       "315             2  {'India'}    7  "
      ]
     },
     "execution_count": 26,
     "metadata": {},
     "output_type": "execute_result"
    }
   ],
   "source": [
    "df_teams[df_teams['Team Name']=='X']"
   ]
  },
  {
   "cell_type": "code",
   "execution_count": 27,
   "metadata": {},
   "outputs": [
    {
     "data": {
      "text/html": [
       "<div>\n",
       "<style scoped>\n",
       "    .dataframe tbody tr th:only-of-type {\n",
       "        vertical-align: middle;\n",
       "    }\n",
       "\n",
       "    .dataframe tbody tr th {\n",
       "        vertical-align: top;\n",
       "    }\n",
       "\n",
       "    .dataframe thead th {\n",
       "        text-align: right;\n",
       "    }\n",
       "</style>\n",
       "<table border=\"1\" class=\"dataframe\">\n",
       "  <thead>\n",
       "    <tr style=\"text-align: right;\">\n",
       "      <th></th>\n",
       "      <th>Id</th>\n",
       "      <th>Team Name</th>\n",
       "      <th>Members</th>\n",
       "      <th>Members Count</th>\n",
       "      <th>Countries</th>\n",
       "      <th>Page</th>\n",
       "    </tr>\n",
       "  </thead>\n",
       "  <tbody>\n",
       "    <tr>\n",
       "      <th>539</th>\n",
       "      <td>540</td>\n",
       "      <td>ZeusOnFire</td>\n",
       "      <td>{'ahmed.besbes@capgemini.com'}</td>\n",
       "      <td>1</td>\n",
       "      <td>{'France'}</td>\n",
       "      <td>11</td>\n",
       "    </tr>\n",
       "  </tbody>\n",
       "</table>\n",
       "</div>"
      ],
      "text/plain": [
       "      Id   Team Name                         Members Members Count  \\\n",
       "539  540  ZeusOnFire  {'ahmed.besbes@capgemini.com'}             1   \n",
       "\n",
       "      Countries Page  \n",
       "539  {'France'}   11  "
      ]
     },
     "execution_count": 27,
     "metadata": {},
     "output_type": "execute_result"
    }
   ],
   "source": [
    "df_teams[df_teams['Team Name']=='ZeusOnFire']"
   ]
  },
  {
   "cell_type": "code",
   "execution_count": 28,
   "metadata": {},
   "outputs": [
    {
     "data": {
      "text/html": [
       "<div>\n",
       "<style scoped>\n",
       "    .dataframe tbody tr th:only-of-type {\n",
       "        vertical-align: middle;\n",
       "    }\n",
       "\n",
       "    .dataframe tbody tr th {\n",
       "        vertical-align: top;\n",
       "    }\n",
       "\n",
       "    .dataframe thead th {\n",
       "        text-align: right;\n",
       "    }\n",
       "</style>\n",
       "<table border=\"1\" class=\"dataframe\">\n",
       "  <thead>\n",
       "    <tr style=\"text-align: right;\">\n",
       "      <th></th>\n",
       "      <th>Id</th>\n",
       "      <th>Team Name</th>\n",
       "      <th>Members</th>\n",
       "      <th>Members Count</th>\n",
       "      <th>Countries</th>\n",
       "      <th>Page</th>\n",
       "    </tr>\n",
       "  </thead>\n",
       "  <tbody>\n",
       "    <tr>\n",
       "      <th>510</th>\n",
       "      <td>511</td>\n",
       "      <td>Whale'Jazzy</td>\n",
       "      <td>{'clelia.colas@capgemini.com', 'julien.sauvan@capgemini.com', 'louis.hulot@capgemini.com'}</td>\n",
       "      <td>3</td>\n",
       "      <td>{'France'}</td>\n",
       "      <td>11</td>\n",
       "    </tr>\n",
       "  </tbody>\n",
       "</table>\n",
       "</div>"
      ],
      "text/plain": [
       "      Id    Team Name  \\\n",
       "510  511  Whale'Jazzy   \n",
       "\n",
       "                                                                                        Members  \\\n",
       "510  {'clelia.colas@capgemini.com', 'julien.sauvan@capgemini.com', 'louis.hulot@capgemini.com'}   \n",
       "\n",
       "    Members Count   Countries Page  \n",
       "510             3  {'France'}   11  "
      ]
     },
     "execution_count": 28,
     "metadata": {},
     "output_type": "execute_result"
    }
   ],
   "source": [
    "df_teams[df_teams['Team Name']==\"Whale'Jazzy\"]"
   ]
  },
  {
   "cell_type": "code",
   "execution_count": 29,
   "metadata": {},
   "outputs": [
    {
     "data": {
      "text/html": [
       "<div>\n",
       "<style scoped>\n",
       "    .dataframe tbody tr th:only-of-type {\n",
       "        vertical-align: middle;\n",
       "    }\n",
       "\n",
       "    .dataframe tbody tr th {\n",
       "        vertical-align: top;\n",
       "    }\n",
       "\n",
       "    .dataframe thead th {\n",
       "        text-align: right;\n",
       "    }\n",
       "</style>\n",
       "<table border=\"1\" class=\"dataframe\">\n",
       "  <thead>\n",
       "    <tr style=\"text-align: right;\">\n",
       "      <th></th>\n",
       "      <th>Id</th>\n",
       "      <th>Team Name</th>\n",
       "      <th>Members</th>\n",
       "      <th>Members Count</th>\n",
       "      <th>Countries</th>\n",
       "      <th>Page</th>\n",
       "    </tr>\n",
       "  </thead>\n",
       "  <tbody>\n",
       "    <tr>\n",
       "      <th>322</th>\n",
       "      <td>323</td>\n",
       "      <td>whaleIP&lt;-predict(🐍)</td>\n",
       "      <td>{'ronit.a.saha@capgemini.com', 'wenjie.cai@capgemini.com', 'philipp.a.schwarz@capgemini.com'}</td>\n",
       "      <td>3</td>\n",
       "      <td>{'Germany'}</td>\n",
       "      <td>7</td>\n",
       "    </tr>\n",
       "  </tbody>\n",
       "</table>\n",
       "</div>"
      ],
      "text/plain": [
       "      Id            Team Name  \\\n",
       "322  323  whaleIP<-predict(🐍)   \n",
       "\n",
       "                                                                                           Members  \\\n",
       "322  {'ronit.a.saha@capgemini.com', 'wenjie.cai@capgemini.com', 'philipp.a.schwarz@capgemini.com'}   \n",
       "\n",
       "    Members Count    Countries Page  \n",
       "322             3  {'Germany'}    7  "
      ]
     },
     "execution_count": 29,
     "metadata": {},
     "output_type": "execute_result"
    }
   ],
   "source": [
    "df_teams[df_teams['Team Name'].str.contains('whaleIP')]"
   ]
  },
  {
   "cell_type": "code",
   "execution_count": null,
   "metadata": {},
   "outputs": [],
   "source": []
  },
  {
   "cell_type": "code",
   "execution_count": null,
   "metadata": {},
   "outputs": [],
   "source": []
  }
 ],
 "metadata": {
  "kernelspec": {
   "display_name": "Python 3",
   "language": "python",
   "name": "python3"
  },
  "language_info": {
   "codemirror_mode": {
    "name": "ipython",
    "version": 3
   },
   "file_extension": ".py",
   "mimetype": "text/x-python",
   "name": "python",
   "nbconvert_exporter": "python",
   "pygments_lexer": "ipython3",
   "version": "3.7.6"
  },
  "toc": {
   "base_numbering": 1,
   "nav_menu": {},
   "number_sections": true,
   "sideBar": true,
   "skip_h1_title": false,
   "title_cell": "Table of Contents",
   "title_sidebar": "Contents",
   "toc_cell": false,
   "toc_position": {},
   "toc_section_display": true,
   "toc_window_display": false
  }
 },
 "nbformat": 4,
 "nbformat_minor": 2
}
