{
 "cells": [
  {
   "cell_type": "code",
   "execution_count": 1,
   "metadata": {},
   "outputs": [
    {
     "name": "stdout",
     "output_type": "stream",
     "text": [
      "IDMalmo/sagemaker_code_artifacts/FirstTraining-IDMalmo-2020-03-24-15-44-00-307/source/sourcedir.tar.gz\n",
      "IDMalmo/sagemaker_code_artifacts/FirstTraining-IDMalmo-2020-03-24-15-50-01-887/source/sourcedir.tar.gz\n",
      "IDMalmo/sagemaker_code_artifacts/FirstTraining-IDMalmo-2020-03-24-22-31-03-133/source/sourcedir.tar.gz\n",
      "IDMalmo/sagemaker_code_artifacts/FirstTraining-IDMalmo-2020-03-24-22-32-22-514/source/sourcedir.tar.gz\n",
      "IDMalmo/sagemaker_code_artifacts/FirstTraining-IDMalmo-2020-03-24-23-05-38-133/source/sourcedir.tar.gz\n",
      "IDMalmo/sagemaker_code_artifacts/FirstTraining-IDMalmo-2020-03-24-23-14-49-697/source/sourcedir.tar.gz\n",
      "IDMalmo/sagemaker_code_artifacts/FirstTraining-IDMalmo-2020-03-24-23-19-39-317/source/sourcedir.tar.gz\n",
      "IDMalmo/trained_model_latest/FirstTraining-IDMalmo-2020-03-24-15-44-00-307/debug-output/training_job_end.ts\n",
      "IDMalmo/trained_model_latest/FirstTraining-IDMalmo-2020-03-24-15-44-00-307/output/model.tar.gz\n",
      "IDMalmo/trained_model_latest/FirstTraining-IDMalmo-2020-03-24-15-50-01-887/debug-output/training_job_end.ts\n",
      "IDMalmo/trained_model_latest/FirstTraining-IDMalmo-2020-03-24-15-50-01-887/output/model.tar.gz\n",
      "IDMalmo/trained_model_latest/FirstTraining-IDMalmo-2020-03-24-22-31-03-133/output/model.tar.gz\n",
      "IDMalmo/trained_model_latest/FirstTraining-IDMalmo-2020-03-24-22-32-22-514/output/model.tar.gz\n",
      "IDMalmo/trained_model_latest/FirstTraining-IDMalmo-2020-03-24-23-05-38-133/debug-output/training_job_end.ts\n",
      "IDMalmo/trained_model_latest/FirstTraining-IDMalmo-2020-03-24-23-05-38-133/output/model.tar.gz\n",
      "IDMalmo/trained_model_latest/FirstTraining-IDMalmo-2020-03-24-23-14-49-697/debug-output/training_job_end.ts\n",
      "IDMalmo/trained_model_latest/FirstTraining-IDMalmo-2020-03-24-23-14-49-697/output/model.tar.gz\n",
      "IDMalmo/trained_model_latest/FirstTraining-IDMalmo-2020-03-24-23-19-39-317/debug-output/training_job_end.ts\n",
      "IDMalmo/trained_model_latest/FirstTraining-IDMalmo-2020-03-24-23-19-39-317/output/model.tar.gz\n",
      "IDMalmo/training_code_latest/__init__.py\n",
      "IDMalmo/training_code_latest/data/__init__.py\n",
      "IDMalmo/training_code_latest/data/embedding_generators.py\n",
      "IDMalmo/training_code_latest/data/image_generators.py\n",
      "IDMalmo/training_code_latest/data/make_dataset.py\n",
      "IDMalmo/training_code_latest/download_job_results.py\n",
      "IDMalmo/training_code_latest/get_job_details.py\n",
      "IDMalmo/training_code_latest/img_extract.tar.gz\n",
      "IDMalmo/training_code_latest/list_my_running_jobs.py\n",
      "IDMalmo/training_code_latest/local_training_siamese_mobilenet_from_images.py\n",
      "IDMalmo/training_code_latest/logging_test.py\n",
      "IDMalmo/training_code_latest/models/__init__.py\n",
      "IDMalmo/training_code_latest/models/siamese_twin_embeddings.py\n",
      "IDMalmo/training_code_latest/models/siamese_twin_images.py\n",
      "IDMalmo/training_code_latest/models/siamese_twin_predictions.py\n",
      "IDMalmo/training_code_latest/observe_job_status.py\n",
      "IDMalmo/training_code_latest/remote_training_siamese_mobilenet_from_images.py\n",
      "IDMalmo/training_code_latest/score.py\n",
      "IDMalmo/training_code_latest/src_data_process_dataset.py\n",
      "IDMalmo/training_code_latest/stop_job.py\n",
      "IDMalmo/training_code_latest/utils/__init__.py\n",
      "IDMalmo/training_code_latest/utils/remote_sagemaker.py\n",
      "IDMalmo/training_code_latest/vu_edge_extractiop.py\n"
     ]
    }
   ],
   "source": [
    "#https://stackoverflow.com/questions/30249069/listing-contents-of-a-bucket-with-boto3\n",
    "# list file within my folder\n",
    "import boto3\n",
    "\n",
    "\n",
    "s3 = boto3.client('s3')\n",
    "\n",
    "def get_s3_keys(bucket, prefix):\n",
    "\n",
    "    \"\"\"Get a list of keys in an S3 bucket.\"\"\"\n",
    "    resp = s3.list_objects_v2(Bucket=bucket, Prefix=prefix)\n",
    "    for obj in resp['Contents']:\n",
    "      files = obj['Key']\n",
    "      print(files)\n",
    "    return files\n",
    "\n",
    "filename = get_s3_keys('all-data-all-participants-eu-west-1', 'IDMalmo/')"
   ]
  },
  {
   "cell_type": "code",
   "execution_count": 9,
   "metadata": {},
   "outputs": [],
   "source": [
    "# Download the file from S3\n",
    "s3.download_file('all-data-all-participants-eu-west-1', 'IDMalmo/trained_model_latest/FirstTraining-IDMalmo-2020-03-24-22-32-22-514/output/model.tar.gz', 'd.tar.gz')"
   ]
  },
  {
   "cell_type": "code",
   "execution_count": 5,
   "metadata": {},
   "outputs": [],
   "source": [
    "# Download the file from S3\n",
    "s3.download_file('all-data-all-participants-eu-west-1', 'IDMalmo/trained_model_latest/FirstTraining-IDMalmo-2020-03-24-23-05-38-133/output/model.tar.gz', 'model.tar.gz')"
   ]
  },
  {
   "cell_type": "code",
   "execution_count": null,
   "metadata": {},
   "outputs": [],
   "source": []
  }
 ],
 "metadata": {
  "kernelspec": {
   "display_name": "Python 3",
   "language": "python",
   "name": "python3"
  },
  "language_info": {
   "codemirror_mode": {
    "name": "ipython",
    "version": 3
   },
   "file_extension": ".py",
   "mimetype": "text/x-python",
   "name": "python",
   "nbconvert_exporter": "python",
   "pygments_lexer": "ipython3",
   "version": "3.7.6"
  },
  "toc": {
   "base_numbering": 1,
   "nav_menu": {},
   "number_sections": true,
   "sideBar": true,
   "skip_h1_title": false,
   "title_cell": "Table of Contents",
   "title_sidebar": "Contents",
   "toc_cell": false,
   "toc_position": {},
   "toc_section_display": true,
   "toc_window_display": false
  }
 },
 "nbformat": 4,
 "nbformat_minor": 4
}
