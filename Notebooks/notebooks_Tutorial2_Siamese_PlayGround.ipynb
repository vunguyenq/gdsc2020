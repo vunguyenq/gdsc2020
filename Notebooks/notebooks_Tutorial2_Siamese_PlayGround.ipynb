{
 "cells": [
  {
   "cell_type": "markdown",
   "metadata": {},
   "source": [
    "# Tutorial 2: Building a first model\n",
    "\n",
    "In tutorial 1, we got a basic understanding of our problem. We learned that the images show over 1000 different whales. For the majority of them exists only a single image. \n",
    "We also considered the score function that determins the placings on the leaderboard. Recall that our task is:\n",
    "\n",
    "**For every image *i* in the *test_val* folder, predict the 20 images that are most similar to *i*.**\n",
    "\n",
    "In this tutorial, we will build two solutions to this problem. Let's get started!"
   ]
  },
  {
   "cell_type": "markdown",
   "metadata": {},
   "source": [
    "### Table of contents\n",
    "\n",
    "[1. Similarity between Images](#section1) <br>\n",
    "[2. A bit of history: The ImageNet Challenge](#section2) <br>\n",
    "&emsp; [2.1 What is a Deep Learning Model for image classification](#section2.1) <br>\n",
    "[3. On the shoulders of giants: Using pretrained model to convert images](#section3) <br>\n",
    "[4. How to measure similarity](#section4) <br>\n",
    "[5. Our baseline](#section5) <br>\n",
    "[6. Learn, don't define: A better similarity measure](#section6) <br>\n",
    "&emsp; [6.1 Examples for the AI: Creating image pairs ](#section6.1) <br>\n",
    "&emsp; [6.2 Feeding examples to the AI ](#section6.2) <br>\n",
    "&emsp; [6.3 Defining the model ](#section6.3) <br>\n",
    "&emsp; [6.4 Training the model ](#section6.4) <br>\n",
    "&emsp; [6.5 Creating predictions  ](#section6.5) <br>\n"
   ]
  },
  {
   "cell_type": "code",
   "execution_count": 1,
   "metadata": {},
   "outputs": [
    {
     "ename": "ModuleNotFoundError",
     "evalue": "No module named 'src.src_data_process_dataset'",
     "output_type": "error",
     "traceback": [
      "\u001b[1;31m---------------------------------------------------------------------------\u001b[0m",
      "\u001b[1;31mModuleNotFoundError\u001b[0m                       Traceback (most recent call last)",
      "\u001b[1;32m<ipython-input-1-e13a6cdd393e>\u001b[0m in \u001b[0;36m<module>\u001b[1;34m\u001b[0m\n\u001b[0;32m     10\u001b[0m \u001b[1;32mfrom\u001b[0m \u001b[0mitertools\u001b[0m \u001b[1;32mimport\u001b[0m \u001b[0mcombinations\u001b[0m\u001b[1;33m\u001b[0m\u001b[1;33m\u001b[0m\u001b[0m\n\u001b[0;32m     11\u001b[0m \u001b[1;31m#from src.data.process_dataset import DataGeneratorFromEmbeddings\u001b[0m\u001b[1;33m\u001b[0m\u001b[1;33m\u001b[0m\u001b[1;33m\u001b[0m\u001b[0m\n\u001b[1;32m---> 12\u001b[1;33m \u001b[1;32mfrom\u001b[0m \u001b[0msrc\u001b[0m\u001b[1;33m.\u001b[0m\u001b[0msrc_data_process_dataset\u001b[0m \u001b[1;32mimport\u001b[0m \u001b[0mDataGeneratorFromEmbeddings\u001b[0m\u001b[1;33m\u001b[0m\u001b[1;33m\u001b[0m\u001b[0m\n\u001b[0m\u001b[0;32m     13\u001b[0m \u001b[1;32mfrom\u001b[0m \u001b[0msklearn\u001b[0m\u001b[1;33m.\u001b[0m\u001b[0mmetrics\u001b[0m\u001b[1;33m.\u001b[0m\u001b[0mpairwise\u001b[0m \u001b[1;32mimport\u001b[0m \u001b[0mcosine_similarity\u001b[0m\u001b[1;33m\u001b[0m\u001b[1;33m\u001b[0m\u001b[0m\n\u001b[0;32m     14\u001b[0m \u001b[1;32mfrom\u001b[0m \u001b[0mtensorflow\u001b[0m\u001b[1;33m.\u001b[0m\u001b[0mkeras\u001b[0m \u001b[1;32mimport\u001b[0m \u001b[0mbackend\u001b[0m \u001b[1;32mas\u001b[0m \u001b[0mK\u001b[0m\u001b[1;33m\u001b[0m\u001b[1;33m\u001b[0m\u001b[0m\n",
      "\u001b[1;31mModuleNotFoundError\u001b[0m: No module named 'src.src_data_process_dataset'"
     ]
    }
   ],
   "source": [
    "# For readability, we list all libraries we use in this notebook at the beginning\n",
    "import sys\n",
    "sys.path.insert(0, '..')\n",
    "import numpy as np\n",
    "import pandas as pd\n",
    "import tensorflow as tf\n",
    "from pathlib import Path\n",
    "from matplotlib.pyplot import imshow\n",
    "from pathlib import Path\n",
    "from itertools import combinations\n",
    "#from src.data.process_dataset import DataGeneratorFromEmbeddings\n",
    "from src.src_data_process_dataset import DataGeneratorFromEmbeddings\n",
    "from sklearn.metrics.pairwise import cosine_similarity\n",
    "from tensorflow.keras import backend as K\n",
    "from tensorflow.keras.applications import MobileNet\n",
    "from tensorflow.keras.applications.mobilenet import preprocess_input\n",
    "from tensorflow.keras.preprocessing.image import load_img, img_to_array\n",
    "from tensorflow.keras.models import Model\n",
    "from tensorflow.keras.layers import Input, Lambda, Dense\n",
    "from tensorflow.keras.initializers import RandomNormal\n",
    "import matplotlib.pyplot as plt"
   ]
  },
  {
   "cell_type": "markdown",
   "metadata": {},
   "source": [
    "<a id='section1'></a>\n",
    "# Similarity between images\n",
    "\n",
    "What makes two images similar? The colors? The shapes that appear? If you were to write an algorithm for it, how would you even start?\n",
    "\n",
    "Let's start by considering how a machine sees a picture. For a computer, an image is essentially a 3-d matrix. Take for example one of our whale fluke images:"
   ]
  },
  {
   "cell_type": "markdown",
   "metadata": {},
   "source": [
    "<a id='section3'></a>\n",
    "## On the shoulders of giants: Using pretrained model to convert images\n",
    "\n",
    "As described in the previous section, pre-trained deep learning models allow us to convert an image to a vector of size 1024 that contains the relevant information in the image. In this section, you'll learn how to do this.\n",
    "\n",
    "We'll use a model called [MobileNet](https://arxiv.org/pdf/1704.04861.pdf) that was trained on the ImageNet dataset for a first test. MobileNet is a second generation model that trades accuracy for speed. I.e. the vector representation will not be the best, but it will run on our laptops.\n",
    "In the next tutorial we will show you how to use AWS to take advantage of [more advanced models](https://keras.io/applications/) and even train your own models."
   ]
  },
  {
   "cell_type": "code",
   "execution_count": null,
   "metadata": {},
   "outputs": [],
   "source": [
    "IMG_HEIGHT = 224\n",
    "IMG_WIDTH = 224\n",
    "\n",
    "TRAIN_PATH = '../experiments/12. contour_edge_Li_tilt_noscaling_hsv-filter/train/'\n",
    "TEST_PATH = '../experiments/12. contour_edge_Li_tilt_noscaling_hsv-filter/test-val/'\n",
    "OUT_FILE = '../experiments/12. contour_edge_Li_tilt_noscaling_hsv-filter/' + 'siamese_li_edge_tilt_hsv_noscale_hsv-filter.csv'\n",
    "\n",
    "#TRAIN_PATH = '../data/train/'\n",
    "#TEST_PATH = '../data/test_val/'\n",
    "#OUT_FILE = './siamese_distance_only_preds_no-1.csv'\n",
    "\n",
    "model = MobileNet(weights='imagenet', include_top=False, pooling='avg', input_shape=(IMG_HEIGHT, IMG_WIDTH, 3))"
   ]
  },
  {
   "cell_type": "markdown",
   "metadata": {},
   "source": [
    "The options *include_top=False* and *pooling='avg'* are necessary to extract the *logits* layer. \n",
    "The *input_shape* defines the size of the images. The default for ImageNet models is 224x224 pixels with 3 channels for colors.\n",
    "We can check out the architecture of the model with the *summary* function."
   ]
  },
  {
   "cell_type": "markdown",
   "metadata": {},
   "source": [
    "<a id='section5'></a>\n",
    "## Our baseline model"
   ]
  },
  {
   "cell_type": "markdown",
   "metadata": {},
   "source": [
    "Now that we are aware of the concept, we are one step closer to our first submission. We will \n",
    "\n",
    "- use Mobilenet to compute the embeddings for all of the train and test pictures \n",
    "- calculate the cosine similarity between each of the embeddings of the test pictures and the embeddings of the train pictures\n",
    "- create a submission that predicts the 20 matches with the highest similarity score\n",
    "\n",
    "We start with loading all pictures with [Tensorflow Dataset](https://www.tensorflow.org/api_docs/python/tf/data/Dataset).As first step we are going to list all file paths and names."
   ]
  },
  {
   "cell_type": "code",
   "execution_count": 3,
   "metadata": {},
   "outputs": [],
   "source": [
    "train_data_path = Path(TRAIN_PATH)\n",
    "train_files_paths = list(train_data_path.glob('*/*.jpg'))  # All file paths\n",
    "\n",
    "###### MY IMPLEMENTATION: Remove class -1\n",
    "train_files_paths_filtered = []\n",
    "for file_path in train_files_paths:\n",
    "    if not('\\\\-1\\\\' in str(file_path)):\n",
    "        train_files_paths_filtered.append(file_path)\n",
    "train_files_paths = train_files_paths_filtered\n",
    "###### Back to Tutorial 2 #########\n",
    "\n",
    "train_files_names = [p.name for p in train_files_paths]  # Only the file names without the full path\n",
    "train_files_classes = [p.parent.name for p in train_files_paths]  # The parent directory, i.e. the whale ID, for each image\n",
    "\n",
    "test_data_path = Path(TEST_PATH)\n",
    "test_files_paths = list(test_data_path.glob('*.jpg'))\n",
    "test_files_names = [p.name for p in test_files_paths]"
   ]
  },
  {
   "cell_type": "code",
   "execution_count": 4,
   "metadata": {},
   "outputs": [
    {
     "data": {
      "text/plain": [
       "3956"
      ]
     },
     "execution_count": 4,
     "metadata": {},
     "output_type": "execute_result"
    }
   ],
   "source": [
    "len(train_files_paths)"
   ]
  },
  {
   "cell_type": "markdown",
   "metadata": {},
   "source": [
    "To load a single picture we have to read the file, convert it into a [tensor](https://www.tensorflow.org/api_docs/python/tf/Tensor) object, adjust the size and standardize it to the MobileNet input format."
   ]
  },
  {
   "cell_type": "code",
   "execution_count": 5,
   "metadata": {
    "scrolled": true
   },
   "outputs": [],
   "source": [
    "BATCH_SIZE = 32\n",
    "\n",
    "def load_image(img_path):\n",
    "    img = tf.io.read_file(img_path)\n",
    "    img = tf.image.decode_jpeg(img, channels=3)\n",
    "    img = tf.image.resize(img, [IMG_HEIGHT, IMG_WIDTH])  # Resize image to 224x224 pixels\n",
    "    img = preprocess_input(img)  # Do additional preprocessing that is required for MobileNet\n",
    "    return img"
   ]
  },
  {
   "cell_type": "markdown",
   "metadata": {},
   "source": [
    "Now that we have defined the prerequisites to load a single picture, we can apply it to all of our pictures. We create a dataset from our input data paths and apply the defined function to each entry in the dataset.\n",
    "\n",
    "The batch size specifies the number of examples we use in one iteration of calcuation. For now you can ignore it. It will become more relevant later."
   ]
  },
  {
   "cell_type": "code",
   "execution_count": 6,
   "metadata": {
    "scrolled": true
   },
   "outputs": [],
   "source": [
    "train_files = tf.data.Dataset.from_tensor_slices(list(map(str, train_files_paths)))  # Convert paths to strings\n",
    "train_ds = train_files.map(load_image)  # Apply the load_image function to every image\n",
    "train_ds = train_ds.batch(BATCH_SIZE)  # Set the batch size\n",
    "\n",
    "test_files = tf.data.Dataset.from_tensor_slices(list(map(str, test_files_paths)))\n",
    "test_ds = test_files.map(load_image)\n",
    "test_ds = test_ds.batch(BATCH_SIZE)"
   ]
  },
  {
   "cell_type": "markdown",
   "metadata": {},
   "source": [
    "To calculate the embeddings we use the Mobilenet. This will take a while, so time to grab a coffe while this is running :) "
   ]
  },
  {
   "cell_type": "code",
   "execution_count": 7,
   "metadata": {},
   "outputs": [
    {
     "name": "stdout",
     "output_type": "stream",
     "text": [
      "Wall time: 5min 24s\n"
     ]
    }
   ],
   "source": [
    "%%time\n",
    "embed_train = model.predict(train_ds)\n",
    "embed_test = model.predict(test_ds)"
   ]
  },
  {
   "cell_type": "code",
   "execution_count": 8,
   "metadata": {},
   "outputs": [
    {
     "name": "stdout",
     "output_type": "stream",
     "text": [
      "Shape of training embeddings (3956, 1024)\n",
      "Shape of test embeddings (808, 1024)\n"
     ]
    }
   ],
   "source": [
    "print(f'Shape of training embeddings {embed_train.shape}')\n",
    "print(f'Shape of test embeddings {embed_test.shape}')"
   ]
  },
  {
   "cell_type": "markdown",
   "metadata": {},
   "source": [
    "For every picture we have now the representation as a vector with a size of 1024. We can calculate the cosine similarity between all of them."
   ]
  },
  {
   "cell_type": "code",
   "execution_count": 9,
   "metadata": {},
   "outputs": [
    {
     "name": "stdout",
     "output_type": "stream",
     "text": [
      "Shape of all embeddings (4764, 1024)\n"
     ]
    }
   ],
   "source": [
    "all_names = np.concatenate((train_files_names, test_files_names))  # Combine the train and test data\n",
    "all_paths = np.concatenate((train_files_paths, test_files_paths))\n",
    "embed_all = np.concatenate((embed_train, embed_test))\n",
    "print(f'Shape of all embeddings {embed_all.shape}')"
   ]
  },
  {
   "cell_type": "code",
   "execution_count": 10,
   "metadata": {},
   "outputs": [
    {
     "name": "stdout",
     "output_type": "stream",
     "text": [
      "Shape of the similarity matrix (808, 4764)\n"
     ]
    }
   ],
   "source": [
    "similarity_matrix = cosine_similarity(embed_test, embed_all)\n",
    "print(f'Shape of the similarity matrix {similarity_matrix.shape}')"
   ]
  },
  {
   "cell_type": "markdown",
   "metadata": {},
   "source": [
    "For each of the 808 pictures in the test dataset we have the similarity to each of the 5340 other picutres. Let us take a look at one example."
   ]
  },
  {
   "cell_type": "code",
   "execution_count": 11,
   "metadata": {},
   "outputs": [
    {
     "name": "stdout",
     "output_type": "stream",
     "text": [
      "The cosine similarity of picture 666 and 2656 is 0.7585594654083252\n"
     ]
    }
   ],
   "source": [
    "index_1 = 666\n",
    "index_2 = 2656\n",
    "print(f'The cosine similarity of picture {index_1} and {index_2} is {similarity_matrix[index_1, index_2]}')"
   ]
  },
  {
   "cell_type": "markdown",
   "metadata": {},
   "source": [
    "And also at the two respective pictures"
   ]
  },
  {
   "cell_type": "code",
   "execution_count": 12,
   "metadata": {},
   "outputs": [],
   "source": [
    "def show_images(img_paths):\n",
    "    plt.figure(figsize=(30, 30))\n",
    "    image_count = len(img_paths)\n",
    "    for path, n in zip(img_paths, range(image_count)):\n",
    "        ax = plt.subplot(image_count, 4, n + 1)\n",
    "        img = load_img(path)\n",
    "        plt.imshow(img)\n",
    "        plt.title(f'{path.name}, class: {path.parent.name}')"
   ]
  },
  {
   "cell_type": "code",
   "execution_count": 13,
   "metadata": {},
   "outputs": [
    {
     "data": {
      "image/png": "[encoded data removed]",
      "text/plain": [
       "<Figure size 2160x2160 with 2 Axes>"
      ]
     },
     "metadata": {
      "needs_background": "light"
     },
     "output_type": "display_data"
    }
   ],
   "source": [
    "show_images([all_paths[index_1], all_paths[index_2]])"
   ]
  },
  {
   "cell_type": "markdown",
   "metadata": {},
   "source": [
    "To create a submission, we sort the similarities in descending order and write the twenty most similar pictures in to a file. We use the [np.argsort](https://docs.scipy.org/doc/numpy/reference/generated/numpy.argsort.html) function, which will return the indices to sort our matrix column-wise in ascending order. Since we want to have the direction descending, we will put a **-** before the similarity matrix."
   ]
  },
  {
   "cell_type": "code",
   "execution_count": 14,
   "metadata": {},
   "outputs": [],
   "source": [
    "indices = np.argsort(-similarity_matrix, axis=1)"
   ]
  },
  {
   "cell_type": "markdown",
   "metadata": {},
   "source": [
    "Recall that the format for a submissions is\n",
    "\n",
    "*test_pic, predicted_pic_1, predicted_pic_2, ...., predicted_pic_20*\n",
    "\n",
    "The cosine similarity between a picture and itself is always 1.0. Hence the most similar image is always the image itself and we can create a submission as follows:"
   ]
  },
  {
   "cell_type": "code",
   "execution_count": 15,
   "metadata": {},
   "outputs": [],
   "source": [
    "#with open('cosine_preds.csv', 'w') as f:\n",
    "#    for i in range(len(test_files_names)):\n",
    "#        indices_of_top_predictions = indices[i,:21]  # Get the indices of the 21 most similar images\n",
    "#        names_of_top_predictions = all_names[indices_of_top_predictions]  # Get the file names of the 21 most similar images\n",
    "#        preds = ','.join(names_of_top_predictions)  # Put a , between the image names\n",
    "#        f.write(preds + '\\n')  # Write it in a new line"
   ]
  },
  {
   "cell_type": "markdown",
   "metadata": {},
   "source": [
    "When we upload the submission we get a score of *83.00*. "
   ]
  },
  {
   "cell_type": "markdown",
   "metadata": {},
   "source": [
    "<font color='blue'>\n",
    "\n",
    "**Best practice:** \n",
    "- Deep Learning models are state-of-the-art for almost every image-type problem\n",
    "- You can use pretrained models to compress the data in an image\n",
    "- The cosine is an good baseline for similarity between vectors\n",
    "- When tackling an AI problem, always start with a simple model. This is called the baseline model"
   ]
  },
  {
   "cell_type": "markdown",
   "metadata": {},
   "source": [
    "<a id='section6'></a>\n",
    "# Learn, don't define: A better similarity measure\n",
    "\n",
    "The baseline model took existing concepts and applied them to our problem. In other words, we took a standard software-engineering approach. The drawback of this approach is that that we have to manually define every single step. \n",
    "\n",
    "Now let us solve the problem with artificial intelligence, or rather machine learning. Here's the battle plan:\n",
    "\n",
    "- Goal: Our model should learn whether or not two images show the same whale.\n",
    "- Data: Create a dataset of images pairs and a label that denotes if the two images show the same whale.\n",
    "- Architecture: A [Siamese Twin Network](https://towardsdatascience.com/one-shot-learning-with-siamese-networks-using-keras-17f34e75bb3d) fits perfectly to our use case\n",
    "\n",
    "![siamese](https://miro.medium.com/max/1531/1*dFY5gx-Vze3micJ0AMVp0A.jpeg)\n",
    "\n",
    "As the image illustrates, a Siamese Twin Network \n",
    "\n",
    "- takes two images as input\n",
    "- embeds them via a convolutional neural network\n",
    "- computes the absolute difference between the two embeddings\n",
    "- predicts whether or not the images are equal based on the difference.\n",
    "\n",
    "Note that our baseline model is very similar to the siamese twin approach. We computed embeddings with MobileNet and instead of learning the similarity from the absolute difference of the embeddings we used the cosine similarity.\n",
    "\n",
    "*For our next model, we'll keep the MobileNet embeddings and replace the cosine similarity with a learned distance function.*"
   ]
  },
  {
   "cell_type": "markdown",
   "metadata": {},
   "source": [
    "<font color='blue'>\n",
    "    \n",
    "**Best practice:** \n",
    "    \n",
    "- Create an architecture image to illustrate and discuss deep learning models\n",
    "- Learn the different types of layers and when to use them"
   ]
  },
  {
   "cell_type": "markdown",
   "metadata": {},
   "source": [
    "<a id='section6.1'></a>\n",
    "## Examples for the AI: Creating image pairs \n",
    "\n",
    "For the input we need to create pairs of images with a label that is *1* if the images show the same whale and *0* if the images show a different whale. First we create pairs of images with the [combinations](https://stackoverflow.com/questions/942543/operation-on-every-pair-of-element-in-a-list) function.\n",
    "\n",
    "**Exercise:** Read up on how exactly the *combinations* works. Is this the best way to create image pairs? "
   ]
  },
  {
   "cell_type": "code",
   "execution_count": 15,
   "metadata": {},
   "outputs": [],
   "source": [
    "train_pairs = list(combinations(zip(train_files_names, train_files_classes), 2))"
   ]
  },
  {
   "cell_type": "markdown",
   "metadata": {},
   "source": [
    "*train_pairs* consists of tuples where the first entry is the name of the file and the second the corresponding class. E.g."
   ]
  },
  {
   "cell_type": "code",
   "execution_count": 16,
   "metadata": {},
   "outputs": [
    {
     "data": {
      "text/plain": [
       "(('PM-WWA-20160724-126.jpg', '0161'), ('PM-WWA-20150426-061.jpg', '0836'))"
      ]
     },
     "execution_count": 16,
     "metadata": {},
     "output_type": "execute_result"
    }
   ],
   "source": [
    "train_pairs[0]"
   ]
  },
  {
   "cell_type": "markdown",
   "metadata": {},
   "source": [
    "Now we can add the information about the similarity. Two images are similar [iff](https://en.wikipedia.org/wiki/If_and_only_if) they have the same class."
   ]
  },
  {
   "cell_type": "code",
   "execution_count": 17,
   "metadata": {},
   "outputs": [],
   "source": [
    "def is_similar(pair):\n",
    "    image_one_class = pair[0][1]\n",
    "    image_two_class = pair[1][1]\n",
    "    if image_one_class == image_two_class:\n",
    "        return 1\n",
    "    else:\n",
    "        return 0"
   ]
  },
  {
   "cell_type": "code",
   "execution_count": 18,
   "metadata": {},
   "outputs": [],
   "source": [
    "train_labels = {pair: is_similar(pair) for pair in train_pairs}"
   ]
  },
  {
   "cell_type": "markdown",
   "metadata": {},
   "source": [
    "In the example pair from above, both images have the class *-1*. Hence the corresponding label is *1*."
   ]
  },
  {
   "cell_type": "code",
   "execution_count": 19,
   "metadata": {},
   "outputs": [
    {
     "name": "stdout",
     "output_type": "stream",
     "text": [
      "7822990 pairs. 7044 matched pairs (0.09%); 7815946 unmatched pairs (99.91%)\n"
     ]
    }
   ],
   "source": [
    "# How many pairs are there?\n",
    "total_pairs = len(train_pairs)\n",
    "matched_pairs = sum(x == 1 for x in train_labels.values())\n",
    "unmatched_pairs = sum(x == 0 for x in train_labels.values())\n",
    "print(\"{} pairs. {} matched pairs ({}%); {} unmatched pairs ({}%)\".format(total_pairs,matched_pairs,round(matched_pairs/total_pairs,4)*100,unmatched_pairs,round(unmatched_pairs/total_pairs,4)*100))"
   ]
  },
  {
   "cell_type": "code",
   "execution_count": 20,
   "metadata": {},
   "outputs": [
    {
     "data": {
      "text/plain": [
       "7044"
      ]
     },
     "execution_count": 20,
     "metadata": {},
     "output_type": "execute_result"
    }
   ],
   "source": [
    "sum(x == 1 for x in train_labels.values())"
   ]
  },
  {
   "cell_type": "code",
   "execution_count": 21,
   "metadata": {},
   "outputs": [
    {
     "data": {
      "text/plain": [
       "3956"
      ]
     },
     "execution_count": 21,
     "metadata": {},
     "output_type": "execute_result"
    }
   ],
   "source": [
    "len(train_files_names)"
   ]
  },
  {
   "cell_type": "markdown",
   "metadata": {},
   "source": [
    "<a id='section6.2'></a>\n",
    "## Feeding examples to the AI\n",
    "Now we have all the information we need and we can start loading the pictures. Since the size of our data might not fit into RAM all at once, we are using the [DataGenerator](https://stanford.edu/~shervine/blog/keras-how-to-generate-data-on-the-fly) class that Keras offers. The DataGenerator class continuously loads our data during the training process.\n",
    "In order to do modelling, we have to define on which data our model can train on. "
   ]
  },
  {
   "cell_type": "code",
   "execution_count": 22,
   "metadata": {},
   "outputs": [],
   "source": [
    "train_embeddings = {img: embedding for img, embedding in zip(train_files_names, embed_train)}"
   ]
  },
  {
   "cell_type": "markdown",
   "metadata": {},
   "source": [
    "To speed up the computations, we create a dictionary, i.e. a lookup table, that given the name of a image file returns the precomputed embedding. Together with the pairs and labels we created in the previous section, we can create our own *DataGenerator*.\n",
    "The details will be covered in the next tutorial. If you can't wait, the source code lies in *src.data.process_dataset.py*."
   ]
  },
  {
   "cell_type": "code",
   "execution_count": 23,
   "metadata": {},
   "outputs": [],
   "source": [
    "train_generator = DataGeneratorFromEmbeddings(train_pairs, train_embeddings, train_labels)"
   ]
  },
  {
   "cell_type": "markdown",
   "metadata": {},
   "source": [
    "A *DataGenerator* creates tupels of inputs (i.e. embeddings) and expected outputs (i.e. labels) that we can use to train our model. Let us take a look on one example. Per default, one sample consists of 32 embeddings and labels."
   ]
  },
  {
   "cell_type": "code",
   "execution_count": 24,
   "metadata": {},
   "outputs": [
    {
     "name": "stdout",
     "output_type": "stream",
     "text": [
      "The loaded pictures are in shape (32, 1024)\n",
      "The loaded labels are in shape (32,)\n"
     ]
    }
   ],
   "source": [
    "embeddings, labels = train_generator.get_sample(0)\n",
    "print(f'The loaded pictures are in shape {embeddings[0].shape}')\n",
    "print(f'The loaded labels are in shape {labels.shape}')"
   ]
  },
  {
   "cell_type": "markdown",
   "metadata": {},
   "source": [
    "<font color='blue'>\n",
    "    \n",
    "**Best practice:** \n",
    "    \n",
    "- Use a DataGenerator to feed data into your model. \n",
    "- Deep Learning uses a lot of resources. Precomputing and caching data can save a lot of time.\n",
    "- Split the data into a [train and validation subset](https://en.wikipedia.org/wiki/Training,_validation,_and_test_sets) to evaluate the performance of your model during the training."
   ]
  },
  {
   "cell_type": "markdown",
   "metadata": {},
   "source": [
    "**Exercise:** Split the data into train and test set."
   ]
  },
  {
   "cell_type": "markdown",
   "metadata": {},
   "source": [
    "<a id='section6.3'></a>\n",
    "## Defining the model\n",
    "The next step in our process is the turn the image into an actual model. The following code defines a model that implements the siamese twin network shown above and compiles it.\n",
    "\n",
    "*Note: Usually, you do not need to compile Python code. Tensorflow models are an exception since they are focussed on performance.*"
   ]
  },
  {
   "cell_type": "code",
   "execution_count": 25,
   "metadata": {},
   "outputs": [],
   "source": [
    "EMBED_LENGTH = 1024\n",
    "\n",
    "def model_mobilenet_fn(learning_rate):    \n",
    "    \"\"\"\n",
    "    Model architecture based on the one provided in: http://www.cs.utoronto.ca/~gkoch/files/msc-thesis.pdf\n",
    "    \"\"\"\n",
    "    input_shape = [EMBED_LENGTH]\n",
    "    embeddings_1 = Input(input_shape)\n",
    "    embeddings_2 = Input(input_shape)\n",
    "\n",
    "    # Add a customized layer to compute the absolute difference between the encodings \n",
    "    L1_layer = Lambda(lambda tensors: K.abs(tensors[0] - tensors[1]))\n",
    "    absolute_difference = L1_layer([embeddings_1, embeddings_2])\n",
    "    \n",
    "    # Add a dense layer with a sigmoid unit to generate the similarity score\n",
    "    similarity_score = Dense(1, activation='sigmoid', \n",
    "                       bias_initializer=RandomNormal(mean=0.5, stddev=0.01, seed=None))(absolute_difference)\n",
    "    \n",
    "    siamese_net = Model(inputs=[embeddings_1,embeddings_2], outputs=similarity_score)\n",
    "    optimizer = tf.keras.optimizers.Adam(learning_rate)\n",
    "    siamese_net.compile(loss=\"binary_crossentropy\", optimizer=optimizer, metrics=['accuracy'])\n",
    "    return siamese_net"
   ]
  },
  {
   "cell_type": "markdown",
   "metadata": {},
   "source": [
    "To create an actual instance of the model, we only need to specify the [learning rate](https://towardsdatascience.com/understanding-learning-rates-and-how-it-improves-performance-in-deep-learning-d0d4059c1c10). The *summary* function gives an overview of our creation."
   ]
  },
  {
   "cell_type": "code",
   "execution_count": 26,
   "metadata": {},
   "outputs": [
    {
     "name": "stdout",
     "output_type": "stream",
     "text": [
      "Model: \"model\"\n",
      "__________________________________________________________________________________________________\n",
      "Layer (type)                    Output Shape         Param #     Connected to                     \n",
      "==================================================================================================\n",
      "input_2 (InputLayer)            [(None, 1024)]       0                                            \n",
      "__________________________________________________________________________________________________\n",
      "input_3 (InputLayer)            [(None, 1024)]       0                                            \n",
      "__________________________________________________________________________________________________\n",
      "lambda (Lambda)                 (None, 1024)         0           input_2[0][0]                    \n",
      "                                                                 input_3[0][0]                    \n",
      "__________________________________________________________________________________________________\n",
      "dense (Dense)                   (None, 1)            1025        lambda[0][0]                     \n",
      "==================================================================================================\n",
      "Total params: 1,025\n",
      "Trainable params: 1,025\n",
      "Non-trainable params: 0\n",
      "__________________________________________________________________________________________________\n"
     ]
    }
   ],
   "source": [
    "learning_rate = 0.0001\n",
    "#learning_rate = 0.00001\n",
    "model = model_mobilenet_fn(learning_rate)\n",
    "model.summary()"
   ]
  },
  {
   "cell_type": "markdown",
   "metadata": {},
   "source": [
    "Et voila, we just created our first deep learning model with a measly 1025 different parameters that need to be learned."
   ]
  },
  {
   "cell_type": "markdown",
   "metadata": {},
   "source": [
    "<a id='section6.4'></a>\n",
    "## Training the model\n",
    "To make the model learn, we pass image, label pairs to the model. We just have to define the number of times the model is trained with our pairs. This is done with the following parameters\n",
    "\n",
    "* *batch size* is the number of examples used in one training iteration. A higher number leads to more robust results. \n",
    "* *epochs* is the number of iterations\n",
    "* *steps_per_epoch* is the number of batches the model considers per epoch\n",
    "\n",
    "Recall that, we are giving the images as the input to our model and compare the output with the expected output (our label). To measure how good the model is in the current training period, we are using the [binary cross-entropy](https://towardsdatascience.com/understanding-binary-cross-entropy-log-loss-a-visual-explanation-a3ac6025181a) loss. "
   ]
  },
  {
   "cell_type": "code",
   "execution_count": 27,
   "metadata": {},
   "outputs": [
    {
     "name": "stdout",
     "output_type": "stream",
     "text": [
      "Epoch 1/10\n",
      "100/100 [==============================] - 1s 12ms/step - loss: 0.2826 - accuracy: 0.9444\n",
      "Epoch 2/10\n",
      "100/100 [==============================] - 1s 9ms/step - loss: 0.0767 - accuracy: 0.9981\n",
      "Epoch 3/10\n",
      "100/100 [==============================] - 1s 10ms/step - loss: 0.0396 - accuracy: 0.9991\n",
      "Epoch 4/10\n",
      "100/100 [==============================] - 1s 14ms/step - loss: 0.0288 - accuracy: 0.9984\n",
      "Epoch 5/10\n",
      "100/100 [==============================] - 1s 12ms/step - loss: 0.0167 - accuracy: 1.0000\n",
      "Epoch 6/10\n",
      "100/100 [==============================] - 1s 11ms/step - loss: 0.0137 - accuracy: 0.9997\n",
      "Epoch 7/10\n",
      "100/100 [==============================] - 1s 13ms/step - loss: 0.0107 - accuracy: 0.9997\n",
      "Epoch 8/10\n",
      "100/100 [==============================] - 1s 13ms/step - loss: 0.0149 - accuracy: 0.9984\n",
      "Epoch 9/10\n",
      "100/100 [==============================] - 1s 10ms/step - loss: 0.0147 - accuracy: 0.9978\n",
      "Epoch 10/10\n",
      "100/100 [==============================] - 1s 10ms/step - loss: 0.0092 - accuracy: 0.9994\n"
     ]
    },
    {
     "data": {
      "text/plain": [
       "<tensorflow.python.keras.callbacks.History at 0x1923f20b288>"
      ]
     },
     "execution_count": 27,
     "metadata": {},
     "output_type": "execute_result"
    }
   ],
   "source": [
    "model.fit_generator(train_generator, steps_per_epoch=100, epochs=10)"
   ]
  },
  {
   "cell_type": "markdown",
   "metadata": {},
   "source": [
    "Figuring out the right now for *epochs*, *steps_per_epoch* and *batch_size* and *learning_rate* is a science in itself.\n",
    "In general, when there are only minor changes in loss and acc, either stop the training or decrease the learning rate."
   ]
  },
  {
   "cell_type": "markdown",
   "metadata": {},
   "source": [
    "<font color='blue'>\n",
    "    \n",
    "**Best practice:** \n",
    "    \n",
    "- When there are only minor changes in loss and acc, either stop the training or decrease the learning rate.\n",
    "- When you set up a separate validation, stop training once the loss and acc is worse on validation than on the training data set. In this case you started to [overfit](https://en.wikipedia.org/wiki/Overfitting)\n",
    "- Keep track of all the results you get!"
   ]
  },
  {
   "cell_type": "markdown",
   "metadata": {},
   "source": [
    "<a id='section6.5'></a>\n",
    "## Creating predictions \n",
    "Our model is trained and we can now use it to make predictions to the *test_val* dataset. "
   ]
  },
  {
   "cell_type": "code",
   "execution_count": 28,
   "metadata": {},
   "outputs": [],
   "source": [
    "all_embeddings = {img: embedding for img, embedding in zip(all_names, embed_all)}\n",
    "all_file_count = len(all_embeddings)"
   ]
  },
  {
   "cell_type": "markdown",
   "metadata": {},
   "source": [
    "The compute the predictions for a single image, we need to pair it with every other image"
   ]
  },
  {
   "cell_type": "code",
   "execution_count": 29,
   "metadata": {},
   "outputs": [],
   "source": [
    "test_file_name = test_files_names[0]\n",
    "mask = all_names != test_file_name  \n",
    "all_other_images = all_names[mask]  # Filter out the test_file_name with the mask\n",
    "assert len(all_other_images) == (all_file_count - 1)  # Use asserts to quickly check assumptions  \n",
    "test_file_pairs = [(test_file_name, other_image) for other_image in all_other_images]  "
   ]
  },
  {
   "cell_type": "markdown",
   "metadata": {},
   "source": [
    "And then create a new DataGenerator to create the actual predictions. \n",
    "\n",
    "**Important**: To ensure, that we are predicting for each pair only one similarity, the batch size has to be a multiple of the number of pairs."
   ]
  },
  {
   "cell_type": "code",
   "execution_count": 30,
   "metadata": {},
   "outputs": [
    {
     "name": "stdout",
     "output_type": "stream",
     "text": [
      "Wall time: 558 ms\n"
     ]
    }
   ],
   "source": [
    "%%time\n",
    "prediction_generator = DataGeneratorFromEmbeddings(test_file_pairs, all_embeddings, labels=None, batch_size=19, shuffle=False)\n",
    "predictions = model.predict_generator(prediction_generator)"
   ]
  },
  {
   "cell_type": "markdown",
   "metadata": {},
   "source": [
    "As before, we use *argsort* to sort the results and extract the top 20 predictions"
   ]
  },
  {
   "cell_type": "code",
   "execution_count": 31,
   "metadata": {},
   "outputs": [],
   "source": [
    "indices = np.argsort(-predictions, axis=0)\n",
    "names_of_top_predictions = all_other_images[indices[:20]]"
   ]
  },
  {
   "cell_type": "markdown",
   "metadata": {},
   "source": [
    "With the individual steps working, we can now compute the predictions for every test image"
   ]
  },
  {
   "cell_type": "code",
   "execution_count": 32,
   "metadata": {},
   "outputs": [
    {
     "name": "stdout",
     "output_type": "stream",
     "text": [
      "processed 10/808 images (1.24%)\n",
      "processed 20/808 images (2.48%)\n",
      "processed 30/808 images (3.71%)\n",
      "processed 40/808 images (4.95%)\n",
      "processed 50/808 images (6.19%)\n",
      "processed 60/808 images (7.43%)\n",
      "processed 70/808 images (8.66%)\n",
      "processed 80/808 images (9.9%)\n",
      "processed 90/808 images (11.14%)\n",
      "processed 100/808 images (12.38%)\n",
      "processed 110/808 images (13.61%)\n",
      "processed 120/808 images (14.85%)\n",
      "processed 130/808 images (16.09%)\n",
      "processed 140/808 images (17.33%)\n",
      "processed 150/808 images (18.56%)\n",
      "processed 160/808 images (19.8%)\n",
      "processed 170/808 images (21.04%)\n",
      "processed 180/808 images (22.28%)\n",
      "processed 190/808 images (23.51%)\n",
      "processed 200/808 images (24.75%)\n",
      "processed 210/808 images (25.99%)\n",
      "processed 220/808 images (27.23%)\n",
      "processed 230/808 images (28.47%)\n",
      "processed 240/808 images (29.7%)\n",
      "processed 250/808 images (30.94%)\n",
      "processed 260/808 images (32.18%)\n",
      "processed 270/808 images (33.42%)\n",
      "processed 280/808 images (34.65%)\n",
      "processed 290/808 images (35.89%)\n",
      "processed 300/808 images (37.13%)\n",
      "processed 310/808 images (38.37%)\n",
      "processed 320/808 images (39.6%)\n",
      "processed 330/808 images (40.84%)\n",
      "processed 340/808 images (42.08%)\n",
      "processed 350/808 images (43.32%)\n",
      "processed 360/808 images (44.55%)\n",
      "processed 370/808 images (45.79%)\n",
      "processed 380/808 images (47.03%)\n",
      "processed 390/808 images (48.27%)\n",
      "processed 400/808 images (49.5%)\n",
      "processed 410/808 images (50.74%)\n",
      "processed 420/808 images (51.98%)\n",
      "processed 430/808 images (53.22%)\n",
      "processed 440/808 images (54.46%)\n",
      "processed 450/808 images (55.69%)\n",
      "processed 460/808 images (56.93%)\n",
      "processed 470/808 images (58.17%)\n",
      "processed 480/808 images (59.41%)\n",
      "processed 490/808 images (60.64%)\n",
      "processed 500/808 images (61.88%)\n",
      "processed 510/808 images (63.12%)\n",
      "processed 520/808 images (64.36%)\n",
      "processed 530/808 images (65.59%)\n",
      "processed 540/808 images (66.83%)\n",
      "processed 550/808 images (68.07%)\n",
      "processed 560/808 images (69.31%)\n",
      "processed 570/808 images (70.54%)\n",
      "processed 580/808 images (71.78%)\n",
      "processed 590/808 images (73.02%)\n",
      "processed 600/808 images (74.26%)\n",
      "processed 610/808 images (75.5%)\n",
      "processed 620/808 images (76.73%)\n",
      "processed 630/808 images (77.97%)\n",
      "processed 640/808 images (79.21%)\n",
      "processed 650/808 images (80.45%)\n",
      "processed 660/808 images (81.68%)\n",
      "processed 670/808 images (82.92%)\n",
      "processed 680/808 images (84.16%)\n",
      "processed 690/808 images (85.4%)\n",
      "processed 700/808 images (86.63%)\n",
      "processed 710/808 images (87.87%)\n",
      "processed 720/808 images (89.11%)\n",
      "processed 730/808 images (90.35%)\n",
      "processed 740/808 images (91.58%)\n",
      "processed 750/808 images (92.82%)\n",
      "processed 760/808 images (94.06%)\n",
      "processed 770/808 images (95.3%)\n",
      "processed 780/808 images (96.53%)\n",
      "processed 790/808 images (97.77%)\n",
      "processed 800/808 images (99.01%)\n"
     ]
    }
   ],
   "source": [
    "#%%time # usually it takes ~ 8 mins\n",
    "i=0\n",
    "img_count = len(test_files_names)\n",
    "\n",
    "siamese_distance_only_preds = []\n",
    "for test_file_name in test_files_names:\n",
    "    mask = all_names != test_file_name\n",
    "    all_other_images = all_names[mask]  \n",
    "    assert len(all_other_images) == (all_file_count - 1)   \n",
    "    test_file_pairs = [(test_file_name, other_image) for other_image in all_other_images]  \n",
    "    \n",
    "    prediction_generator = DataGeneratorFromEmbeddings(test_file_pairs, all_embeddings, labels=None, batch_size=19, shuffle=False)\n",
    "    predictions = model.predict_generator(prediction_generator)\n",
    "    \n",
    "    indices = np.argsort(-predictions, axis=0)\n",
    "    names_of_top_predictions = all_other_images[indices[:20].reshape(-1)]\n",
    "    siamese_distance_only_preds.append(np.concatenate(([test_file_name], names_of_top_predictions)))\n",
    "    \n",
    "    #progress tracking\n",
    "    i += 1\n",
    "    if (i%10 == 0):\n",
    "        print(\"processed {}/{} images ({}%)\".format(i,img_count,round(i/img_count*100,2)))"
   ]
  },
  {
   "cell_type": "markdown",
   "metadata": {},
   "source": [
    "And create a new submission file"
   ]
  },
  {
   "cell_type": "code",
   "execution_count": 1,
   "metadata": {},
   "outputs": [
    {
     "ename": "NameError",
     "evalue": "name 'OUT_FILE' is not defined",
     "output_type": "error",
     "traceback": [
      "\u001b[1;31m---------------------------------------------------------------------------\u001b[0m",
      "\u001b[1;31mNameError\u001b[0m                                 Traceback (most recent call last)",
      "\u001b[1;32m<ipython-input-1-920aee77868d>\u001b[0m in \u001b[0;36m<module>\u001b[1;34m\u001b[0m\n\u001b[1;32m----> 1\u001b[1;33m \u001b[1;32mwith\u001b[0m \u001b[0mopen\u001b[0m\u001b[1;33m(\u001b[0m\u001b[0mOUT_FILE\u001b[0m\u001b[1;33m,\u001b[0m \u001b[1;34m'w'\u001b[0m\u001b[1;33m)\u001b[0m \u001b[1;32mas\u001b[0m \u001b[0mf\u001b[0m\u001b[1;33m:\u001b[0m\u001b[1;33m\u001b[0m\u001b[1;33m\u001b[0m\u001b[0m\n\u001b[0m\u001b[0;32m      2\u001b[0m     \u001b[1;32mfor\u001b[0m \u001b[0mentry\u001b[0m \u001b[1;32min\u001b[0m \u001b[0msiamese_distance_only_preds\u001b[0m\u001b[1;33m:\u001b[0m\u001b[1;33m\u001b[0m\u001b[1;33m\u001b[0m\u001b[0m\n\u001b[0;32m      3\u001b[0m         \u001b[0mpreds\u001b[0m \u001b[1;33m=\u001b[0m \u001b[1;34m','\u001b[0m\u001b[1;33m.\u001b[0m\u001b[0mjoin\u001b[0m\u001b[1;33m(\u001b[0m\u001b[0mentry\u001b[0m\u001b[1;33m)\u001b[0m\u001b[1;33m\u001b[0m\u001b[1;33m\u001b[0m\u001b[0m\n\u001b[0;32m      4\u001b[0m         \u001b[0mf\u001b[0m\u001b[1;33m.\u001b[0m\u001b[0mwrite\u001b[0m\u001b[1;33m(\u001b[0m\u001b[0mpreds\u001b[0m \u001b[1;33m+\u001b[0m \u001b[1;34m'\\n'\u001b[0m\u001b[1;33m)\u001b[0m\u001b[1;33m\u001b[0m\u001b[1;33m\u001b[0m\u001b[0m\n",
      "\u001b[1;31mNameError\u001b[0m: name 'OUT_FILE' is not defined"
     ]
    }
   ],
   "source": [
    "with open(OUT_FILE, 'w') as f:\n",
    "    for entry in siamese_distance_only_preds:\n",
    "        preds = ','.join(entry)  \n",
    "        f.write(preds + '\\n')  "
   ]
  },
  {
   "cell_type": "markdown",
   "metadata": {},
   "source": [
    "Upon uploading the file, we get a score of *16.01* which is **worse than our baseline**.\n",
    "What is going on?\n",
    "\n",
    "**Excercise:**\n",
    "- Figure out the mistakes we did when training the model and fix them."
   ]
  },
  {
   "cell_type": "markdown",
   "metadata": {},
   "source": [
    "<font color='blue'>\n",
    "    \n",
    "**Best practice:** \n",
    "    \n",
    "- If your results are worse than your baseline, you probably made a very basic mistake."
   ]
  },
  {
   "cell_type": "markdown",
   "metadata": {},
   "source": [
    "# Summary\n",
    "In this tutorial we learned about deep learning and how it revolutionized image processing.\n",
    "We build a baseline model based on image embeddings and the cosine similarity and finally trained a first deep learning model.\n",
    "Unfortunately, the results we got were worse than our baseline.\n",
    "\n",
    "In the next tutorial we will\n",
    "- Analyse and fix the problems in our current model\n",
    "- Learn how to use AWS to train larger and better models\n",
    "- Discuss potential further improvements"
   ]
  }
 ],
 "metadata": {
  "kernelspec": {
   "display_name": "Python 3",
   "language": "python",
   "name": "python3"
  },
  "language_info": {
   "codemirror_mode": {
    "name": "ipython",
    "version": 3
   },
   "file_extension": ".py",
   "mimetype": "text/x-python",
   "name": "python",
   "nbconvert_exporter": "python",
   "pygments_lexer": "ipython3",
   "version": "3.7.6"
  },
  "toc": {
   "base_numbering": 1,
   "nav_menu": {},
   "number_sections": true,
   "sideBar": true,
   "skip_h1_title": false,
   "title_cell": "Table of Contents",
   "title_sidebar": "Contents",
   "toc_cell": false,
   "toc_position": {
    "height": "calc(100% - 180px)",
    "left": "10px",
    "top": "150px",
    "width": "349.091px"
   },
   "toc_section_display": true,
   "toc_window_display": true
  }
 },
 "nbformat": 4,
 "nbformat_minor": 4
}
